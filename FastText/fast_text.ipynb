{
 "cells": [
  {
   "cell_type": "code",
   "execution_count": 2,
   "id": "1cb0f308",
   "metadata": {},
   "outputs": [],
   "source": [
    "import fasttext\n",
    "import pandas as pd\n",
    "import jieba\n",
    "import re\n",
    "import csv"
   ]
  },
  {
   "cell_type": "code",
   "execution_count": 3,
   "id": "51b114f3",
   "metadata": {},
   "outputs": [
    {
     "name": "stderr",
     "output_type": "stream",
     "text": [
      "Building prefix dict from the default dictionary ...\n",
      "Loading model from cache /var/folders/d1/4_gsqv2176z583_7rmpm27lh0000gn/T/jieba.cache\n",
      "Loading model cost 0.404 seconds.\n",
      "Prefix dict has been built successfully.\n"
     ]
    }
   ],
   "source": [
    "stopwords = [line.strip() for line in open('../../stopwords/cn_stopwords.txt', 'r', encoding='utf-8').readlines()]\n",
    "\n",
    "def process_text(title):\n",
    "    # 去除标点符号\n",
    "    title = re.sub(r'[^\\u4e00-\\u9fa5]', '', title)\n",
    "    # jieba分词\n",
    "    sentence_seged = jieba.cut(title.strip())    \n",
    "    outstr = ''\n",
    "    for word in sentence_seged:\n",
    "        if word != '\\t' and word not in stopwords:\n",
    "            outstr += word\n",
    "            outstr += ' '\n",
    "    return outstr\n",
    "\n",
    "df_train = pd.read_csv('../../datasets/THUCNews/train.csv')\n",
    "df_train = df_train.dropna().sample(200000).reset_index(drop=True)\n",
    "# 处理成fasttext所需的格式\n",
    "df_train['label'] = '__label__' + df_train['class']\n",
    "df_train['text'] = df_train['title'].map(process_text)\n",
    "df_train['label_text'] = df_train['label'] + ',' + df_train['text']\n",
    "fasttext_train = df_train[['label_text']]\n",
    "fasttext_train.to_csv('./fasttext_train.txt', header=None, index=False, quoting=csv.QUOTE_NONE, escapechar=' ')\n",
    "\n",
    "df_test = pd.read_csv('../../datasets/THUCNews/test.csv')\n",
    "df_test['label'] = '__label__' + df_test['class']\n",
    "df_test['text'] = df_test['title'].map(process_text)\n",
    "df_test['label_text'] = df_test['label'] + ',' + df_test['text']\n",
    "fasttext_test = df_test[['label_text']]\n",
    "fasttext_test.to_csv('./fasttext_test.txt', header=None, index=False, quoting=csv.QUOTE_NONE, escapechar=' ')"
   ]
  },
  {
   "cell_type": "code",
   "execution_count": 4,
   "id": "6d569ed5",
   "metadata": {},
   "outputs": [
    {
     "name": "stderr",
     "output_type": "stream",
     "text": [
      "Read 1M words\n",
      "Number of words:  142998\n",
      "Number of labels: 14\n",
      "Progress: 100.0% words/sec/thread: 1176625 lr:  0.000000 avg.loss:  0.306210 ETA:   0h 0m 0s\n"
     ]
    }
   ],
   "source": [
    "# 训练模型\n",
    "model = fasttext.train_supervised('./fasttext_train.txt')"
   ]
  },
  {
   "cell_type": "code",
   "execution_count": 8,
   "id": "3508898c",
   "metadata": {},
   "outputs": [
    {
     "name": "stdout",
     "output_type": "stream",
     "text": [
      "(('__label__娱乐',), array([0.99949753]))\n",
      "(('__label__科技',), array([0.99889702]))\n"
     ]
    }
   ],
   "source": [
    "print(model.predict('盘点 明星 私生子 爱情 事故 戏外 戏图'))\n",
    "print(model.predict('微软 员工 微博 泄密 手机 遭 解雇'))"
   ]
  },
  {
   "cell_type": "code",
   "execution_count": 9,
   "id": "a6bd645c",
   "metadata": {},
   "outputs": [
    {
     "data": {
      "text/plain": [
       "(200000, 0.989245, 0.989245)"
      ]
     },
     "execution_count": 9,
     "metadata": {},
     "output_type": "execute_result"
    }
   ],
   "source": [
    "# 训练集的precision和recall\n",
    "model.test('fasttext_train.txt')"
   ]
  },
  {
   "cell_type": "code",
   "execution_count": 10,
   "id": "12df53fb",
   "metadata": {},
   "outputs": [
    {
     "data": {
      "text/plain": [
       "(167215, 0.8865831414645815, 0.8865831414645815)"
      ]
     },
     "execution_count": 10,
     "metadata": {},
     "output_type": "execute_result"
    }
   ],
   "source": [
    "# 测试集的precision和recall\n",
    "model.test('fasttext_test.txt')"
   ]
  },
  {
   "cell_type": "code",
   "execution_count": null,
   "id": "abf95821",
   "metadata": {},
   "outputs": [],
   "source": []
  }
 ],
 "metadata": {
  "kernelspec": {
   "display_name": "Python 3 (ipykernel)",
   "language": "python",
   "name": "python3"
  },
  "language_info": {
   "codemirror_mode": {
    "name": "ipython",
    "version": 3
   },
   "file_extension": ".py",
   "mimetype": "text/x-python",
   "name": "python",
   "nbconvert_exporter": "python",
   "pygments_lexer": "ipython3",
   "version": "3.9.12"
  }
 },
 "nbformat": 4,
 "nbformat_minor": 5
}
