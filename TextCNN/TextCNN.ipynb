{
 "cells": [
  {
   "cell_type": "code",
   "execution_count": 1,
   "id": "9b2b39d4",
   "metadata": {},
   "outputs": [],
   "source": [
    "import os\n",
    "os.environ['KMP_DUPLICATE_LIB_OK'] = 'True'\n",
    "\n",
    "import torch\n",
    "import torchtext\n",
    "import torch.nn as nn\n",
    "from torch.utils.data import Dataset\n",
    "from torch.utils.data import DataLoader\n",
    "from torch.nn.utils.rnn import pad_sequence\n",
    "\n",
    "import pandas as pd\n",
    "import re\n",
    "from collections import Counter\n",
    "from tqdm.notebook import tqdm\n",
    "\n",
    "device = torch.device('cuda' if torch.cuda.is_available() else 'cpu')  # 能用gpu则用gpu"
   ]
  },
  {
   "cell_type": "markdown",
   "id": "445cad71",
   "metadata": {},
   "source": [
    "# 1.准备数据"
   ]
  },
  {
   "cell_type": "code",
   "execution_count": 2,
   "id": "31b60ec2",
   "metadata": {},
   "outputs": [],
   "source": [
    "class MyDataset(Dataset):\n",
    "    def __init__(self, file_path, tokenizer, stopwords, debug=True):\n",
    "        df = pd.read_csv(file_path)\n",
    "        df = df.dropna().reset_index(drop=True)\n",
    "        if debug:\n",
    "            df = df.sample(2000).reset_index(drop=True)\n",
    "        counter = Counter()\n",
    "        sentences = []\n",
    "        for title in tqdm(df['title']):\n",
    "            # 去除标点符号\n",
    "            title = re.sub(r'[^\\u4e00-\\u9fa5]', '', title)\n",
    "            tokens = [token for token in tokenizer(title.strip()) if token not in stopwords]\n",
    "            counter.update(tokens)\n",
    "            sentences.append(tokens)\n",
    "        self.vocab = torchtext.vocab.vocab(counter, specials=['<unk>', '<pad>'])\n",
    "        self.vocab.set_default_index(self.vocab['<unk>'])\n",
    "\n",
    "        self.inputs = [self.vocab.lookup_indices(tokens) for tokens in sentences]\n",
    "        self.labels = [[label] for label in df['label'].values.tolist()]\n",
    "        self.n_class = len(df['label'].unique())\n",
    "\n",
    "    def __len__(self):\n",
    "        return len(self.labels)\n",
    "\n",
    "    def __getitem__(self, idx):\n",
    "        return torch.LongTensor(self.inputs[idx]), torch.LongTensor(self.labels[idx])"
   ]
  },
  {
   "cell_type": "code",
   "execution_count": 3,
   "id": "534d11c1",
   "metadata": {
    "scrolled": true
   },
   "outputs": [
    {
     "data": {
      "application/vnd.jupyter.widget-view+json": {
       "model_id": "fc895d18307542edb85840efe665ca96",
       "version_major": 2,
       "version_minor": 0
      },
      "text/plain": [
       "  0%|          | 0/2000 [00:00<?, ?it/s]"
      ]
     },
     "metadata": {},
     "output_type": "display_data"
    }
   ],
   "source": [
    "file_path = '../data/THUCNews/train.csv'\n",
    "tokenizer = torchtext.data.utils.get_tokenizer('spacy', language='zh_core_web_sm')\n",
    "stopwords = [line.strip() for line in open('../stopwords/cn_stopwords.txt', 'r', encoding='utf-8').readlines()]\n",
    "dataset = MyDataset(file_path, tokenizer, stopwords, debug=True)\n",
    "\n",
    "\n",
    "def collate_fn(batch_data):\n",
    "    return pad_sequence([x for x, y in batch_data], padding_value=1), torch.tensor([y for x, y in batch_data]).unsqueeze(1)\n",
    "\n",
    "\n",
    "dataloader = DataLoader(dataset, batch_size=8, shuffle=True, collate_fn=collate_fn)"
   ]
  },
  {
   "cell_type": "markdown",
   "id": "d34e1d59",
   "metadata": {},
   "source": [
    "# 2.构建模型"
   ]
  },
  {
   "cell_type": "code",
   "execution_count": 4,
   "id": "89951945",
   "metadata": {},
   "outputs": [
    {
     "name": "stdout",
     "output_type": "stream",
     "text": [
      "TextCNN(\n",
      "  (embedding): Embedding(8395, 512)\n",
      "  (conv): Conv2d(1, 16, kernel_size=(3, 512), stride=(1, 1))\n",
      "  (dropout): Dropout(p=0.2, inplace=False)\n",
      "  (fc): Linear(in_features=16, out_features=14, bias=True)\n",
      ")\n"
     ]
    }
   ],
   "source": [
    "class TextCNN(nn.Module):\n",
    "    def __init__(self, vocab_size, embed_size, n_class):\n",
    "        super().__init__()\n",
    "        # 嵌入层\n",
    "        self.embedding = nn.Embedding(vocab_size, embed_size)\n",
    "        # 输入通道为1，卷成16通道输出，卷积核大小为(3*embed_size)，3类似于n-gram，可以换\n",
    "        self.conv = nn.Conv2d(1, 16, (3, embed_size))\n",
    "        self.dropout = nn.Dropout(0.2)\n",
    "        # 输出头\n",
    "        self.fc = nn.Linear(16, n_class)\n",
    "\n",
    "    def forward(self, x):  # x: [batch_size * 句子长度]\n",
    "        x = x.permute(1, 0)\n",
    "        x = self.embedding(x)  # [batch_size * 句子长度 * embed_size]\n",
    "        x = x.unsqueeze(1)  # [batch_size * 1 * 句子长度 * embed_size]，加一个维度，用于卷积层的输入\n",
    "        x = self.conv(x)  # [batch_size * 16(卷积层输出通道数) * 8(卷积后的宽) * 1(卷积后的高)]\n",
    "        x = x.squeeze(3)  # [batch_size * 16(卷积层输出通道数) * 8(卷积后的宽)] 压缩大小为1的维度\n",
    "        x = torch.relu(x)  # 激活函数，尺寸不变\n",
    "        x = torch.max_pool1d(x, x.size(2))  # 在每个通道做最大池化，[batch_size * 16(卷积层输出通道数) * 1]\n",
    "        x = x.squeeze(2)  # 压缩维度2，[batch_size * 16(卷积层输出通道数)]\n",
    "        x = self.dropout(x)  # dropout，尺寸不变\n",
    "        logits = self.fc(x)  # 全连接输出头，[batch_size * n_class]\n",
    "        return logits\n",
    "\n",
    "\n",
    "model = TextCNN(vocab_size=len(dataset.vocab), embed_size=512, n_class=dataset.n_class).to(device)\n",
    "print(model)"
   ]
  },
  {
   "cell_type": "markdown",
   "id": "59172418",
   "metadata": {},
   "source": [
    "# 3.训练模型"
   ]
  },
  {
   "cell_type": "code",
   "execution_count": 5,
   "id": "17b19d88",
   "metadata": {
    "scrolled": true
   },
   "outputs": [
    {
     "name": "stdout",
     "output_type": "stream",
     "text": [
      "epoch: 1 , loss: 1.6783087253570557\n",
      "epoch: 2 , loss: 1.125728964805603\n",
      "epoch: 3 , loss: 1.435263752937317\n",
      "epoch: 4 , loss: 1.0876044034957886\n",
      "epoch: 5 , loss: 0.2656219005584717\n"
     ]
    }
   ],
   "source": [
    "optimizer = torch.optim.Adam(model.parameters(), lr=0.001)\n",
    "criterion = nn.CrossEntropyLoss()\n",
    "model.train()\n",
    "for epoch in range(5):\n",
    "    for feature, target in dataloader:\n",
    "        feature = feature.to(device)\n",
    "        target = target.to(device)\n",
    "        optimizer.zero_grad()\n",
    "        logits = model(feature)\n",
    "        loss = criterion(logits, target.squeeze())\n",
    "        loss.backward()\n",
    "        optimizer.step()\n",
    "    print('epoch:', epoch + 1, ', loss:', loss.item())"
   ]
  },
  {
   "cell_type": "markdown",
   "id": "92e47a9d",
   "metadata": {},
   "source": [
    "# 4.预测"
   ]
  },
  {
   "cell_type": "code",
   "execution_count": 6,
   "id": "886b6d91",
   "metadata": {},
   "outputs": [],
   "source": [
    "model.eval()\n",
    "df_train = pd.read_csv('../data/THUCNews/train.csv')\n",
    "df_test = pd.read_csv('../data/THUCNews/test.csv')"
   ]
  },
  {
   "cell_type": "code",
   "execution_count": 7,
   "id": "506ae33b",
   "metadata": {},
   "outputs": [
    {
     "name": "stderr",
     "output_type": "stream",
     "text": [
      "[W NNPACK.cpp:51] Could not initialize NNPACK! Reason: Unsupported hardware.\n"
     ]
    },
    {
     "name": "stdout",
     "output_type": "stream",
     "text": [
      "内置 重力 加速 详解 原道 智能 六大 优势 ||| actual: 科技 , predict: 体育\n",
      "高校 干事 挪百万 公款 年 问杀 知情者 灭口 ||| actual: 社会 , predict: 娱乐\n",
      "支持 倍光学 变焦 奥林巴斯 仅 售元 ||| actual: 科技 , predict: 科技\n",
      "国足 冷落 西行誓 做 疯狂 牛曹 阳领队 象棋 大师 ||| actual: 体育 , predict: 体育\n",
      "巴基斯坦 塔利班 新 头目 可能 丧生 ||| actual: 时政 , predict: 时政\n",
      "随地 管理 店铺 淘宝 推出 款定 制手机 ||| actual: 科技 , predict: 科技\n",
      "电力 商季 利润 超 预期 增长 ||| actual: 股票 , predict: 科技\n",
      "仙剑 语音包 最新 宣传 视频 曝光 ||| actual: 游戏 , predict: 娱乐\n",
      "组图 穿上 超萌 熊猫 元素 服饰 变身 潘达 控 ||| actual: 时尚 , predict: 娱乐\n",
      "溢 指续 弹点 中海 发展 近月 狂泻 半数 市值 ||| actual: 股票 , predict: 科技\n"
     ]
    }
   ],
   "source": [
    "for i, row in df_test.sample(10).iterrows():\n",
    "    title = row['title']\n",
    "    actual = row['class']\n",
    "    title = re.sub(r'[^\\u4e00-\\u9fa5]', '', title)\n",
    "    tokens = [token for token in tokenizer(title.strip()) if token not in stopwords]\n",
    "    inputs = dataset.vocab.lookup_indices(tokens)\n",
    "    inputs = torch.LongTensor(inputs).unsqueeze(1)\n",
    "    predict = model(inputs)\n",
    "    predict_class = dict(zip(df_train['label'], df_train['class']))[predict.max(1)[1].item()]    \n",
    "    print(' '.join(tokens), '||| actual:', actual, ', predict:', predict_class)"
   ]
  },
  {
   "cell_type": "code",
   "execution_count": null,
   "id": "25031b63",
   "metadata": {},
   "outputs": [],
   "source": []
  }
 ],
 "metadata": {
  "kernelspec": {
   "display_name": "Python 3 (ipykernel)",
   "language": "python",
   "name": "python3"
  },
  "language_info": {
   "codemirror_mode": {
    "name": "ipython",
    "version": 3
   },
   "file_extension": ".py",
   "mimetype": "text/x-python",
   "name": "python",
   "nbconvert_exporter": "python",
   "pygments_lexer": "ipython3",
   "version": "3.9.12"
  }
 },
 "nbformat": 4,
 "nbformat_minor": 5
}
