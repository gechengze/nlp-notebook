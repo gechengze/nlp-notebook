{
 "cells": [
  {
   "cell_type": "code",
   "execution_count": 1,
   "id": "1cb0f308",
   "metadata": {},
   "outputs": [],
   "source": [
    "import fasttext\n",
    "import pandas as pd\n",
    "import jieba\n",
    "import re\n",
    "import csv\n",
    "from torchtext.data.utils import get_tokenizer"
   ]
  },
  {
   "cell_type": "markdown",
   "id": "1439aa75",
   "metadata": {},
   "source": [
    "# 1.将数据处理成fasttext所需格式"
   ]
  },
  {
   "cell_type": "code",
   "execution_count": 2,
   "id": "78a853fb",
   "metadata": {},
   "outputs": [],
   "source": [
    "def get_fasttext_data(df):\n",
    "    df = df.dropna().sample(20000).reset_index(drop=True)\n",
    "    df['label'] = '__label__' + df['class']\n",
    "\n",
    "    tokenizer = get_tokenizer('spacy', language='zh_core_web_sm')\n",
    "    stopwords = [line.strip() for line in open('../stopwords/cn_stopwords.txt', 'r',\n",
    "                                               encoding='utf-8').readlines()]\n",
    "    def process_text(title):\n",
    "        title = re.sub(r'[^\\u4e00-\\u9fa5]', '', title)   # 去除标点符号\n",
    "        tokens = [token for token in tokenizer(title.strip()) if token not in stopwords]\n",
    "        return ' '.join(tokens)\n",
    "    \n",
    "    df['text'] = df['title'].map(process_text)\n",
    "    df['label_text'] = df['label'] + ',' + df['text']\n",
    "    return df[['label_text']]\n",
    "\n",
    "fasttext_train = get_fasttext_data(pd.read_csv('../data/THUCNews/train.csv'))\n",
    "fasttext_train.to_csv('./fasttext_train.txt', header=None, index=False,\n",
    "                      quoting=csv.QUOTE_NONE, escapechar=' ')\n",
    "\n",
    "fasttext_test = get_fasttext_data(pd.read_csv('../data/THUCNews/test.csv'))\n",
    "fasttext_test.to_csv('./fasttext_test.txt', header=None, index=False,\n",
    "                     quoting=csv.QUOTE_NONE, escapechar=' ')"
   ]
  },
  {
   "cell_type": "markdown",
   "id": "92fb7ba6",
   "metadata": {},
   "source": [
    "# 2.训练模型"
   ]
  },
  {
   "cell_type": "code",
   "execution_count": 3,
   "id": "6d569ed5",
   "metadata": {},
   "outputs": [
    {
     "name": "stderr",
     "output_type": "stream",
     "text": [
      "Read 0M words\n",
      "Number of words:  45313\n",
      "Number of labels: 14\n",
      "Progress: 100.0% words/sec/thread:  650376 lr:  0.000000 avg.loss:  1.075593 ETA:   0h 0m 0s100.0% words/sec/thread:  650728 lr: -0.000023 avg.loss:  1.075593 ETA:   0h 0m 0s\n"
     ]
    }
   ],
   "source": [
    "# 训练模型\n",
    "model = fasttext.train_supervised('./fasttext_train.txt')"
   ]
  },
  {
   "cell_type": "markdown",
   "id": "eeba05d8",
   "metadata": {},
   "source": [
    "# 3.预测"
   ]
  },
  {
   "cell_type": "code",
   "execution_count": 4,
   "id": "3508898c",
   "metadata": {},
   "outputs": [
    {
     "name": "stdout",
     "output_type": "stream",
     "text": [
      "(('__label__娱乐',), array([0.74100626]))\n",
      "(('__label__科技',), array([0.99953055]))\n"
     ]
    }
   ],
   "source": [
    "print(model.predict('盘点 明星 私生子 爱情 事故 戏外 戏图'))\n",
    "print(model.predict('微软 员工 微博 泄密 手机 遭 解雇'))"
   ]
  },
  {
   "cell_type": "code",
   "execution_count": 5,
   "id": "a6bd645c",
   "metadata": {},
   "outputs": [
    {
     "name": "stdout",
     "output_type": "stream",
     "text": [
      "(20000, 0.90685, 0.90685)\n"
     ]
    }
   ],
   "source": [
    "# 训练集的precision和recall\n",
    "print(model.test('fasttext_train.txt'))"
   ]
  },
  {
   "cell_type": "code",
   "execution_count": 6,
   "id": "12df53fb",
   "metadata": {},
   "outputs": [
    {
     "name": "stdout",
     "output_type": "stream",
     "text": [
      "(20000, 0.74325, 0.74325)\n"
     ]
    }
   ],
   "source": [
    "# 测试集的precision和recall\n",
    "print(model.test('fasttext_test.txt'))"
   ]
  },
  {
   "cell_type": "code",
   "execution_count": null,
   "id": "abf95821",
   "metadata": {},
   "outputs": [],
   "source": []
  }
 ],
 "metadata": {
  "kernelspec": {
   "display_name": "Python 3 (ipykernel)",
   "language": "python",
   "name": "python3"
  },
  "language_info": {
   "codemirror_mode": {
    "name": "ipython",
    "version": 3
   },
   "file_extension": ".py",
   "mimetype": "text/x-python",
   "name": "python",
   "nbconvert_exporter": "python",
   "pygments_lexer": "ipython3",
   "version": "3.9.12"
  }
 },
 "nbformat": 4,
 "nbformat_minor": 5
}
