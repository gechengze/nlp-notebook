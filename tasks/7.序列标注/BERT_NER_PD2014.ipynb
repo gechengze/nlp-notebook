{
 "cells": [
  {
   "cell_type": "code",
   "execution_count": 1,
   "id": "5db7f6b7",
   "metadata": {},
   "outputs": [],
   "source": [
    "import os\n",
    "import numpy as np\n",
    "import random\n",
    "from tqdm.notebook import tqdm\n",
    "from tqdm.contrib import tzip\n",
    "\n",
    "import torch\n",
    "device = torch.device('cuda') if torch.cuda.is_available() else torch.device('cpu')\n",
    "from torch.utils.data import Dataset\n",
    "from torch.utils.data import DataLoader\n",
    "from torch.nn.utils.rnn import pad_sequence\n",
    "\n",
    "from transformers import BertTokenizer\n",
    "from transformers import AutoModelForMaskedLM"
   ]
  },
  {
   "cell_type": "code",
   "execution_count": 3,
   "id": "e2d09f6b",
   "metadata": {},
   "outputs": [],
   "source": [
    "class PD2014NER(Dataset):\n",
    "    def __init__(self, source_path, target_path, bio2idx, tokenizer, max_len=512, sample=None):\n",
    "        super(Dataset, self).__init__()\n",
    "        \n",
    "        sources = open(source_path, 'r').readlines()  # 原始句子\n",
    "        targets = open(target_path, 'r').readlines()  # BIO类别\n",
    "        \n",
    "        src_tgt = [(src, tgt) for src, tgt in zip(sources, targets)]\n",
    "        if sample:\n",
    "            src_tgt = random.sample(src_tgt, k=sample)\n",
    "\n",
    "        self.sentences = []\n",
    "        self.labels = []\n",
    "        \n",
    "        for sentence, sentence_bio in tqdm(src_tgt):\n",
    "            if not sentence.strip() or len(sentence) > max_len - 2:\n",
    "                continue\n",
    "            self.sentences.append(tokenizer.encode(sentence.strip().split(' ')))\n",
    "            self.labels.append([bio2idx[bio] for bio in sentence_bio.strip().split(' ')])\n",
    "            \n",
    "    def __getitem__(self, idx):\n",
    "        return (torch.LongTensor(self.sentences[idx]), torch.LongTensor(self.labels[idx]))\n",
    "    \n",
    "    def __len__(self):\n",
    "        return len(self.labels)"
   ]
  },
  {
   "cell_type": "code",
   "execution_count": 4,
   "id": "43c10dd3",
   "metadata": {
    "scrolled": true
   },
   "outputs": [
    {
     "data": {
      "application/vnd.jupyter.widget-view+json": {
       "model_id": "dc7a3010835f4ce798664ef844bd26d4",
       "version_major": 2,
       "version_minor": 0
      },
      "text/plain": [
       "  0%|          | 0/10000 [00:00<?, ?it/s]"
      ]
     },
     "metadata": {},
     "output_type": "display_data"
    }
   ],
   "source": [
    "source_path = '../../datasets/NER/pd2014/source_BIO_2014_cropus.txt'\n",
    "target_path = '../../datasets/NER/pd2014/target_BIO_2014_cropus.txt'\n",
    "\n",
    "BIO = ['O', 'B_LOC', 'I_LOC', 'B_ORG', 'I_ORG', 'B_PER', 'I_PER', 'B_T', 'I_T']\n",
    "bio2idx = {v: k for k, v in enumerate(BIO)}\n",
    "idx2bio = {k: v for k, v in enumerate(BIO)}\n",
    "\n",
    "tokenizer = BertTokenizer.from_pretrained('../../models/bert-base-chinese/')\n",
    "\n",
    "dataset = PD2014NER(source_path, target_path, bio2idx, tokenizer, sample=10000)"
   ]
  },
  {
   "cell_type": "code",
   "execution_count": 6,
   "id": "1acf687a",
   "metadata": {
    "scrolled": true
   },
   "outputs": [
    {
     "name": "stderr",
     "output_type": "stream",
     "text": [
      "Some weights of the model checkpoint at ../../models/bert-base-chinese/ were not used when initializing BertForMaskedLM: ['cls.seq_relationship.weight', 'cls.seq_relationship.bias']\n",
      "- This IS expected if you are initializing BertForMaskedLM from the checkpoint of a model trained on another task or with another architecture (e.g. initializing a BertForSequenceClassification model from a BertForPreTraining model).\n",
      "- This IS NOT expected if you are initializing BertForMaskedLM from the checkpoint of a model that you expect to be exactly identical (initializing a BertForSequenceClassification model from a BertForSequenceClassification model).\n"
     ]
    },
    {
     "data": {
      "application/vnd.jupyter.widget-view+json": {
       "model_id": "284186bed62142028621f06328dae8b6",
       "version_major": 2,
       "version_minor": 0
      },
      "text/plain": [
       "  0%|          | 0/611 [00:00<?, ?it/s]"
      ]
     },
     "metadata": {},
     "output_type": "display_data"
    },
    {
     "name": "stdout",
     "output_type": "stream",
     "text": [
      "Epochs:1|Train Loss: 0.001872\n"
     ]
    },
    {
     "data": {
      "application/vnd.jupyter.widget-view+json": {
       "model_id": "4cff95772255499eab1639ecbf923626",
       "version_major": 2,
       "version_minor": 0
      },
      "text/plain": [
       "  0%|          | 0/611 [00:00<?, ?it/s]"
      ]
     },
     "metadata": {},
     "output_type": "display_data"
    },
    {
     "name": "stdout",
     "output_type": "stream",
     "text": [
      "Epochs:2|Train Loss: 0.000568\n"
     ]
    },
    {
     "data": {
      "application/vnd.jupyter.widget-view+json": {
       "model_id": "9c489764765341f7ba808e84ddfef3f0",
       "version_major": 2,
       "version_minor": 0
      },
      "text/plain": [
       "  0%|          | 0/611 [00:00<?, ?it/s]"
      ]
     },
     "metadata": {},
     "output_type": "display_data"
    },
    {
     "name": "stdout",
     "output_type": "stream",
     "text": [
      "Epochs:3|Train Loss: 0.000339\n"
     ]
    },
    {
     "data": {
      "application/vnd.jupyter.widget-view+json": {
       "model_id": "03285126a75d482b8121d5cb467af25b",
       "version_major": 2,
       "version_minor": 0
      },
      "text/plain": [
       "  0%|          | 0/611 [00:00<?, ?it/s]"
      ]
     },
     "metadata": {},
     "output_type": "display_data"
    },
    {
     "name": "stdout",
     "output_type": "stream",
     "text": [
      "Epochs:4|Train Loss: 0.000268\n"
     ]
    },
    {
     "data": {
      "application/vnd.jupyter.widget-view+json": {
       "model_id": "59bb1fa3d00541ce82cffec03e0e7131",
       "version_major": 2,
       "version_minor": 0
      },
      "text/plain": [
       "  0%|          | 0/611 [00:00<?, ?it/s]"
      ]
     },
     "metadata": {},
     "output_type": "display_data"
    },
    {
     "name": "stdout",
     "output_type": "stream",
     "text": [
      "Epochs:5|Train Loss: 0.000232\n"
     ]
    },
    {
     "data": {
      "application/vnd.jupyter.widget-view+json": {
       "model_id": "f60dde669cb144b6bf98409bd64cfb80",
       "version_major": 2,
       "version_minor": 0
      },
      "text/plain": [
       "  0%|          | 0/611 [00:00<?, ?it/s]"
      ]
     },
     "metadata": {},
     "output_type": "display_data"
    },
    {
     "name": "stdout",
     "output_type": "stream",
     "text": [
      "Epochs:6|Train Loss: 0.000209\n"
     ]
    },
    {
     "data": {
      "application/vnd.jupyter.widget-view+json": {
       "model_id": "b6c21f1850824e109b6652dec19ddd2c",
       "version_major": 2,
       "version_minor": 0
      },
      "text/plain": [
       "  0%|          | 0/611 [00:00<?, ?it/s]"
      ]
     },
     "metadata": {},
     "output_type": "display_data"
    },
    {
     "name": "stdout",
     "output_type": "stream",
     "text": [
      "Epochs:7|Train Loss: 0.000211\n"
     ]
    },
    {
     "data": {
      "application/vnd.jupyter.widget-view+json": {
       "model_id": "9b0bccdc72b94fafb734ee40a81f8b2f",
       "version_major": 2,
       "version_minor": 0
      },
      "text/plain": [
       "  0%|          | 0/611 [00:00<?, ?it/s]"
      ]
     },
     "metadata": {},
     "output_type": "display_data"
    },
    {
     "name": "stdout",
     "output_type": "stream",
     "text": [
      "Epochs:8|Train Loss: 0.000234\n"
     ]
    },
    {
     "data": {
      "application/vnd.jupyter.widget-view+json": {
       "model_id": "a10b5c1b815946539f46228069fe702c",
       "version_major": 2,
       "version_minor": 0
      },
      "text/plain": [
       "  0%|          | 0/611 [00:00<?, ?it/s]"
      ]
     },
     "metadata": {},
     "output_type": "display_data"
    },
    {
     "name": "stdout",
     "output_type": "stream",
     "text": [
      "Epochs:9|Train Loss: 0.000173\n"
     ]
    },
    {
     "data": {
      "application/vnd.jupyter.widget-view+json": {
       "model_id": "65fa9a6e37754d0b85cc62321b10fdc3",
       "version_major": 2,
       "version_minor": 0
      },
      "text/plain": [
       "  0%|          | 0/611 [00:00<?, ?it/s]"
      ]
     },
     "metadata": {},
     "output_type": "display_data"
    },
    {
     "name": "stdout",
     "output_type": "stream",
     "text": [
      "Epochs:10|Train Loss: 0.000168\n"
     ]
    },
    {
     "data": {
      "application/vnd.jupyter.widget-view+json": {
       "model_id": "1ec62c4b98954a479ccf4d69d509041d",
       "version_major": 2,
       "version_minor": 0
      },
      "text/plain": [
       "  0%|          | 0/611 [00:00<?, ?it/s]"
      ]
     },
     "metadata": {},
     "output_type": "display_data"
    },
    {
     "name": "stdout",
     "output_type": "stream",
     "text": [
      "Epochs:11|Train Loss: 0.000176\n"
     ]
    },
    {
     "data": {
      "application/vnd.jupyter.widget-view+json": {
       "model_id": "bd56931052594a4bb278b0899d28974b",
       "version_major": 2,
       "version_minor": 0
      },
      "text/plain": [
       "  0%|          | 0/611 [00:00<?, ?it/s]"
      ]
     },
     "metadata": {},
     "output_type": "display_data"
    },
    {
     "name": "stdout",
     "output_type": "stream",
     "text": [
      "Epochs:12|Train Loss: 0.000203\n"
     ]
    },
    {
     "data": {
      "application/vnd.jupyter.widget-view+json": {
       "model_id": "b46ee225fe23464484963d48edd52892",
       "version_major": 2,
       "version_minor": 0
      },
      "text/plain": [
       "  0%|          | 0/611 [00:00<?, ?it/s]"
      ]
     },
     "metadata": {},
     "output_type": "display_data"
    },
    {
     "name": "stdout",
     "output_type": "stream",
     "text": [
      "Epochs:13|Train Loss: 0.000178\n"
     ]
    },
    {
     "data": {
      "application/vnd.jupyter.widget-view+json": {
       "model_id": "ec1ca23ed4d54513a1c6b6088cc6d5a6",
       "version_major": 2,
       "version_minor": 0
      },
      "text/plain": [
       "  0%|          | 0/611 [00:00<?, ?it/s]"
      ]
     },
     "metadata": {},
     "output_type": "display_data"
    },
    {
     "name": "stdout",
     "output_type": "stream",
     "text": [
      "Epochs:14|Train Loss: 0.000154\n"
     ]
    },
    {
     "data": {
      "application/vnd.jupyter.widget-view+json": {
       "model_id": "d12c2817461148edb183cff105cc7409",
       "version_major": 2,
       "version_minor": 0
      },
      "text/plain": [
       "  0%|          | 0/611 [00:00<?, ?it/s]"
      ]
     },
     "metadata": {},
     "output_type": "display_data"
    },
    {
     "name": "stdout",
     "output_type": "stream",
     "text": [
      "Epochs:15|Train Loss: 0.000207\n"
     ]
    },
    {
     "data": {
      "application/vnd.jupyter.widget-view+json": {
       "model_id": "997d0665226b4d6aa0be9cabe90c4cb6",
       "version_major": 2,
       "version_minor": 0
      },
      "text/plain": [
       "  0%|          | 0/611 [00:00<?, ?it/s]"
      ]
     },
     "metadata": {},
     "output_type": "display_data"
    },
    {
     "name": "stdout",
     "output_type": "stream",
     "text": [
      "Epochs:16|Train Loss: 0.000190\n"
     ]
    },
    {
     "data": {
      "application/vnd.jupyter.widget-view+json": {
       "model_id": "fa56922f422d49af88cb11794fb6a989",
       "version_major": 2,
       "version_minor": 0
      },
      "text/plain": [
       "  0%|          | 0/611 [00:00<?, ?it/s]"
      ]
     },
     "metadata": {},
     "output_type": "display_data"
    },
    {
     "name": "stdout",
     "output_type": "stream",
     "text": [
      "Epochs:17|Train Loss: 0.000141\n"
     ]
    },
    {
     "data": {
      "application/vnd.jupyter.widget-view+json": {
       "model_id": "606a455ed7a440e185ccb44c520da015",
       "version_major": 2,
       "version_minor": 0
      },
      "text/plain": [
       "  0%|          | 0/611 [00:00<?, ?it/s]"
      ]
     },
     "metadata": {},
     "output_type": "display_data"
    },
    {
     "name": "stdout",
     "output_type": "stream",
     "text": [
      "Epochs:18|Train Loss: 0.000131\n"
     ]
    },
    {
     "data": {
      "application/vnd.jupyter.widget-view+json": {
       "model_id": "28a0c69481614501b9ab078cfed7c5a8",
       "version_major": 2,
       "version_minor": 0
      },
      "text/plain": [
       "  0%|          | 0/611 [00:00<?, ?it/s]"
      ]
     },
     "metadata": {},
     "output_type": "display_data"
    },
    {
     "name": "stdout",
     "output_type": "stream",
     "text": [
      "Epochs:19|Train Loss: 0.000129\n"
     ]
    },
    {
     "data": {
      "application/vnd.jupyter.widget-view+json": {
       "model_id": "526551155f9242ccb5fdc2e8cb92210f",
       "version_major": 2,
       "version_minor": 0
      },
      "text/plain": [
       "  0%|          | 0/611 [00:00<?, ?it/s]"
      ]
     },
     "metadata": {},
     "output_type": "display_data"
    },
    {
     "name": "stdout",
     "output_type": "stream",
     "text": [
      "Epochs:20|Train Loss: 0.000185\n"
     ]
    }
   ],
   "source": [
    "num_class = len(BIO)\n",
    "\n",
    "model = AutoModelForMaskedLM.from_pretrained('../../models/bert-base-chinese/')\n",
    "model.cls.predictions.decoder = torch.nn.Linear(768, num_class, bias=True)\n",
    "model = model.to(device)\n",
    "\n",
    "def collate_fn(data_batch):\n",
    "    x_batch, y_batch = [], []\n",
    "    for x, y in data_batch:\n",
    "        x_batch.append(x)\n",
    "        y_batch.append(y)\n",
    "    x_batch = pad_sequence(x_batch, padding_value=tokenizer.pad_token_id, batch_first=True)\n",
    "    y_batch = pad_sequence(y_batch, padding_value=0, batch_first=True)\n",
    "    return x_batch, y_batch\n",
    "\n",
    "dataloader = DataLoader(dataset, batch_size=16, shuffle=True, collate_fn=collate_fn)\n",
    "\n",
    "optimizer = torch.optim.Adam(params=model.parameters(), lr=1e-4)\n",
    "criterion = torch.nn.CrossEntropyLoss()\n",
    "\n",
    "for epoch in range(20):\n",
    "    total_loss_train = 0\n",
    "    for x, y in tqdm(dataloader):\n",
    "        x = x.to(device)\n",
    "        y = y.to(device)\n",
    "        \n",
    "        logits = model(x).logits\n",
    "        logits = logits[:, 1: y.shape[1] + 1, :]  # 首尾的[CLS]和[SEP]去掉\n",
    "        loss = criterion(logits.reshape(-1, num_class), y.reshape(-1))\n",
    "        \n",
    "        model.zero_grad()\n",
    "        loss.backward()\n",
    "        optimizer.step()\n",
    "\n",
    "        total_loss_train += loss.item()\n",
    "        \n",
    "    print(f'Epochs:{epoch + 1}|Train Loss:{total_loss_train / len(dataset): .6f}')\n"
   ]
  },
  {
   "cell_type": "code",
   "execution_count": 224,
   "id": "69d281ce",
   "metadata": {},
   "outputs": [
    {
     "name": "stdout",
     "output_type": "stream",
     "text": [
      "{江苏省:LOC}的{彭于晏:PER}真是太帅了\n"
     ]
    }
   ],
   "source": [
    "text = list('江苏省的彭于晏真是太帅了')\n",
    "test = tokenizer.encode(text)\n",
    "test = torch.LongTensor(test).unsqueeze(0)\n",
    "test = test.to(device)\n",
    "\n",
    "with torch.no_grad():\n",
    "    output = model(test)\n",
    "    argmax = output.logits[0].argmax(dim=1).tolist()[1: -1]\n",
    "bio_predict = [idx2bio[i] for i in argmax]\n",
    "\n",
    "bio_predict_new = []\n",
    "for i in range(len(bio_predict) - 1):\n",
    "    if bio_predict[i] == bio_predict[i + 1] or bio_predict[i] == 'O':\n",
    "        continue\n",
    "    bio_predict_new.append((i, bio_predict[i]))\n",
    "    \n",
    "bio_predict_new2 = []\n",
    "for i in range(0, len(bio_predict_new), 2):\n",
    "    bio_predict_new2.append((bio_predict_new[i][1].split('_')[1],\n",
    "                             bio_predict_new[i][0],\n",
    "                             bio_predict_new[i + 1][0]))\n",
    "    \n",
    "shift = 0\n",
    "for bio_type, start, end in bio_predict_new2:\n",
    "    text.insert(start + shift, '{')\n",
    "    shift += 1\n",
    "    text.insert(end + 1 + shift, ':' + bio_type + '}')\n",
    "    shift += 1\n",
    "    \n",
    "print(''.join(text))"
   ]
  },
  {
   "cell_type": "code",
   "execution_count": null,
   "id": "d811665f",
   "metadata": {},
   "outputs": [],
   "source": []
  }
 ],
 "metadata": {
  "kernelspec": {
   "display_name": "Python 3 (ipykernel)",
   "language": "python",
   "name": "python3"
  },
  "language_info": {
   "codemirror_mode": {
    "name": "ipython",
    "version": 3
   },
   "file_extension": ".py",
   "mimetype": "text/x-python",
   "name": "python",
   "nbconvert_exporter": "python",
   "pygments_lexer": "ipython3",
   "version": "3.9.7"
  }
 },
 "nbformat": 4,
 "nbformat_minor": 5
}
