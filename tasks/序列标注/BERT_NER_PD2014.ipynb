{
 "cells": [
  {
   "cell_type": "code",
   "execution_count": 1,
   "id": "5db7f6b7",
   "metadata": {},
   "outputs": [],
   "source": [
    "import os\n",
    "import numpy as np\n",
    "import random\n",
    "from tqdm.notebook import tqdm\n",
    "from tqdm.contrib import tzip\n",
    "\n",
    "import torch\n",
    "device = torch.device('cuda') if torch.cuda.is_available() else torch.device('cpu')\n",
    "from torch.utils.data import Dataset\n",
    "from torch.utils.data import DataLoader\n",
    "from torch.nn.utils.rnn import pad_sequence\n",
    "\n",
    "from transformers import BertTokenizer\n",
    "from transformers import AutoModelForMaskedLM"
   ]
  },
  {
   "cell_type": "code",
   "execution_count": 2,
   "id": "e2d09f6b",
   "metadata": {},
   "outputs": [],
   "source": [
    "class PD2014NER(Dataset):\n",
    "    def __init__(self, source_path, target_path, bio2idx, tokenizer, max_len=512, sample=None):\n",
    "        super(Dataset, self).__init__()\n",
    "        \n",
    "        sources = open(source_path, 'r').readlines()  # 原始句子\n",
    "        targets = open(target_path, 'r').readlines()  # BIO类别\n",
    "        \n",
    "        src_tgt = [(src, tgt) for src, tgt in zip(sources, targets)]\n",
    "        if sample:\n",
    "            src_tgt = random.sample(src_tgt, k=sample)\n",
    "\n",
    "        self.sentences = []\n",
    "        self.labels = []\n",
    "        \n",
    "        for sentence, sentence_bio in tqdm(src_tgt):\n",
    "            if not sentence.strip() or len(sentence) > max_len - 2:\n",
    "                continue\n",
    "            self.sentences.append(tokenizer.encode(sentence.strip().split(' ')))\n",
    "            self.labels.append([bio2idx[bio] for bio in sentence_bio.strip().split(' ')])\n",
    "            \n",
    "    def __getitem__(self, idx):\n",
    "        return (torch.LongTensor(self.sentences[idx]), torch.LongTensor(self.labels[idx]))\n",
    "    \n",
    "    def __len__(self):\n",
    "        return len(self.labels)"
   ]
  },
  {
   "cell_type": "code",
   "execution_count": 5,
   "id": "43c10dd3",
   "metadata": {
    "scrolled": true
   },
   "outputs": [
    {
     "data": {
      "application/vnd.jupyter.widget-view+json": {
       "model_id": "1d38b24e80564bc3957378784f242999",
       "version_major": 2,
       "version_minor": 0
      },
      "text/plain": [
       "  0%|          | 0/10000 [00:00<?, ?it/s]"
      ]
     },
     "metadata": {},
     "output_type": "display_data"
    }
   ],
   "source": [
    "source_path = '../../../datasets/NER/pd2014/source_BIO_2014_cropus.txt'\n",
    "target_path = '../../../datasets/NER/pd2014/target_BIO_2014_cropus.txt'\n",
    "\n",
    "BIO = ['O', 'B_LOC', 'I_LOC', 'B_ORG', 'I_ORG', 'B_PER', 'I_PER', 'B_T', 'I_T']\n",
    "bio2idx = {v: k for k, v in enumerate(BIO)}\n",
    "idx2bio = {k: v for k, v in enumerate(BIO)}\n",
    "\n",
    "tokenizer = BertTokenizer.from_pretrained('../../../models/bert-base-chinese/')\n",
    "\n",
    "dataset = PD2014NER(source_path, target_path, bio2idx, tokenizer, sample=10000)"
   ]
  },
  {
   "cell_type": "code",
   "execution_count": 10,
   "id": "1acf687a",
   "metadata": {
    "scrolled": true
   },
   "outputs": [
    {
     "name": "stderr",
     "output_type": "stream",
     "text": [
      "Some weights of the model checkpoint at ../../../models/bert-base-chinese/ were not used when initializing BertForMaskedLM: ['cls.seq_relationship.bias', 'cls.seq_relationship.weight']\n",
      "- This IS expected if you are initializing BertForMaskedLM from the checkpoint of a model trained on another task or with another architecture (e.g. initializing a BertForSequenceClassification model from a BertForPreTraining model).\n",
      "- This IS NOT expected if you are initializing BertForMaskedLM from the checkpoint of a model that you expect to be exactly identical (initializing a BertForSequenceClassification model from a BertForSequenceClassification model).\n"
     ]
    },
    {
     "data": {
      "application/vnd.jupyter.widget-view+json": {
       "model_id": "321593a5ca2c4dadb44c267f41740111",
       "version_major": 2,
       "version_minor": 0
      },
      "text/plain": [
       "  0%|          | 0/611 [00:00<?, ?it/s]"
      ]
     },
     "metadata": {},
     "output_type": "display_data"
    },
    {
     "name": "stdout",
     "output_type": "stream",
     "text": [
      "Epochs:1|Train Loss: 0.001729\n"
     ]
    },
    {
     "data": {
      "application/vnd.jupyter.widget-view+json": {
       "model_id": "9b3a8fc64a25445eb0ce9ce4df10e94b",
       "version_major": 2,
       "version_minor": 0
      },
      "text/plain": [
       "  0%|          | 0/611 [00:00<?, ?it/s]"
      ]
     },
     "metadata": {},
     "output_type": "display_data"
    },
    {
     "name": "stdout",
     "output_type": "stream",
     "text": [
      "Epochs:2|Train Loss: 0.000572\n"
     ]
    },
    {
     "data": {
      "application/vnd.jupyter.widget-view+json": {
       "model_id": "3575d55a8238460f820d1b30c99f285d",
       "version_major": 2,
       "version_minor": 0
      },
      "text/plain": [
       "  0%|          | 0/611 [00:00<?, ?it/s]"
      ]
     },
     "metadata": {},
     "output_type": "display_data"
    },
    {
     "name": "stdout",
     "output_type": "stream",
     "text": [
      "Epochs:3|Train Loss: 0.000329\n"
     ]
    },
    {
     "data": {
      "application/vnd.jupyter.widget-view+json": {
       "model_id": "c41dc4ff29f740ab8373ed40bc287ed6",
       "version_major": 2,
       "version_minor": 0
      },
      "text/plain": [
       "  0%|          | 0/611 [00:00<?, ?it/s]"
      ]
     },
     "metadata": {},
     "output_type": "display_data"
    },
    {
     "name": "stdout",
     "output_type": "stream",
     "text": [
      "Epochs:4|Train Loss: 0.000271\n"
     ]
    },
    {
     "data": {
      "application/vnd.jupyter.widget-view+json": {
       "model_id": "c212fbca408b457f8a521ce7995f755f",
       "version_major": 2,
       "version_minor": 0
      },
      "text/plain": [
       "  0%|          | 0/611 [00:00<?, ?it/s]"
      ]
     },
     "metadata": {},
     "output_type": "display_data"
    },
    {
     "name": "stdout",
     "output_type": "stream",
     "text": [
      "Epochs:5|Train Loss: 0.000248\n"
     ]
    },
    {
     "data": {
      "application/vnd.jupyter.widget-view+json": {
       "model_id": "ab44ae6aedc245309a0a6ba4bb719262",
       "version_major": 2,
       "version_minor": 0
      },
      "text/plain": [
       "  0%|          | 0/611 [00:00<?, ?it/s]"
      ]
     },
     "metadata": {},
     "output_type": "display_data"
    },
    {
     "name": "stdout",
     "output_type": "stream",
     "text": [
      "Epochs:6|Train Loss: 0.000205\n"
     ]
    },
    {
     "data": {
      "application/vnd.jupyter.widget-view+json": {
       "model_id": "7f6ddc80bc5347fb836c8b937821698e",
       "version_major": 2,
       "version_minor": 0
      },
      "text/plain": [
       "  0%|          | 0/611 [00:00<?, ?it/s]"
      ]
     },
     "metadata": {},
     "output_type": "display_data"
    },
    {
     "name": "stdout",
     "output_type": "stream",
     "text": [
      "Epochs:7|Train Loss: 0.000255\n"
     ]
    },
    {
     "data": {
      "application/vnd.jupyter.widget-view+json": {
       "model_id": "d81a4cf5582647bf95e751fbf290bf02",
       "version_major": 2,
       "version_minor": 0
      },
      "text/plain": [
       "  0%|          | 0/611 [00:00<?, ?it/s]"
      ]
     },
     "metadata": {},
     "output_type": "display_data"
    },
    {
     "name": "stdout",
     "output_type": "stream",
     "text": [
      "Epochs:8|Train Loss: 0.000176\n"
     ]
    },
    {
     "data": {
      "application/vnd.jupyter.widget-view+json": {
       "model_id": "2f0b2baf39ba4493a88d9c6ff61bcd72",
       "version_major": 2,
       "version_minor": 0
      },
      "text/plain": [
       "  0%|          | 0/611 [00:00<?, ?it/s]"
      ]
     },
     "metadata": {},
     "output_type": "display_data"
    },
    {
     "name": "stdout",
     "output_type": "stream",
     "text": [
      "Epochs:9|Train Loss: 0.000176\n"
     ]
    },
    {
     "data": {
      "application/vnd.jupyter.widget-view+json": {
       "model_id": "2a97cfda411949b2a61b0fd700e6835a",
       "version_major": 2,
       "version_minor": 0
      },
      "text/plain": [
       "  0%|          | 0/611 [00:00<?, ?it/s]"
      ]
     },
     "metadata": {},
     "output_type": "display_data"
    },
    {
     "name": "stdout",
     "output_type": "stream",
     "text": [
      "Epochs:10|Train Loss: 0.000181\n"
     ]
    },
    {
     "data": {
      "application/vnd.jupyter.widget-view+json": {
       "model_id": "c2bf22ef9d054471b90d38b0bc93354f",
       "version_major": 2,
       "version_minor": 0
      },
      "text/plain": [
       "  0%|          | 0/611 [00:00<?, ?it/s]"
      ]
     },
     "metadata": {},
     "output_type": "display_data"
    },
    {
     "name": "stdout",
     "output_type": "stream",
     "text": [
      "Epochs:11|Train Loss: 0.000247\n"
     ]
    },
    {
     "data": {
      "application/vnd.jupyter.widget-view+json": {
       "model_id": "bd76be90ae504dbaa4faa1d26cf1badb",
       "version_major": 2,
       "version_minor": 0
      },
      "text/plain": [
       "  0%|          | 0/611 [00:00<?, ?it/s]"
      ]
     },
     "metadata": {},
     "output_type": "display_data"
    },
    {
     "name": "stdout",
     "output_type": "stream",
     "text": [
      "Epochs:12|Train Loss: 0.000188\n"
     ]
    },
    {
     "data": {
      "application/vnd.jupyter.widget-view+json": {
       "model_id": "2bf7f9ef84b140949809f7a8882014c6",
       "version_major": 2,
       "version_minor": 0
      },
      "text/plain": [
       "  0%|          | 0/611 [00:00<?, ?it/s]"
      ]
     },
     "metadata": {},
     "output_type": "display_data"
    },
    {
     "name": "stdout",
     "output_type": "stream",
     "text": [
      "Epochs:13|Train Loss: 0.000205\n"
     ]
    },
    {
     "data": {
      "application/vnd.jupyter.widget-view+json": {
       "model_id": "bfa70579516b48dd81fb58dc7699cbc1",
       "version_major": 2,
       "version_minor": 0
      },
      "text/plain": [
       "  0%|          | 0/611 [00:00<?, ?it/s]"
      ]
     },
     "metadata": {},
     "output_type": "display_data"
    },
    {
     "name": "stdout",
     "output_type": "stream",
     "text": [
      "Epochs:14|Train Loss: 0.000212\n"
     ]
    },
    {
     "data": {
      "application/vnd.jupyter.widget-view+json": {
       "model_id": "c7f51327289346d2abde3363f4a954cb",
       "version_major": 2,
       "version_minor": 0
      },
      "text/plain": [
       "  0%|          | 0/611 [00:00<?, ?it/s]"
      ]
     },
     "metadata": {},
     "output_type": "display_data"
    },
    {
     "name": "stdout",
     "output_type": "stream",
     "text": [
      "Epochs:15|Train Loss: 0.000135\n"
     ]
    },
    {
     "data": {
      "application/vnd.jupyter.widget-view+json": {
       "model_id": "d8649e6df13d4c79be038f742b9c5f4a",
       "version_major": 2,
       "version_minor": 0
      },
      "text/plain": [
       "  0%|          | 0/611 [00:00<?, ?it/s]"
      ]
     },
     "metadata": {},
     "output_type": "display_data"
    },
    {
     "name": "stdout",
     "output_type": "stream",
     "text": [
      "Epochs:16|Train Loss: 0.000092\n"
     ]
    },
    {
     "data": {
      "application/vnd.jupyter.widget-view+json": {
       "model_id": "20a1ce562e7941b09775ab0b3902d657",
       "version_major": 2,
       "version_minor": 0
      },
      "text/plain": [
       "  0%|          | 0/611 [00:00<?, ?it/s]"
      ]
     },
     "metadata": {},
     "output_type": "display_data"
    },
    {
     "name": "stdout",
     "output_type": "stream",
     "text": [
      "Epochs:17|Train Loss: 0.000117\n"
     ]
    },
    {
     "data": {
      "application/vnd.jupyter.widget-view+json": {
       "model_id": "0dd9b7c6256e434f84d1fe7696fcb01d",
       "version_major": 2,
       "version_minor": 0
      },
      "text/plain": [
       "  0%|          | 0/611 [00:00<?, ?it/s]"
      ]
     },
     "metadata": {},
     "output_type": "display_data"
    },
    {
     "name": "stdout",
     "output_type": "stream",
     "text": [
      "Epochs:18|Train Loss: 0.000183\n"
     ]
    },
    {
     "data": {
      "application/vnd.jupyter.widget-view+json": {
       "model_id": "e6c80cbc05604f52a5fdcdc4dc67589f",
       "version_major": 2,
       "version_minor": 0
      },
      "text/plain": [
       "  0%|          | 0/611 [00:00<?, ?it/s]"
      ]
     },
     "metadata": {},
     "output_type": "display_data"
    },
    {
     "name": "stdout",
     "output_type": "stream",
     "text": [
      "Epochs:19|Train Loss: 0.000150\n"
     ]
    },
    {
     "data": {
      "application/vnd.jupyter.widget-view+json": {
       "model_id": "0cab1a114ffc46859f8d2f1ada869c7d",
       "version_major": 2,
       "version_minor": 0
      },
      "text/plain": [
       "  0%|          | 0/611 [00:00<?, ?it/s]"
      ]
     },
     "metadata": {},
     "output_type": "display_data"
    },
    {
     "name": "stdout",
     "output_type": "stream",
     "text": [
      "Epochs:20|Train Loss: 0.000196\n"
     ]
    }
   ],
   "source": [
    "num_class = len(BIO)\n",
    "\n",
    "model = AutoModelForMaskedLM.from_pretrained('../../../models/bert-base-chinese/')\n",
    "model.cls.predictions.decoder = torch.nn.Linear(768, num_class, bias=True)\n",
    "model = model.to(device)\n",
    "\n",
    "def collate_fn(data_batch):\n",
    "    x_batch, y_batch = [], []\n",
    "    for x, y in data_batch:\n",
    "        x_batch.append(x)\n",
    "        y_batch.append(y)\n",
    "    x_batch = pad_sequence(x_batch, padding_value=tokenizer.pad_token_id, batch_first=True)\n",
    "    y_batch = pad_sequence(y_batch, padding_value=0, batch_first=True)\n",
    "    return x_batch, y_batch\n",
    "\n",
    "dataloader = DataLoader(dataset, batch_size=16, shuffle=True, collate_fn=collate_fn)\n",
    "\n",
    "optimizer = torch.optim.Adam(params=model.parameters(), lr=1e-4)\n",
    "criterion = torch.nn.CrossEntropyLoss()\n",
    "\n",
    "for epoch in range(20):\n",
    "    total_loss_train = 0\n",
    "    for x, y in tqdm(dataloader):\n",
    "        x = x.to(device)\n",
    "        y = y.to(device)\n",
    "        \n",
    "        logits = model(x).logits\n",
    "        logits = logits[:, 1: y.shape[1] + 1, :]  # 首尾的[CLS]和[SEP]去掉\n",
    "        loss = criterion(logits.reshape(-1, num_class), y.reshape(-1))\n",
    "        \n",
    "        model.zero_grad()\n",
    "        loss.backward()\n",
    "        optimizer.step()\n",
    "\n",
    "        total_loss_train += loss.item()\n",
    "        \n",
    "    print(f'Epochs:{epoch + 1}|Train Loss:{total_loss_train / len(dataset): .6f}')\n"
   ]
  },
  {
   "cell_type": "code",
   "execution_count": 58,
   "id": "980dda1f",
   "metadata": {},
   "outputs": [],
   "source": [
    "def get_predict_ner(text, argmax):\n",
    "    bio_predict = []\n",
    "    for i in argmax:\n",
    "        if i == 0:\n",
    "            bio_predict.append(idx2bio[i])\n",
    "        else:\n",
    "            bio_predict.append(idx2bio[i].split('_')[1])\n",
    "\n",
    "    bio_predict_new = []\n",
    "    for i in range(len(bio_predict)):\n",
    "        if bio_predict[i] == 'O' or (i > 0 and i < len(bio_predict) - 1 and bio_predict[i] == bio_predict[i - 1] and bio_predict[i] == bio_predict[i + 1]):\n",
    "            continue\n",
    "        bio_predict_new.append((i, bio_predict[i]))\n",
    "\n",
    "    predict_ner = []\n",
    "\n",
    "    i = 0\n",
    "    while i < len(bio_predict_new) - 1:\n",
    "        if bio_predict_new[i][1] != bio_predict_new[i + 1][1]: \n",
    "            predict_ner.append({'ner': ''.join(text[bio_predict_new[i][0]: bio_predict_new[i][0] + 1]),\n",
    "                                'type': bio_predict_new[i][1],\n",
    "                                'start': bio_predict_new[i][0],\n",
    "                                'end': bio_predict_new[i][0]})\n",
    "            i += 1\n",
    "        else:\n",
    "            predict_ner.append({'ner': ''.join(text[bio_predict_new[i][0]: bio_predict_new[i + 1][0] + 1]),\n",
    "                                'type': bio_predict_new[i][1],\n",
    "                                'start': bio_predict_new[i][0],\n",
    "                                'end': bio_predict_new[i + 1][0]})\n",
    "            i += 2\n",
    "    return predict_ner"
   ]
  },
  {
   "cell_type": "code",
   "execution_count": 65,
   "id": "67aea72d",
   "metadata": {},
   "outputs": [
    {
     "data": {
      "text/plain": [
       "[{'ner': '江苏省', 'type': 'LOC', 'start': 0, 'end': 2},\n",
       " {'ner': '刘舒然', 'type': 'PER', 'start': 4, 'end': 6}]"
      ]
     },
     "execution_count": 65,
     "metadata": {},
     "output_type": "execute_result"
    }
   ],
   "source": [
    "text = list('江苏省的刘舒然真是太傻逼了！')\n",
    "encoded = tokenizer.encode(text)\n",
    "encoded = torch.LongTensor(encoded).unsqueeze(0)\n",
    "encoded = encoded.to(device)\n",
    "\n",
    "model.eval()\n",
    "\n",
    "output = model(encoded)\n",
    "argmax = output.logits[0].argmax(dim=1).tolist()[1: -1]\n",
    "\n",
    "get_predict_ner(text, argmax)"
   ]
  },
  {
   "cell_type": "code",
   "execution_count": null,
   "id": "9bd454f6",
   "metadata": {},
   "outputs": [],
   "source": []
  }
 ],
 "metadata": {
  "kernelspec": {
   "display_name": "Python 3 (ipykernel)",
   "language": "python",
   "name": "python3"
  },
  "language_info": {
   "codemirror_mode": {
    "name": "ipython",
    "version": 3
   },
   "file_extension": ".py",
   "mimetype": "text/x-python",
   "name": "python",
   "nbconvert_exporter": "python",
   "pygments_lexer": "ipython3",
   "version": "3.9.7"
  }
 },
 "nbformat": 4,
 "nbformat_minor": 5
}
