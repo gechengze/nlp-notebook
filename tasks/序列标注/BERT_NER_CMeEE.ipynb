{
 "cells": [
  {
   "cell_type": "code",
   "execution_count": 1,
   "id": "69cddae7",
   "metadata": {},
   "outputs": [],
   "source": [
    "import os\n",
    "import json\n",
    "from tqdm.notebook import tqdm\n",
    "import pandas as pd\n",
    "\n",
    "import torch\n",
    "from torch.utils.data import Dataset, DataLoader\n",
    "from torch.nn.utils.rnn import pad_sequence\n",
    "from transformers import BertTokenizer, BertModel\n",
    "\n",
    "device = torch.device('cuda') if torch.cuda.is_available() else torch.device('cpu')"
   ]
  },
  {
   "cell_type": "code",
   "execution_count": 2,
   "id": "7304b118",
   "metadata": {},
   "outputs": [],
   "source": [
    "class CMeEE(Dataset):\n",
    "    def __init__(self, tokenizer):\n",
    "        super().__init__()\n",
    "        with open('../../../datasets/NER/CMeEE-V2/CMeEE-V2_train.json') as json_file:\n",
    "            data = json.load(json_file)\n",
    "        \n",
    "        entity_types = set()\n",
    "        for item in data:\n",
    "            for entity in item['entities']:\n",
    "                entity_types.add(entity['type'])\n",
    "\n",
    "        self.type2idx = {}\n",
    "        idx = 1\n",
    "        for entity_type in entity_types:\n",
    "            self.type2idx['B_' + entity_type.upper()] = idx\n",
    "            self.type2idx['I_' + entity_type.upper()] = idx + 1\n",
    "            idx += 2\n",
    "        \n",
    "        self.all_input_ids = []\n",
    "        self.all_token_type_ids = []\n",
    "        \n",
    "        for item in tqdm(data):\n",
    "            text = item['text']\n",
    "            entities = item['entities']\n",
    "            tokenized = tokenizer(text, return_tensors='pt', max_length=512, truncation=True)\n",
    "            input_ids = tokenized['input_ids'].squeeze(0)\n",
    "            self.all_input_ids.append(input_ids)\n",
    "            \n",
    "            token_type_ids = tokenized['token_type_ids'].squeeze(0)\n",
    "            for entity in entities:\n",
    "                start_idx = entity['start_idx']\n",
    "                end_idx = entity['end_idx']   \n",
    "                if end_idx == start_idx:\n",
    "                    token_type_ids[start_idx: end_idx + 1] = self.type2idx['B_' + entity['type'].upper()]\n",
    "                else:\n",
    "                    token_type_ids[start_idx: start_idx + 1] = self.type2idx['B_' + entity['type'].upper()]\n",
    "                    token_type_ids[start_idx + 1: end_idx + 1] = self.type2idx['I_' + entity['type'].upper()]\n",
    "            self.all_token_type_ids.append(token_type_ids)\n",
    "            \n",
    "    def __getitem__(self, idx):\n",
    "        return self.all_input_ids[idx], self.all_token_type_ids[idx]\n",
    "    \n",
    "    def __len__(self):\n",
    "        return len(self.all_input_ids)"
   ]
  },
  {
   "cell_type": "code",
   "execution_count": 3,
   "id": "29ac81e1",
   "metadata": {},
   "outputs": [
    {
     "data": {
      "application/vnd.jupyter.widget-view+json": {
       "model_id": "c760e4058a6540babcc89386d52df9c1",
       "version_major": 2,
       "version_minor": 0
      },
      "text/plain": [
       "  0%|          | 0/15000 [00:00<?, ?it/s]"
      ]
     },
     "metadata": {},
     "output_type": "display_data"
    }
   ],
   "source": [
    "pretrained_model = '../../../models/bert-base-chinese/'\n",
    "tokenizer = BertTokenizer.from_pretrained(pretrained_model)\n",
    "\n",
    "dataset = CMeEE(tokenizer)"
   ]
  },
  {
   "cell_type": "code",
   "execution_count": 4,
   "id": "0c17824a",
   "metadata": {},
   "outputs": [],
   "source": [
    "def collate_fn(batch_data):\n",
    "    x_batch = pad_sequence([x for x, y in batch_data], padding_value=0, batch_first=True)\n",
    "    y_batch = pad_sequence([y for x, y in batch_data], padding_value=0, batch_first=True)\n",
    "    return x_batch, y_batch\n",
    "    \n",
    "dataloader = DataLoader(dataset, batch_size=8, shuffle=True, collate_fn=collate_fn)"
   ]
  },
  {
   "cell_type": "code",
   "execution_count": 5,
   "id": "47567502",
   "metadata": {},
   "outputs": [
    {
     "name": "stderr",
     "output_type": "stream",
     "text": [
      "Some weights of the model checkpoint at ../../../models/bert-base-chinese/ were not used when initializing BertModel: ['cls.predictions.transform.LayerNorm.bias', 'cls.predictions.decoder.weight', 'cls.predictions.bias', 'cls.seq_relationship.weight', 'cls.seq_relationship.bias', 'cls.predictions.transform.dense.bias', 'cls.predictions.transform.LayerNorm.weight', 'cls.predictions.transform.dense.weight']\n",
      "- This IS expected if you are initializing BertModel from the checkpoint of a model trained on another task or with another architecture (e.g. initializing a BertForSequenceClassification model from a BertForPreTraining model).\n",
      "- This IS NOT expected if you are initializing BertModel from the checkpoint of a model that you expect to be exactly identical (initializing a BertForSequenceClassification model from a BertForSequenceClassification model).\n"
     ]
    },
    {
     "name": "stdout",
     "output_type": "stream",
     "text": [
      "load ckpt\n"
     ]
    }
   ],
   "source": [
    "class BERT_NER_Model(torch.nn.Module):\n",
    "    def __init__(self):\n",
    "        super().__init__()\n",
    "        self.bert = BertModel.from_pretrained('../../../models/bert-base-chinese/')\n",
    "        self.fc = torch.nn.Linear(768, len(dataset.type2idx) + 1)\n",
    "        \n",
    "    def forward(self, x):\n",
    "        last_hidden_state = self.bert(x).last_hidden_state\n",
    "        return self.fc(last_hidden_state)\n",
    "    \n",
    "model = BERT_NER_Model().to(device)\n",
    "if 'BERT_NER_CMeEE.pt' in os.listdir():\n",
    "    model.load_state_dict(torch.load('BERT_NER_CMeEE.pt'))\n",
    "    print('load ckpt')"
   ]
  },
  {
   "cell_type": "code",
   "execution_count": 6,
   "id": "28b82b30",
   "metadata": {},
   "outputs": [
    {
     "data": {
      "application/vnd.jupyter.widget-view+json": {
       "model_id": "4fe372fc1b3a4e9cb96caab7c4e14ced",
       "version_major": 2,
       "version_minor": 0
      },
      "text/plain": [
       "  0%|          | 0/1875 [00:00<?, ?batch/s]"
      ]
     },
     "metadata": {},
     "output_type": "display_data"
    },
    {
     "data": {
      "application/vnd.jupyter.widget-view+json": {
       "model_id": "aa99c2caa99b472f80ec333c8bb3da0e",
       "version_major": 2,
       "version_minor": 0
      },
      "text/plain": [
       "  0%|          | 0/1875 [00:00<?, ?batch/s]"
      ]
     },
     "metadata": {},
     "output_type": "display_data"
    },
    {
     "data": {
      "application/vnd.jupyter.widget-view+json": {
       "model_id": "b51a5686db95496f905d2a8fae7d4440",
       "version_major": 2,
       "version_minor": 0
      },
      "text/plain": [
       "  0%|          | 0/1875 [00:00<?, ?batch/s]"
      ]
     },
     "metadata": {},
     "output_type": "display_data"
    },
    {
     "data": {
      "application/vnd.jupyter.widget-view+json": {
       "model_id": "7106c359e04047f0bf09a8ee8b2e224b",
       "version_major": 2,
       "version_minor": 0
      },
      "text/plain": [
       "  0%|          | 0/1875 [00:00<?, ?batch/s]"
      ]
     },
     "metadata": {},
     "output_type": "display_data"
    },
    {
     "data": {
      "application/vnd.jupyter.widget-view+json": {
       "model_id": "c8e913f652a749a89c06255506a18f29",
       "version_major": 2,
       "version_minor": 0
      },
      "text/plain": [
       "  0%|          | 0/1875 [00:00<?, ?batch/s]"
      ]
     },
     "metadata": {},
     "output_type": "display_data"
    },
    {
     "data": {
      "application/vnd.jupyter.widget-view+json": {
       "model_id": "8066315b54cd4193ac4018bab29a36ae",
       "version_major": 2,
       "version_minor": 0
      },
      "text/plain": [
       "  0%|          | 0/1875 [00:00<?, ?batch/s]"
      ]
     },
     "metadata": {},
     "output_type": "display_data"
    },
    {
     "data": {
      "application/vnd.jupyter.widget-view+json": {
       "model_id": "78f32ad40f32426eb81169f01a4327ab",
       "version_major": 2,
       "version_minor": 0
      },
      "text/plain": [
       "  0%|          | 0/1875 [00:00<?, ?batch/s]"
      ]
     },
     "metadata": {},
     "output_type": "display_data"
    },
    {
     "data": {
      "application/vnd.jupyter.widget-view+json": {
       "model_id": "cbc7fba90ce44641b846ebd386bf9098",
       "version_major": 2,
       "version_minor": 0
      },
      "text/plain": [
       "  0%|          | 0/1875 [00:00<?, ?batch/s]"
      ]
     },
     "metadata": {},
     "output_type": "display_data"
    },
    {
     "data": {
      "application/vnd.jupyter.widget-view+json": {
       "model_id": "ac116f3166e14cca8da7fdab5e3929c4",
       "version_major": 2,
       "version_minor": 0
      },
      "text/plain": [
       "  0%|          | 0/1875 [00:00<?, ?batch/s]"
      ]
     },
     "metadata": {},
     "output_type": "display_data"
    },
    {
     "data": {
      "application/vnd.jupyter.widget-view+json": {
       "model_id": "ba09585327cd4cb6b4bc95146f2dd382",
       "version_major": 2,
       "version_minor": 0
      },
      "text/plain": [
       "  0%|          | 0/1875 [00:00<?, ?batch/s]"
      ]
     },
     "metadata": {},
     "output_type": "display_data"
    }
   ],
   "source": [
    "criterion = torch.nn.CrossEntropyLoss()\n",
    "optimizer = torch.optim.Adam(model.parameters(), lr=1e-5)\n",
    "\n",
    "for epoch in range(1, 11):\n",
    "    total_loss = 0\n",
    "    num_sample = 0\n",
    "    with tqdm(dataloader, unit='batch') as tepoch:\n",
    "        for x, y in tepoch:\n",
    "            tepoch.set_description(f'Epoch {epoch}')\n",
    "            x = x.to(device)\n",
    "            y = y.to(device)\n",
    "\n",
    "            output = model(x)\n",
    "            loss = criterion(output.reshape(-1, output.shape[-1]), y.reshape(-1))\n",
    "            \n",
    "            total_loss += loss.item()\n",
    "            num_sample += x.shape[0]\n",
    "            tqdm_postfix = format(total_loss / num_sample, '.6f')\n",
    "            tepoch.set_postfix(loss=tqdm_postfix)\n",
    "\n",
    "            model.zero_grad()\n",
    "            loss.backward()\n",
    "            optimizer.step()\n",
    "            \n",
    "torch.save(model.state_dict(), './BERT_NER_CMeEE.pt')"
   ]
  },
  {
   "cell_type": "code",
   "execution_count": 58,
   "id": "cefe74d4",
   "metadata": {},
   "outputs": [
    {
     "data": {
      "text/plain": [
       "[{'start_idx': 26, 'end_idx': 27, 'type': 'sym', 'entity': '发热'},\n",
       " {'start_idx': 29, 'end_idx': 30, 'type': 'sym', 'entity': '咳嗽'},\n",
       " {'start_idx': 32, 'end_idx': 34, 'type': 'sym', 'entity': '热峰高'},\n",
       " {'start_idx': 36, 'end_idx': 44, 'type': 'sym', 'entity': '腋温多在39℃以上'},\n",
       " {'start_idx': 36, 'end_idx': 37, 'type': 'ite', 'entity': '腋温'},\n",
       " {'start_idx': 46, 'end_idx': 47, 'type': 'sym', 'entity': '发热'}]"
      ]
     },
     "execution_count": 58,
     "metadata": {},
     "output_type": "execute_result"
    }
   ],
   "source": [
    "def get_predict_ner(text, argmax, idx2type):\n",
    "    bio_predict = []\n",
    "    for i in argmax:\n",
    "        if i == 0:\n",
    "            bio_predict.append(idx2type[i])\n",
    "        else:\n",
    "            bio_predict.append(idx2type[i].split('_')[1])\n",
    "\n",
    "    bio_predict_new = []\n",
    "    for i in range(len(bio_predict)):\n",
    "        if bio_predict[i] == 'O' or (i > 0 and i < len(bio_predict) - 1 and bio_predict[i] == bio_predict[i - 1] and bio_predict[i] == bio_predict[i + 1]):\n",
    "            continue\n",
    "        bio_predict_new.append((i, bio_predict[i]))\n",
    "\n",
    "    predict_ner = []\n",
    "\n",
    "    i = 0\n",
    "    while i < len(bio_predict_new) - 1:\n",
    "        if bio_predict_new[i][1] != bio_predict_new[i + 1][1]: \n",
    "            predict_ner.append({'ner': ''.join(text[bio_predict_new[i][0]: bio_predict_new[i][0] + 1]),\n",
    "                                'type': bio_predict_new[i][1],\n",
    "                                'start': bio_predict_new[i][0],\n",
    "                                'end': bio_predict_new[i][0]})\n",
    "            i += 1\n",
    "        else:\n",
    "            predict_ner.append({'ner': ''.join(text[bio_predict_new[i][0]: bio_predict_new[i + 1][0] + 1]),\n",
    "                                'type': bio_predict_new[i][1],\n",
    "                                'start': bio_predict_new[i][0],\n",
    "                                'end': bio_predict_new[i + 1][0]})\n",
    "            i += 2\n",
    "    return predict_ner\n",
    "\n",
    "with open('../../../datasets/NER/CMeEE-V2/CMeEE-V2_dev.json') as json_file:\n",
    "    data = json.load(json_file)\n",
    "\n",
    "text = data[4]['text']\n",
    "data[4]['entities']"
   ]
  },
  {
   "cell_type": "code",
   "execution_count": 59,
   "id": "ae6153ef",
   "metadata": {},
   "outputs": [
    {
     "data": {
      "text/plain": [
       "[{'ner': '发热', 'type': 'SYM', 'start': 26, 'end': 27},\n",
       " {'ner': '咳嗽', 'type': 'SYM', 'start': 29, 'end': 30},\n",
       " {'ner': '热峰高', 'type': 'SYM', 'start': 32, 'end': 34},\n",
       " {'ner': '腋温多在39℃以上', 'type': 'SYM', 'start': 36, 'end': 44},\n",
       " {'ner': '发热持续', 'type': 'SYM', 'start': 46, 'end': 49}]"
      ]
     },
     "execution_count": 59,
     "metadata": {},
     "output_type": "execute_result"
    }
   ],
   "source": [
    "encoded = tokenizer(text, max_length=512, truncation=True, return_tensors='pt')['input_ids']\n",
    "encoded = encoded.to(device)\n",
    "\n",
    "model.eval()\n",
    "output = model(encoded)\n",
    "argmax = output[0].argmax(dim=1).tolist()\n",
    "\n",
    "type2idx = {v: k for k, v in dataset.type2idx.items()}\n",
    "type2idx[0] = 'O'\n",
    "get_predict_ner(text, argmax, type2idx)"
   ]
  },
  {
   "cell_type": "code",
   "execution_count": null,
   "id": "428f5001",
   "metadata": {},
   "outputs": [],
   "source": []
  }
 ],
 "metadata": {
  "kernelspec": {
   "display_name": "Python 3 (ipykernel)",
   "language": "python",
   "name": "python3"
  },
  "language_info": {
   "codemirror_mode": {
    "name": "ipython",
    "version": 3
   },
   "file_extension": ".py",
   "mimetype": "text/x-python",
   "name": "python",
   "nbconvert_exporter": "python",
   "pygments_lexer": "ipython3",
   "version": "3.9.13"
  }
 },
 "nbformat": 4,
 "nbformat_minor": 5
}
