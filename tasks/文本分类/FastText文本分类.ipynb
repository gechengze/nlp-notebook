{
 "cells": [
  {
   "cell_type": "code",
   "execution_count": 34,
   "id": "1cb0f308",
   "metadata": {},
   "outputs": [],
   "source": [
    "import fasttext\n",
    "import pandas as pd\n",
    "import jieba\n",
    "import re\n",
    "import csv\n",
    "from torchtext.data.utils import get_tokenizer\n",
    "from tqdm.notebook import tqdm\n",
    "tqdm.pandas()\n",
    "from sklearn.model_selection import train_test_split"
   ]
  },
  {
   "cell_type": "markdown",
   "id": "1439aa75",
   "metadata": {},
   "source": [
    "# 1.将数据处理成fasttext所需格式"
   ]
  },
  {
   "cell_type": "code",
   "execution_count": 40,
   "id": "78a853fb",
   "metadata": {},
   "outputs": [],
   "source": [
    "def get_fasttext_data(df, tokenizer, stopwords):\n",
    "    df['label'] = '__label__' + df['label']\n",
    "    def process_text(title):\n",
    "        tokens = [token for token in tokenizer(title.strip()) if token not in stopwords]\n",
    "        return ' '.join(tokens)\n",
    "    \n",
    "    df['text'] = df['title'].progress_map(process_text)\n",
    "    df['label_text'] = df['label'] + ',' + df['text']\n",
    "    return df[['label_text']]"
   ]
  },
  {
   "cell_type": "code",
   "execution_count": 58,
   "id": "c8ae2c43",
   "metadata": {},
   "outputs": [],
   "source": [
    "tokenizer = get_tokenizer('spacy', language='zh_core_web_sm')\n",
    "stopwords = [line.strip() for line in open('/home/gechengze/project/nlp-notebook/stopwords/cn_stopwords.txt',\n",
    "                                           'r', encoding='utf-8').readlines()]"
   ]
  },
  {
   "cell_type": "code",
   "execution_count": 83,
   "id": "e8e65b10",
   "metadata": {},
   "outputs": [
    {
     "data": {
      "application/vnd.jupyter.widget-view+json": {
       "model_id": "0dfd18076e5f400ebc8f1d4e7617ab6c",
       "version_major": 2,
       "version_minor": 0
      },
      "text/plain": [
       "  0%|          | 0/663933 [00:00<?, ?it/s]"
      ]
     },
     "metadata": {},
     "output_type": "display_data"
    },
    {
     "data": {
      "application/vnd.jupyter.widget-view+json": {
       "model_id": "0dc6b9bbd3d64fd0a7b0922f2e0ef888",
       "version_major": 2,
       "version_minor": 0
      },
      "text/plain": [
       "  0%|          | 0/165984 [00:00<?, ?it/s]"
      ]
     },
     "metadata": {},
     "output_type": "display_data"
    }
   ],
   "source": [
    "df = pd.read_csv('../../../datasets/THUCNews/title.csv')\n",
    "df_train, df_test = train_test_split(df, test_size=0.2)\n",
    "\n",
    "df_train = get_fasttext_data(df_train, tokenizer, stopwords)\n",
    "df_train.to_csv('./train.txt', header=None, index=False, quoting=csv.QUOTE_NONE, escapechar=' ')\n",
    "\n",
    "df_test = get_fasttext_data(df_test, tokenizer, stopwords)\n",
    "df_test.to_csv('./test.txt', header=None, index=False, quoting=csv.QUOTE_NONE, escapechar=' ')"
   ]
  },
  {
   "cell_type": "markdown",
   "id": "92fb7ba6",
   "metadata": {},
   "source": [
    "# 2.训练模型"
   ]
  },
  {
   "cell_type": "code",
   "execution_count": 84,
   "id": "6d569ed5",
   "metadata": {},
   "outputs": [
    {
     "name": "stderr",
     "output_type": "stream",
     "text": [
      "Read 6M words\n",
      "Number of words:  73772\n",
      "Number of labels: 14\n",
      "Progress: 100.0% words/sec/thread: 1169093 lr:  0.000000 avg.loss:  0.099906 ETA:   0h 0m 0s\n"
     ]
    }
   ],
   "source": [
    "# 训练模型\n",
    "model = fasttext.train_supervised('train.txt', minCount=5, epoch=100)"
   ]
  },
  {
   "cell_type": "markdown",
   "id": "eeba05d8",
   "metadata": {},
   "source": [
    "# 3.预测"
   ]
  },
  {
   "cell_type": "code",
   "execution_count": 85,
   "id": "3508898c",
   "metadata": {},
   "outputs": [
    {
     "name": "stdout",
     "output_type": "stream",
     "text": [
      "(('__label__娱乐',), array([1.00001001]))\n",
      "(('__label__科技',), array([0.9972623]))\n"
     ]
    }
   ],
   "source": [
    "print(model.predict('盘点 明星 私生子 爱情 事故 戏外 戏图'))\n",
    "print(model.predict('微软 员工 微博 泄密 手机 遭 解雇'))"
   ]
  },
  {
   "cell_type": "code",
   "execution_count": 86,
   "id": "a6bd645c",
   "metadata": {},
   "outputs": [
    {
     "name": "stdout",
     "output_type": "stream",
     "text": [
      "(663933, 0.9887699511848335, 0.9887699511848335)\n"
     ]
    }
   ],
   "source": [
    "# 训练集的precision和recall\n",
    "print(model.test('train.txt'))"
   ]
  },
  {
   "cell_type": "code",
   "execution_count": 87,
   "id": "12df53fb",
   "metadata": {},
   "outputs": [
    {
     "name": "stdout",
     "output_type": "stream",
     "text": [
      "(165984, 0.8734094852515906, 0.8734094852515906)\n"
     ]
    }
   ],
   "source": [
    "# 测试集的precision和recall\n",
    "print(model.test('test.txt'))"
   ]
  },
  {
   "cell_type": "code",
   "execution_count": null,
   "id": "abf95821",
   "metadata": {},
   "outputs": [],
   "source": []
  }
 ],
 "metadata": {
  "kernelspec": {
   "display_name": "Python 3 (ipykernel)",
   "language": "python",
   "name": "python3"
  },
  "language_info": {
   "codemirror_mode": {
    "name": "ipython",
    "version": 3
   },
   "file_extension": ".py",
   "mimetype": "text/x-python",
   "name": "python",
   "nbconvert_exporter": "python",
   "pygments_lexer": "ipython3",
   "version": "3.9.13"
  }
 },
 "nbformat": 4,
 "nbformat_minor": 5
}
