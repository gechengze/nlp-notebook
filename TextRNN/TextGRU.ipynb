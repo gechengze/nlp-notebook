{
 "cells": [
  {
   "cell_type": "code",
   "execution_count": 1,
   "id": "4d0f585b",
   "metadata": {
    "pycharm": {
     "name": "#%%\n"
    }
   },
   "outputs": [],
   "source": [
    "import torch\n",
    "import torch.nn as nn\n",
    "from torch.utils.data import Dataset\n",
    "from torch.utils.data import DataLoader\n",
    "\n",
    "import pandas as pd\n",
    "import jieba\n",
    "import re"
   ]
  },
  {
   "cell_type": "code",
   "execution_count": 2,
   "id": "b4c66135",
   "metadata": {
    "pycharm": {
     "name": "#%%\n"
    }
   },
   "outputs": [],
   "source": [
    "class MyDataset(Dataset):\n",
    "    def __init__(self, max_len, debug=True):\n",
    "        super().__init__()\n",
    "        df = pd.read_csv('../../datasets/THUCNews/train.csv')\n",
    "        df = df.dropna()\n",
    "        if debug:\n",
    "            df = df.sample(2000).reset_index(drop=True)\n",
    "        else:\n",
    "            df = df.sample(50000).reset_index(drop=True)\n",
    "        # 读取常用停用词\n",
    "        stopwords = [line.strip() for line in open('../../stopwords/cn_stopwords.txt', 'r', encoding='utf-8').readlines()]\n",
    "        sentences = []\n",
    "        for title in df['title']:\n",
    "            # 去除标点符号\n",
    "            title = re.sub(r'[^\\u4e00-\\u9fa5]', '', title)\n",
    "            # jieba分词\n",
    "            sentence_seged = jieba.cut(title.strip())\n",
    "            outstr = ''\n",
    "            for word in sentence_seged:\n",
    "                if word != '\\t' and word not in stopwords:\n",
    "                    outstr += word\n",
    "                    outstr += ' '\n",
    "            if outstr != '':\n",
    "                sentences.append(outstr)\n",
    "        # 获取所有词(token), <pad>用来填充不满足max_len的句子\n",
    "        token_list = ['<pad>'] + list(set(' '.join(sentences).split()))\n",
    "        # token和index互转字典\n",
    "        self.token2idx = {token: i for i, token in enumerate(token_list)}\n",
    "        self.idx2token = {i: token for i, token in enumerate(token_list)}\n",
    "        self.vocab_size = len(self.token2idx)\n",
    "\n",
    "        self.inputs = []\n",
    "        for sentence in sentences:\n",
    "            tokens = sentence.split()\n",
    "            input_ = [self.token2idx[token] for token in tokens]\n",
    "            if len(input_) < max_len:\n",
    "                self.inputs.append(input_ + [self.token2idx['<pad>']] * (max_len - len(input_)))\n",
    "            else:\n",
    "                self.inputs.append(input_[: max_len])\n",
    "\n",
    "        self.labels = [[label] for label in df['label'].values.tolist()]\n",
    "        self.n_class = len(df['label'].unique())\n",
    "\n",
    "    def __len__(self):\n",
    "        return len(self.labels)\n",
    "\n",
    "    def __getitem__(self, idx):\n",
    "        return torch.LongTensor(self.inputs[idx]), torch.LongTensor(self.labels[idx])\n",
    "\n",
    "\n",
    "class TextGRU(nn.Module):\n",
    "    def __init__(self, vocab_size, embed_size, n_class, n_hidden):\n",
    "        super().__init__()\n",
    "        # 嵌入层\n",
    "        self.embedding = nn.Embedding(vocab_size, embed_size)\n",
    "        # rnn层，深度为1\n",
    "        self.gru = nn.GRU(embed_size, n_hidden, 1, batch_first=True)\n",
    "        # 激活函数\n",
    "        self.relu = nn.ReLU()\n",
    "        self.dropout = nn.Dropout(0.1)\n",
    "        # 输出头\n",
    "        self.fc = nn.Linear(n_hidden, n_class)\n",
    "\n",
    "    def forward(self, x):  # x: [batch_size * 句子长度]\n",
    "        x = self.embedding(x)  # [batch_size * 句子长度 * embed_size]\n",
    "        out, _ = self.gru(x)  # [batch_size * 句子长度 * n_hidden]\n",
    "        out = self.relu(out)\n",
    "        out = self.dropout(out)\n",
    "        logits = self.fc(out[:,-1,:])  # 全连接输出头，[batch_size * n_class]\n",
    "        return logits"
   ]
  },
  {
   "cell_type": "code",
   "execution_count": 4,
   "id": "101dc45d",
   "metadata": {
    "pycharm": {
     "name": "#%%\n"
    },
    "scrolled": true
   },
   "outputs": [
    {
     "name": "stdout",
     "output_type": "stream",
     "text": [
      "TextGRU(\n",
      "  (embedding): Embedding(8097, 128)\n",
      "  (gru): GRU(128, 256, batch_first=True)\n",
      "  (relu): ReLU()\n",
      "  (dropout): Dropout(p=0.1, inplace=False)\n",
      "  (fc): Linear(in_features=256, out_features=14, bias=True)\n",
      ")\n",
      "epoch: 1 , loss: 1.9135102033615112\n",
      "epoch: 2 , loss: 1.6494836807250977\n",
      "epoch: 3 , loss: 1.4462834596633911\n",
      "epoch: 4 , loss: 0.4588618874549866\n",
      "epoch: 5 , loss: 0.377926766872406\n",
      "epoch: 6 , loss: 0.40014171600341797\n",
      "epoch: 7 , loss: 0.18146666884422302\n",
      "epoch: 8 , loss: 0.05226273834705353\n",
      "epoch: 9 , loss: 0.034725628793239594\n",
      "epoch: 10 , loss: 0.009227114729583263\n",
      "epoch: 11 , loss: 0.006956214085221291\n",
      "epoch: 12 , loss: 0.005506675224751234\n",
      "epoch: 13 , loss: 0.006235456094145775\n",
      "epoch: 14 , loss: 0.0018697641789913177\n",
      "epoch: 15 , loss: 0.0010580566013231874\n",
      "epoch: 16 , loss: 0.0026917557697743177\n",
      "epoch: 17 , loss: 0.002009385032579303\n",
      "epoch: 18 , loss: 0.0010581776732578874\n",
      "epoch: 19 , loss: 0.0007392847328446805\n",
      "epoch: 20 , loss: 0.001907093683257699\n",
      "epoch: 21 , loss: 0.002021305961534381\n",
      "epoch: 22 , loss: 0.0016894512809813023\n",
      "epoch: 23 , loss: 0.0008068206952884793\n",
      "epoch: 24 , loss: 0.0009937221184372902\n",
      "epoch: 25 , loss: 0.0010988417780026793\n",
      "epoch: 26 , loss: 0.0005005314014852047\n",
      "epoch: 27 , loss: 0.0008005251293070614\n",
      "epoch: 28 , loss: 0.00031509657856076956\n",
      "epoch: 29 , loss: 0.0003366486926097423\n",
      "epoch: 30 , loss: 0.0003733184130396694\n",
      "epoch: 31 , loss: 0.00033868110040202737\n",
      "epoch: 32 , loss: 0.00033239787444472313\n",
      "epoch: 33 , loss: 0.00018657826876733452\n",
      "epoch: 34 , loss: 0.00016876537119969726\n",
      "epoch: 35 , loss: 0.0002469564788043499\n",
      "epoch: 36 , loss: 0.0010095443576574326\n",
      "epoch: 37 , loss: 0.00034666285500861704\n",
      "epoch: 38 , loss: 0.00028157589258626103\n",
      "epoch: 39 , loss: 0.0003349037724547088\n",
      "epoch: 40 , loss: 0.00023531289480160922\n",
      "epoch: 41 , loss: 8.618299034424126e-05\n",
      "epoch: 42 , loss: 0.00011997933324892074\n",
      "epoch: 43 , loss: 0.00016136326303239912\n",
      "epoch: 44 , loss: 0.0001323867036262527\n",
      "epoch: 45 , loss: 0.00012158680328866467\n",
      "epoch: 46 , loss: 0.0001348772639175877\n",
      "epoch: 47 , loss: 0.00010124312393600121\n",
      "epoch: 48 , loss: 0.00020140089327469468\n",
      "epoch: 49 , loss: 6.481436867034063e-05\n",
      "epoch: 50 , loss: 0.00010007993114413694\n"
     ]
    }
   ],
   "source": [
    "dataset = MyDataset(max_len=10)  # 构造长度为10的句子输入，超过10的句子切掉，不足10的补<pad>\n",
    "dataloader = DataLoader(dataset, batch_size=16, shuffle=True)\n",
    "model = TextGRU(vocab_size=dataset.vocab_size, embed_size=128,\n",
    "                n_class=dataset.n_class, n_hidden=256)\n",
    "print(model)\n",
    "optimizer = torch.optim.Adam(model.parameters(), lr=0.001)\n",
    "criterion = nn.CrossEntropyLoss()\n",
    "for epoch in range(50):\n",
    "    for feature, target in dataloader:\n",
    "        optimizer.zero_grad()\n",
    "        logits = model(feature)\n",
    "        loss = criterion(logits, target.squeeze())\n",
    "        loss.backward()\n",
    "        optimizer.step()\n",
    "    print('epoch:', epoch + 1, ', loss:', loss.item())"
   ]
  },
  {
   "cell_type": "code",
   "execution_count": 5,
   "id": "83855c87",
   "metadata": {
    "pycharm": {
     "name": "#%%\n"
    }
   },
   "outputs": [
    {
     "name": "stdout",
     "output_type": "stream",
     "text": [
      "带 了解 愤怒 小鸟 背后 制作 秘辛 <pad> <pad> <pad> ---> label: 游戏\n",
      "港股 名博 恒指 本周 可能 企稳 <pad> <pad> <pad> <pad> ---> label: 股票\n",
      "奥斯卡 影帝 尼古拉斯 豪宅 装修图 <pad> <pad> <pad> <pad> <pad> ---> label: 家居\n",
      "任命 前 高盛 董事长 <pad> <pad> <pad> <pad> <pad> <pad> ---> label: 股票\n",
      "苹果 要求 法官 撤销 反垄断 诉讼 <pad> <pad> <pad> <pad> ---> label: 科技\n",
      "华讯 财经 严重 失血 反弹 进行 时 <pad> <pad> <pad> ---> label: 股票\n",
      "山推股份 业绩 低点 已现 看好 出口 复苏 <pad> <pad> <pad> ---> label: 股票\n",
      "洛佩斯 垂涎 鲨鱼 骇人 体魄 偶像 交手 担心 裁判 偏哨 ---> label: 体育\n",
      "削减 国际 广播 节省成本 <pad> <pad> <pad> <pad> <pad> <pad> ---> label: 股票\n",
      "男子 不满 分手 要求 当街 捅 伤 女友 图 <pad> ---> label: 社会\n",
      "文明 防 血型 特技 组合 <pad> <pad> <pad> <pad> <pad> ---> label: 游戏\n",
      "李克强 重庆 考察 强调 进一步 推进 西部 开发 <pad> <pad> ---> label: 时政\n",
      "调 结构 可能 主导 阶段性 预期 <pad> <pad> <pad> <pad> ---> label: 股票\n",
      "月 新 发布 手机 产品 平均 厚度 降 毫米 以下 ---> label: 科技\n",
      "提高 分红 率 有助于 解决 大小 非 问题 <pad> <pad> ---> label: 股票\n",
      "连阳 沪 指 上升 动能 有所 减缓 <pad> <pad> <pad> ---> label: 股票\n"
     ]
    }
   ],
   "source": [
    "df = pd.read_csv('../../datasets/THUCNews/train.csv')\n",
    "predict = model(feature).max(1)[1].tolist()\n",
    "for i in range(len(feature.tolist())):\n",
    "    print(' '.join([dataset.idx2token[idx] for idx in feature.tolist()[i]]),\n",
    "          '---> label:',\n",
    "          dict(zip(df['label'], df['class']))[predict[i]])"
   ]
  },
  {
   "cell_type": "code",
   "execution_count": null,
   "id": "91572ea6",
   "metadata": {
    "pycharm": {
     "name": "#%%\n"
    }
   },
   "outputs": [],
   "source": []
  }
 ],
 "metadata": {
  "kernelspec": {
   "display_name": "Python 3 (ipykernel)",
   "language": "python",
   "name": "python3"
  },
  "language_info": {
   "codemirror_mode": {
    "name": "ipython",
    "version": 3
   },
   "file_extension": ".py",
   "mimetype": "text/x-python",
   "name": "python",
   "nbconvert_exporter": "python",
   "pygments_lexer": "ipython3",
   "version": "3.9.12"
  }
 },
 "nbformat": 4,
 "nbformat_minor": 5
}