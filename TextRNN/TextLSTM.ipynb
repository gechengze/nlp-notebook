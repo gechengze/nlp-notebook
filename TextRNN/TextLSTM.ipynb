{
 "cells": [
  {
   "cell_type": "code",
   "execution_count": 1,
   "id": "4d0f585b",
   "metadata": {
    "pycharm": {
     "name": "#%%\n"
    }
   },
   "outputs": [],
   "source": [
    "import torch\n",
    "import torch.nn as nn\n",
    "from torch.utils.data import Dataset\n",
    "from torch.utils.data import DataLoader\n",
    "\n",
    "import pandas as pd\n",
    "import jieba\n",
    "import re"
   ]
  },
  {
   "cell_type": "code",
   "execution_count": 2,
   "id": "b4c66135",
   "metadata": {
    "pycharm": {
     "name": "#%%\n"
    }
   },
   "outputs": [],
   "source": [
    "class MyDataset(Dataset):\n",
    "    def __init__(self, max_len, debug=True):\n",
    "        super().__init__()\n",
    "        df = pd.read_csv('../../datasets/THUCNews/train.csv')\n",
    "        df = df.dropna()\n",
    "        if debug:\n",
    "            df = df.sample(2000).reset_index(drop=True)\n",
    "        else:\n",
    "            df = df.sample(50000).reset_index(drop=True)\n",
    "        # 读取常用停用词\n",
    "        stopwords = [line.strip() for line in open('../../stopwords/cn_stopwords.txt', 'r', encoding='utf-8').readlines()]\n",
    "        sentences = []\n",
    "        for title in df['title']:\n",
    "            # 去除标点符号\n",
    "            title = re.sub(r'[^\\u4e00-\\u9fa5]', '', title)\n",
    "            # jieba分词\n",
    "            sentence_seged = jieba.cut(title.strip())\n",
    "            outstr = ''\n",
    "            for word in sentence_seged:\n",
    "                if word != '\\t' and word not in stopwords:\n",
    "                    outstr += word\n",
    "                    outstr += ' '\n",
    "            if outstr != '':\n",
    "                sentences.append(outstr)\n",
    "        # 获取所有词(token), <pad>用来填充不满足max_len的句子\n",
    "        token_list = ['<pad>'] + list(set(' '.join(sentences).split()))\n",
    "        # token和index互转字典\n",
    "        self.token2idx = {token: i for i, token in enumerate(token_list)}\n",
    "        self.idx2token = {i: token for i, token in enumerate(token_list)}\n",
    "        self.vocab_size = len(self.token2idx)\n",
    "\n",
    "        self.inputs = []\n",
    "        for sentence in sentences:\n",
    "            tokens = sentence.split()\n",
    "            input_ = [self.token2idx[token] for token in tokens]\n",
    "            if len(input_) < max_len:\n",
    "                self.inputs.append(input_ + [self.token2idx['<pad>']] * (max_len - len(input_)))\n",
    "            else:\n",
    "                self.inputs.append(input_[: max_len])\n",
    "\n",
    "        self.labels = [[label] for label in df['label'].values.tolist()]\n",
    "        self.n_class = len(df['label'].unique())\n",
    "\n",
    "    def __len__(self):\n",
    "        return len(self.labels)\n",
    "\n",
    "    def __getitem__(self, idx):\n",
    "        return torch.LongTensor(self.inputs[idx]), torch.LongTensor(self.labels[idx])\n",
    "\n",
    "\n",
    "class TextLSTM(nn.Module):\n",
    "    def __init__(self, vocab_size, embed_size, n_class, n_hidden):\n",
    "        super().__init__()\n",
    "        # 嵌入层\n",
    "        self.embedding = nn.Embedding(vocab_size, embed_size)\n",
    "        # rnn层，深度为1\n",
    "        self.lstm = nn.LSTM(embed_size, n_hidden, 1, batch_first=True)\n",
    "        # 激活函数\n",
    "        self.relu = nn.ReLU()\n",
    "        self.dropout = nn.Dropout(0.1)\n",
    "        # 输出头\n",
    "        self.fc = nn.Linear(n_hidden, n_class)\n",
    "\n",
    "    def forward(self, x):  # x: [batch_size * 句子长度]\n",
    "        x = self.embedding(x)  # [batch_size * 句子长度 * embed_size]\n",
    "        out, (_, _) = self.lstm(x)  # [batch_size * 句子长度 * n_hidden]\n",
    "        out = self.relu(out)\n",
    "        out = self.dropout(out)\n",
    "        logits = self.fc(out[:,-1,:])  # 全连接输出头，[batch_size * n_class]\n",
    "        return logits"
   ]
  },
  {
   "cell_type": "code",
   "execution_count": 3,
   "id": "101dc45d",
   "metadata": {
    "pycharm": {
     "name": "#%%\n"
    },
    "scrolled": true
   },
   "outputs": [
    {
     "name": "stderr",
     "output_type": "stream",
     "text": [
      "Building prefix dict from the default dictionary ...\n",
      "Loading model from cache /var/folders/d1/4_gsqv2176z583_7rmpm27lh0000gn/T/jieba.cache\n",
      "Loading model cost 0.403 seconds.\n",
      "Prefix dict has been built successfully.\n"
     ]
    },
    {
     "name": "stdout",
     "output_type": "stream",
     "text": [
      "TextLSTM(\n",
      "  (embedding): Embedding(8294, 128)\n",
      "  (lstm): LSTM(128, 256, batch_first=True)\n",
      "  (relu): ReLU()\n",
      "  (dropout): Dropout(p=0.1, inplace=False)\n",
      "  (fc): Linear(in_features=256, out_features=14, bias=True)\n",
      ")\n",
      "epoch: 1 , loss: 2.243722915649414\n",
      "epoch: 2 , loss: 1.5689152479171753\n",
      "epoch: 3 , loss: 2.1620559692382812\n",
      "epoch: 4 , loss: 1.585006594657898\n",
      "epoch: 5 , loss: 0.7580963969230652\n",
      "epoch: 6 , loss: 0.8219630122184753\n",
      "epoch: 7 , loss: 0.3056076467037201\n",
      "epoch: 8 , loss: 0.1576070338487625\n",
      "epoch: 9 , loss: 0.0671982690691948\n",
      "epoch: 10 , loss: 0.02522658184170723\n",
      "epoch: 11 , loss: 0.006851658690720797\n",
      "epoch: 12 , loss: 0.002321559004485607\n",
      "epoch: 13 , loss: 0.0036406663712114096\n",
      "epoch: 14 , loss: 0.0019566321279853582\n",
      "epoch: 15 , loss: 0.003775387303903699\n",
      "epoch: 16 , loss: 0.0025894646532833576\n",
      "epoch: 17 , loss: 0.001988558564335108\n",
      "epoch: 18 , loss: 0.002796419430524111\n",
      "epoch: 19 , loss: 0.001974956365302205\n",
      "epoch: 20 , loss: 0.0021424838341772556\n",
      "epoch: 21 , loss: 0.0007467105169780552\n",
      "epoch: 22 , loss: 0.0012140278704464436\n",
      "epoch: 23 , loss: 0.0012427429901435971\n",
      "epoch: 24 , loss: 0.0004979686345905066\n",
      "epoch: 25 , loss: 0.00044883074588142335\n",
      "epoch: 26 , loss: 0.0006578416796401143\n",
      "epoch: 27 , loss: 0.0008180031436495483\n",
      "epoch: 28 , loss: 0.000548342359252274\n",
      "epoch: 29 , loss: 0.00022744794841855764\n",
      "epoch: 30 , loss: 0.0004925215616822243\n",
      "epoch: 31 , loss: 0.0005661148461513221\n",
      "epoch: 32 , loss: 0.00039571625529788435\n",
      "epoch: 33 , loss: 0.00032591939088888466\n",
      "epoch: 34 , loss: 0.00024951258092187345\n",
      "epoch: 35 , loss: 0.00029620350687764585\n",
      "epoch: 36 , loss: 0.00020200708240736276\n",
      "epoch: 37 , loss: 0.00027162377955392003\n",
      "epoch: 38 , loss: 0.0001304124598391354\n",
      "epoch: 39 , loss: 0.00017521015251986682\n",
      "epoch: 40 , loss: 0.00010415434371680021\n",
      "epoch: 41 , loss: 0.00020733318524435163\n",
      "epoch: 42 , loss: 0.00021631363779306412\n",
      "epoch: 43 , loss: 0.00010819510498549789\n",
      "epoch: 44 , loss: 0.00021748378640040755\n",
      "epoch: 45 , loss: 8.191988308681175e-05\n",
      "epoch: 46 , loss: 7.491122232750058e-05\n",
      "epoch: 47 , loss: 0.00010858309542527422\n",
      "epoch: 48 , loss: 0.0001653588260523975\n",
      "epoch: 49 , loss: 6.660342478426173e-05\n",
      "epoch: 50 , loss: 7.17143775545992e-05\n"
     ]
    }
   ],
   "source": [
    "dataset = MyDataset(max_len=10)  # 构造长度为10的句子输入，超过10的句子切掉，不足10的补<pad>\n",
    "dataloader = DataLoader(dataset, batch_size=16, shuffle=True)\n",
    "model = TextLSTM(vocab_size=dataset.vocab_size, embed_size=128,\n",
    "                 n_class=dataset.n_class, n_hidden=256)\n",
    "print(model)\n",
    "optimizer = torch.optim.Adam(model.parameters(), lr=0.001)\n",
    "criterion = nn.CrossEntropyLoss()\n",
    "for epoch in range(50):\n",
    "    for feature, target in dataloader:\n",
    "        optimizer.zero_grad()\n",
    "        logits = model(feature)\n",
    "        loss = criterion(logits, target.squeeze())\n",
    "        loss.backward()\n",
    "        optimizer.step()\n",
    "    print('epoch:', epoch + 1, ', loss:', loss.item())"
   ]
  },
  {
   "cell_type": "code",
   "execution_count": 4,
   "id": "83855c87",
   "metadata": {
    "pycharm": {
     "name": "#%%\n"
    }
   },
   "outputs": [
    {
     "name": "stdout",
     "output_type": "stream",
     "text": [
      "湘财 证券 做空 能量 主导 大盘走势 <pad> <pad> <pad> <pad> ---> label: 股票\n",
      "中联重科 全球 发售 索罗斯 认购 <pad> <pad> <pad> <pad> <pad> ---> label: 股票\n",
      "酷酷 影更 精彩 寸 创维 液晶 仅 <pad> <pad> <pad> ---> label: 科技\n",
      "星展 唯高达 六福 集团 首 评为 买进 <pad> <pad> <pad> ---> label: 股票\n",
      "聚会 合影 选择 市售 超广角 相机 推荐 <pad> <pad> <pad> ---> label: 科技\n",
      "图文 安富利 精英赛 第三轮 汤姆森 得力助手 <pad> <pad> <pad> <pad> ---> label: 体育\n",
      "可能 会 惊喜 夏普 智能手机 年底 进 中国 <pad> <pad> ---> label: 科技\n",
      "日本 经济 产业 相因 称 核电站 周边 死城 递交 辞呈 ---> label: 时政\n",
      "欧 央行 月 日 停止 瑞郎 流动性 操作 <pad> <pad> ---> label: 股票\n",
      "天津 高 考生 锐减 预计 录取率 增个 百分点 <pad> <pad> ---> label: 教育\n",
      "招行 收购 永隆 商誉 减值 已达 永隆 扭亏 <pad> <pad> ---> label: 股票\n",
      "瑞典 潜水 队 发现 藏身 海底 年 香槟 <pad> <pad> ---> label: 时政\n",
      "世博 歌曲 曲 作者 回应 抄袭 质疑 <pad> <pad> <pad> ---> label: 娱乐\n",
      "发改委 官员 称 正在 研究 出台 应对 经济 下行 措施 ---> label: 时政\n",
      "中国 国航 国际 客货 供给 增速 快 需求 <pad> <pad> ---> label: 股票\n",
      "阿联 那次 封盖 没 犯规 博古 特 特点 鲜明 <pad> ---> label: 体育\n"
     ]
    }
   ],
   "source": [
    "df = pd.read_csv('../../datasets/THUCNews/train.csv')\n",
    "predict = model(feature).max(1)[1].tolist()\n",
    "for i in range(len(feature.tolist())):\n",
    "    print(' '.join([dataset.idx2token[idx] for idx in feature.tolist()[i]]),\n",
    "          '---> label:',\n",
    "          dict(zip(df['label'], df['class']))[predict[i]])"
   ]
  },
  {
   "cell_type": "code",
   "execution_count": null,
   "id": "cf10abc6",
   "metadata": {},
   "outputs": [],
   "source": []
  }
 ],
 "metadata": {
  "kernelspec": {
   "display_name": "Python 3 (ipykernel)",
   "language": "python",
   "name": "python3"
  },
  "language_info": {
   "codemirror_mode": {
    "name": "ipython",
    "version": 3
   },
   "file_extension": ".py",
   "mimetype": "text/x-python",
   "name": "python",
   "nbconvert_exporter": "python",
   "pygments_lexer": "ipython3",
   "version": "3.9.12"
  }
 },
 "nbformat": 4,
 "nbformat_minor": 5
}