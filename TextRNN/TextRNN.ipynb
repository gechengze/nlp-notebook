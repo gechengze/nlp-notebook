{
 "cells": [
  {
   "cell_type": "code",
   "execution_count": 1,
   "id": "4d0f585b",
   "metadata": {
    "pycharm": {
     "name": "#%%\n"
    }
   },
   "outputs": [],
   "source": [
    "import os\n",
    "os.environ['KMP_DUPLICATE_LIB_OK'] = 'True'\n",
    "\n",
    "import torch\n",
    "import torchtext\n",
    "import torch.nn as nn\n",
    "from torch.utils.data import Dataset\n",
    "from torch.utils.data import DataLoader\n",
    "from torch.nn.utils.rnn import pad_sequence\n",
    "\n",
    "import pandas as pd\n",
    "import re\n",
    "from collections import Counter\n",
    "from tqdm.notebook import tqdm\n",
    "\n",
    "device = torch.device('cuda' if torch.cuda.is_available() else 'cpu')  # 能用gpu则用gpu"
   ]
  },
  {
   "cell_type": "markdown",
   "id": "bef204f9",
   "metadata": {},
   "source": [
    "# 1.准备数据"
   ]
  },
  {
   "cell_type": "code",
   "execution_count": 2,
   "id": "287b008a",
   "metadata": {},
   "outputs": [],
   "source": [
    "class MyDataset(Dataset):\n",
    "    def __init__(self, file_path, tokenizer, stopwords, debug=True):\n",
    "        df = pd.read_csv(file_path)\n",
    "        df = df.dropna().reset_index(drop=True)\n",
    "        if debug:\n",
    "            df = df.sample(2000).reset_index(drop=True)\n",
    "        counter = Counter()\n",
    "        sentences = []\n",
    "        for title in tqdm(df['title']):\n",
    "            # 去除标点符号\n",
    "            title = re.sub(r'[^\\u4e00-\\u9fa5]', '', title)\n",
    "            tokens = [token for token in tokenizer(title.strip()) if token not in stopwords]\n",
    "            counter.update(tokens)\n",
    "            sentences.append(tokens)\n",
    "        self.vocab = torchtext.vocab.vocab(counter, specials=['<unk>', '<pad>'])\n",
    "        self.vocab.set_default_index(self.vocab['<unk>'])\n",
    "\n",
    "        self.inputs = [self.vocab.lookup_indices(tokens) for tokens in sentences]\n",
    "        self.labels = [[label] for label in df['label'].values.tolist()]\n",
    "        self.n_class = len(df['label'].unique())\n",
    "\n",
    "    def __len__(self):\n",
    "        return len(self.labels)\n",
    "\n",
    "    def __getitem__(self, idx):\n",
    "        return torch.LongTensor(self.inputs[idx]), torch.LongTensor(self.labels[idx])"
   ]
  },
  {
   "cell_type": "code",
   "execution_count": 3,
   "id": "8b8cc891",
   "metadata": {},
   "outputs": [
    {
     "data": {
      "application/vnd.jupyter.widget-view+json": {
       "model_id": "4329fe2fddef49fcac20274689075629",
       "version_major": 2,
       "version_minor": 0
      },
      "text/plain": [
       "  0%|          | 0/501644 [00:00<?, ?it/s]"
      ]
     },
     "metadata": {},
     "output_type": "display_data"
    }
   ],
   "source": [
    "file_path = '../data/THUCNews/train.csv'\n",
    "tokenizer = torchtext.data.utils.get_tokenizer('spacy', language='zh_core_web_sm')\n",
    "stopwords = [line.strip() for line in open('../stopwords/cn_stopwords.txt', 'r', encoding='utf-8').readlines()]\n",
    "dataset = MyDataset(file_path, tokenizer, stopwords, debug=False)"
   ]
  },
  {
   "cell_type": "code",
   "execution_count": 9,
   "id": "e778af96",
   "metadata": {},
   "outputs": [],
   "source": [
    "def collate_fn(batch_data):\n",
    "    return pad_sequence([x for x, y in batch_data], padding_value=1), torch.tensor([y for x, y in batch_data]).unsqueeze(1)\n",
    "\n",
    "dataloader = DataLoader(dataset, batch_size=1024, shuffle=True, collate_fn=collate_fn)"
   ]
  },
  {
   "cell_type": "markdown",
   "id": "3e4e4844",
   "metadata": {},
   "source": [
    "# 2.构建模型"
   ]
  },
  {
   "cell_type": "code",
   "execution_count": 10,
   "id": "2024b8d2",
   "metadata": {},
   "outputs": [],
   "source": [
    "class TextRNN(nn.Module):\n",
    "    def __init__(self, vocab_size, embed_size, n_class, n_hidden):\n",
    "        super().__init__()\n",
    "        # 嵌入层\n",
    "        self.embedding = nn.Embedding(vocab_size, embed_size)\n",
    "        # rnn层，深度为1\n",
    "        self.rnn = nn.RNN(embed_size, n_hidden, 1, batch_first=True)\n",
    "#         self.rnn = nn.LSTM(embed_size, n_hidden, 1, batch_first=True)  # LSTM\n",
    "#         self.rnn = nn.LSTM(embed_size, n_hidden, 2, batch_first=True)  # 双向LSTM\n",
    "#         self.rnn = nn.GRU(embed_size, n_hidden, 1, batch_first=True)  # GRU\n",
    "#         self.rnn = nn.GRU(embed_size, n_hidden, 2, batch_first=True)  # 双向GRU\n",
    "        \n",
    "        # 激活函数\n",
    "        self.relu = nn.ReLU()\n",
    "        self.dropout = nn.Dropout(0.1)\n",
    "        # 输出头\n",
    "        self.fc = nn.Linear(n_hidden, n_class)\n",
    "\n",
    "    def forward(self, x):  # x: [batch_size * 句子长度]\n",
    "        x = x.permute(1, 0)\n",
    "        x = self.embedding(x)  # [batch_size * 句子长度 * embed_size]\n",
    "        out, _ = self.rnn(x)  # [batch_size * 句子长度 * n_hidden]\n",
    "        out = self.relu(out)\n",
    "        out = self.dropout(out)\n",
    "        logits = self.fc(out[:,-1,:])  # 全连接输出头，[batch_size * n_class]\n",
    "        return logits"
   ]
  },
  {
   "cell_type": "code",
   "execution_count": 11,
   "id": "e7f633e9",
   "metadata": {},
   "outputs": [
    {
     "name": "stdout",
     "output_type": "stream",
     "text": [
      "TextRNN(\n",
      "  (embedding): Embedding(332814, 256)\n",
      "  (rnn): RNN(256, 256, batch_first=True)\n",
      "  (relu): ReLU()\n",
      "  (dropout): Dropout(p=0.1, inplace=False)\n",
      "  (fc): Linear(in_features=256, out_features=14, bias=True)\n",
      ")\n"
     ]
    }
   ],
   "source": [
    "model = TextRNN(vocab_size=len(dataset.vocab), embed_size=256,\n",
    "                n_class=dataset.n_class, n_hidden=256).to(device)\n",
    "print(model)"
   ]
  },
  {
   "cell_type": "markdown",
   "id": "43074c37",
   "metadata": {},
   "source": [
    "# 3.训练模型"
   ]
  },
  {
   "cell_type": "code",
   "execution_count": 12,
   "id": "101dc45d",
   "metadata": {
    "pycharm": {
     "name": "#%%\n"
    },
    "scrolled": true
   },
   "outputs": [
    {
     "name": "stdout",
     "output_type": "stream",
     "text": [
      "epoch: 1 , loss: 1.5687791109085083\n",
      "epoch: 2 , loss: 0.9600813388824463\n",
      "epoch: 3 , loss: 0.7435045838356018\n",
      "epoch: 4 , loss: 0.6274538636207581\n",
      "epoch: 5 , loss: 0.45718684792518616\n",
      "epoch: 6 , loss: 0.4046489894390106\n",
      "epoch: 7 , loss: 0.2518417537212372\n",
      "epoch: 8 , loss: 0.2638021409511566\n",
      "epoch: 9 , loss: 0.30624470114707947\n",
      "epoch: 10 , loss: 0.2156132608652115\n",
      "epoch: 11 , loss: 0.1962645798921585\n",
      "epoch: 12 , loss: 0.23841294646263123\n",
      "epoch: 13 , loss: 0.19347882270812988\n",
      "epoch: 14 , loss: 0.17331674695014954\n",
      "epoch: 15 , loss: 0.1403488665819168\n",
      "epoch: 16 , loss: 0.10971462726593018\n",
      "epoch: 17 , loss: 0.09726649522781372\n",
      "epoch: 18 , loss: 0.13067583739757538\n",
      "epoch: 19 , loss: 0.10973517596721649\n",
      "epoch: 20 , loss: 0.09472400695085526\n",
      "epoch: 21 , loss: 0.06777341663837433\n",
      "epoch: 22 , loss: 0.1027136892080307\n",
      "epoch: 23 , loss: 0.05104175582528114\n",
      "epoch: 24 , loss: 0.09576085209846497\n",
      "epoch: 25 , loss: 0.05780002102255821\n",
      "epoch: 26 , loss: 0.0844801589846611\n",
      "epoch: 27 , loss: 0.09065759927034378\n",
      "epoch: 28 , loss: 0.08853019773960114\n",
      "epoch: 29 , loss: 0.0692654550075531\n",
      "epoch: 30 , loss: 0.07899382710456848\n",
      "epoch: 31 , loss: 0.05167105421423912\n",
      "epoch: 32 , loss: 0.036949362605810165\n",
      "epoch: 33 , loss: 0.05982661992311478\n",
      "epoch: 34 , loss: 0.0625213161110878\n",
      "epoch: 35 , loss: 0.03520102798938751\n",
      "epoch: 36 , loss: 0.06199025735259056\n",
      "epoch: 37 , loss: 0.07947967946529388\n",
      "epoch: 38 , loss: 0.0709099993109703\n",
      "epoch: 39 , loss: 0.029902834445238113\n",
      "epoch: 40 , loss: 0.0585983581840992\n",
      "epoch: 41 , loss: 0.028090305626392365\n",
      "epoch: 42 , loss: 0.05120709165930748\n",
      "epoch: 43 , loss: 0.03277730569243431\n",
      "epoch: 44 , loss: 0.02733796462416649\n",
      "epoch: 45 , loss: 0.03623640909790993\n",
      "epoch: 46 , loss: 0.04150300845503807\n",
      "epoch: 47 , loss: 0.05457890033721924\n",
      "epoch: 48 , loss: 0.024113841354846954\n",
      "epoch: 49 , loss: 0.029405077919363976\n",
      "epoch: 50 , loss: 0.037494927644729614\n"
     ]
    }
   ],
   "source": [
    "optimizer = torch.optim.Adam(model.parameters(), lr=0.001)\n",
    "criterion = nn.CrossEntropyLoss().to(device)\n",
    "model.train()\n",
    "for epoch in range(50):\n",
    "    for feature, target in dataloader:\n",
    "        feature = feature.to(device)\n",
    "        target = target.to(device)\n",
    "        optimizer.zero_grad()\n",
    "        logits = model(feature)\n",
    "        loss = criterion(logits, target.squeeze())\n",
    "        loss.backward()\n",
    "        optimizer.step()\n",
    "    print('epoch:', epoch + 1, ', loss:', loss.item())"
   ]
  },
  {
   "cell_type": "markdown",
   "id": "b22b264c",
   "metadata": {},
   "source": [
    "# 4.预测"
   ]
  },
  {
   "cell_type": "code",
   "execution_count": 13,
   "id": "83855c87",
   "metadata": {
    "pycharm": {
     "name": "#%%\n"
    }
   },
   "outputs": [],
   "source": [
    "model.eval()\n",
    "df_train = pd.read_csv('../data/THUCNews/train.csv')\n",
    "df_test = pd.read_csv('../data/THUCNews/test.csv')"
   ]
  },
  {
   "cell_type": "code",
   "execution_count": 15,
   "id": "91572ea6",
   "metadata": {
    "pycharm": {
     "name": "#%%\n"
    }
   },
   "outputs": [
    {
     "name": "stdout",
     "output_type": "stream",
     "text": [
      "沪指站 稳日线 两 市 仅 只股 下跌 ||| actual: 股票 , predict: 股票\n",
      "组图 不务正业 明星 周慧敏 代言 塑身 中心 ||| actual: 娱乐 , predict: 娱乐\n",
      "家用 新机 富士 套装 促销 元 ||| actual: 科技 , predict: 科技\n",
      "减肥 过来 八 种 食物 刮油 组图 ||| actual: 时尚 , predict: 时尚\n",
      "考核 学术 潜力 考研 面试 导师 爱问 开放式 问题 ||| actual: 教育 , predict: 教育\n",
      "西甲 最佳 防线 岁 组合 创造 岁 领袖 敬业 精神 超罗 ||| actual: 体育 , predict: 体育\n",
      "基金节 前 净 申购 亿份 创下 半年 新高 ||| actual: 财经 , predict: 财经\n",
      "托福 口语 考试 中 四 种 欠佳 表现 建议 ||| actual: 教育 , predict: 教育\n",
      "观望 氛围 渐 浓股 市场 早盘 震荡 下跌 ||| actual: 股票 , predict: 股票\n",
      "米兰 第三 位 新援 闪电 加盟 全能 后卫 火速 飞抵 体检 签约 ||| actual: 体育 , predict: 体育\n"
     ]
    }
   ],
   "source": [
    "for i, row in df_test.sample(10).iterrows():\n",
    "    title = row['title']\n",
    "    actual = row['class']\n",
    "    title = re.sub(r'[^\\u4e00-\\u9fa5]', '', title)\n",
    "    tokens = [token for token in tokenizer(title.strip()) if token not in stopwords]\n",
    "    inputs = dataset.vocab.lookup_indices(tokens)\n",
    "    inputs = torch.LongTensor(inputs).unsqueeze(1).to(device)\n",
    "    predict = model(inputs)\n",
    "    predict_class = dict(zip(df_train['label'], df_train['class']))[predict.max(1)[1].item()]    \n",
    "    print(' '.join(tokens), '||| actual:', actual, ', predict:', predict_class)"
   ]
  },
  {
   "cell_type": "code",
   "execution_count": null,
   "id": "f7e577e8",
   "metadata": {},
   "outputs": [],
   "source": []
  }
 ],
 "metadata": {
  "kernelspec": {
   "display_name": "Python 3 (ipykernel)",
   "language": "python",
   "name": "python3"
  },
  "language_info": {
   "codemirror_mode": {
    "name": "ipython",
    "version": 3
   },
   "file_extension": ".py",
   "mimetype": "text/x-python",
   "name": "python",
   "nbconvert_exporter": "python",
   "pygments_lexer": "ipython3",
   "version": "3.9.12"
  }
 },
 "nbformat": 4,
 "nbformat_minor": 5
}
