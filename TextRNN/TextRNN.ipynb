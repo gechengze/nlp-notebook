{
 "cells": [
  {
   "cell_type": "code",
   "execution_count": 1,
   "id": "4d0f585b",
   "metadata": {
    "pycharm": {
     "name": "#%%\n"
    }
   },
   "outputs": [],
   "source": [
    "import torch\n",
    "import torch.nn as nn\n",
    "from torch.utils.data import Dataset\n",
    "from torch.utils.data import DataLoader\n",
    "\n",
    "import pandas as pd\n",
    "import jieba\n",
    "import re"
   ]
  },
  {
   "cell_type": "code",
   "execution_count": 2,
   "id": "b4c66135",
   "metadata": {
    "pycharm": {
     "name": "#%%\n"
    }
   },
   "outputs": [],
   "source": [
    "class MyDataset(Dataset):\n",
    "    def __init__(self, max_len, debug=True):\n",
    "        super().__init__()\n",
    "        df = pd.read_csv('../../datasets/THUCNews/train.csv')\n",
    "        df = df.dropna()\n",
    "        if debug:\n",
    "            df = df.sample(2000).reset_index(drop=True)\n",
    "        else:\n",
    "            df = df.sample(50000).reset_index(drop=True)\n",
    "        # 读取常用停用词\n",
    "        stopwords = [line.strip() for line in open('../../stopwords/cn_stopwords.txt', 'r', encoding='utf-8').readlines()]\n",
    "        sentences = []\n",
    "        for title in df['title']:\n",
    "            # 去除标点符号\n",
    "            title = re.sub(r'[^\\u4e00-\\u9fa5]', '', title)\n",
    "            # jieba分词\n",
    "            sentence_seged = jieba.cut(title.strip())\n",
    "            outstr = ''\n",
    "            for word in sentence_seged:\n",
    "                if word != '\\t' and word not in stopwords:\n",
    "                    outstr += word\n",
    "                    outstr += ' '\n",
    "            if outstr != '':\n",
    "                sentences.append(outstr)\n",
    "        # 获取所有词(token), <pad>用来填充不满足max_len的句子\n",
    "        token_list = ['<pad>'] + list(set(' '.join(sentences).split()))\n",
    "        # token和index互转字典\n",
    "        self.token2idx = {token: i for i, token in enumerate(token_list)}\n",
    "        self.idx2token = {i: token for i, token in enumerate(token_list)}\n",
    "        self.vocab_size = len(self.token2idx)\n",
    "\n",
    "        self.inputs = []\n",
    "        for sentence in sentences:\n",
    "            tokens = sentence.split()\n",
    "            input_ = [self.token2idx[token] for token in tokens]\n",
    "            if len(input_) < max_len:\n",
    "                self.inputs.append(input_ + [self.token2idx['<pad>']] * (max_len - len(input_)))\n",
    "            else:\n",
    "                self.inputs.append(input_[: max_len])\n",
    "\n",
    "        self.labels = [[label] for label in df['label'].values.tolist()]\n",
    "        self.n_class = len(df['label'].unique())\n",
    "\n",
    "    def __len__(self):\n",
    "        return len(self.labels)\n",
    "\n",
    "    def __getitem__(self, idx):\n",
    "        return torch.LongTensor(self.inputs[idx]), torch.LongTensor(self.labels[idx])\n",
    "\n",
    "\n",
    "class TextRNN(nn.Module):\n",
    "    def __init__(self, vocab_size, embed_size, n_class, n_hidden):\n",
    "        super().__init__()\n",
    "        # 嵌入层\n",
    "        self.embedding = nn.Embedding(vocab_size, embed_size)\n",
    "        # rnn层，深度为1\n",
    "        self.rnn = nn.RNN(embed_size, n_hidden, 1, batch_first=True)\n",
    "        # 激活函数\n",
    "        self.relu = nn.ReLU()\n",
    "        self.dropout = nn.Dropout(0.1)\n",
    "        # 输出头\n",
    "        self.fc = nn.Linear(n_hidden, n_class)\n",
    "\n",
    "    def forward(self, x):  # x: [batch_size * 句子长度]\n",
    "        x = self.embedding(x)  # [batch_size * 句子长度 * embed_size]\n",
    "        out, _ = self.rnn(x)  # [batch_size * 句子长度 * n_hidden]\n",
    "        out = self.relu(out)\n",
    "        out = self.dropout(out)\n",
    "        logits = self.fc(out[:,-1,:])  # 全连接输出头，[batch_size * n_class]\n",
    "        return logits"
   ]
  },
  {
   "cell_type": "code",
   "execution_count": 3,
   "id": "101dc45d",
   "metadata": {
    "scrolled": true,
    "pycharm": {
     "name": "#%%\n"
    }
   },
   "outputs": [
    {
     "name": "stderr",
     "output_type": "stream",
     "text": [
      "Building prefix dict from the default dictionary ...\n",
      "Loading model from cache /var/folders/d1/4_gsqv2176z583_7rmpm27lh0000gn/T/jieba.cache\n",
      "Loading model cost 0.412 seconds.\n",
      "Prefix dict has been built successfully.\n"
     ]
    },
    {
     "name": "stdout",
     "output_type": "stream",
     "text": [
      "TextRNN(\n",
      "  (embedding): Embedding(8202, 128)\n",
      "  (rnn): RNN(128, 256, batch_first=True)\n",
      "  (relu): ReLU()\n",
      "  (dropout): Dropout(p=0.1, inplace=False)\n",
      "  (fc): Linear(in_features=256, out_features=14, bias=True)\n",
      ")\n",
      "epoch: 1 , loss: 2.2921788692474365\n",
      "epoch: 2 , loss: 2.694180727005005\n",
      "epoch: 3 , loss: 1.8544557094573975\n",
      "epoch: 4 , loss: 1.861046552658081\n",
      "epoch: 5 , loss: 1.4497593641281128\n",
      "epoch: 6 , loss: 1.3731626272201538\n",
      "epoch: 7 , loss: 1.2065224647521973\n",
      "epoch: 8 , loss: 0.8219239115715027\n",
      "epoch: 9 , loss: 0.6023156642913818\n",
      "epoch: 10 , loss: 0.6815493106842041\n",
      "epoch: 11 , loss: 0.22835366427898407\n",
      "epoch: 12 , loss: 0.24305564165115356\n",
      "epoch: 13 , loss: 0.5704612731933594\n",
      "epoch: 14 , loss: 0.028425700962543488\n",
      "epoch: 15 , loss: 0.039246343076229095\n",
      "epoch: 16 , loss: 0.011273359879851341\n",
      "epoch: 17 , loss: 0.012752080336213112\n",
      "epoch: 18 , loss: 0.004150383174419403\n",
      "epoch: 19 , loss: 0.006946096196770668\n",
      "epoch: 20 , loss: 0.009439648129045963\n",
      "epoch: 21 , loss: 0.007732153404504061\n",
      "epoch: 22 , loss: 0.002276760758832097\n",
      "epoch: 23 , loss: 0.0019551606383174658\n",
      "epoch: 24 , loss: 0.002804585499688983\n",
      "epoch: 25 , loss: 0.004868221934884787\n",
      "epoch: 26 , loss: 0.0025959841441363096\n",
      "epoch: 27 , loss: 0.0019496901659294963\n",
      "epoch: 28 , loss: 0.0018423616420477629\n",
      "epoch: 29 , loss: 0.0011415672488510609\n",
      "epoch: 30 , loss: 0.001661210902966559\n",
      "epoch: 31 , loss: 0.0010614513885229826\n",
      "epoch: 32 , loss: 0.0014942969428375363\n",
      "epoch: 33 , loss: 0.000823687354568392\n",
      "epoch: 34 , loss: 0.0007496882462874055\n",
      "epoch: 35 , loss: 0.0013661531265825033\n",
      "epoch: 36 , loss: 0.000600858882535249\n",
      "epoch: 37 , loss: 0.001795280957594514\n",
      "epoch: 38 , loss: 0.0008834473555907607\n",
      "epoch: 39 , loss: 0.0008714693249203265\n",
      "epoch: 40 , loss: 0.0007453149300999939\n",
      "epoch: 41 , loss: 0.000517930428031832\n",
      "epoch: 42 , loss: 0.0005935623776167631\n",
      "epoch: 43 , loss: 0.0005328592378646135\n",
      "epoch: 44 , loss: 0.00032618854311294854\n",
      "epoch: 45 , loss: 0.0005689807003363967\n",
      "epoch: 46 , loss: 0.0008535485249012709\n",
      "epoch: 47 , loss: 0.0002510604390408844\n",
      "epoch: 48 , loss: 0.00024215594748966396\n",
      "epoch: 49 , loss: 0.00019645149586722255\n",
      "epoch: 50 , loss: 0.000253605714533478\n"
     ]
    }
   ],
   "source": [
    "dataset = MyDataset(max_len=10)  # 构造长度为10的句子输入，超过10的句子切掉，不足10的补<pad>\n",
    "dataloader = DataLoader(dataset, batch_size=16, shuffle=True)\n",
    "model = TextRNN(vocab_size=dataset.vocab_size, embed_size=128,\n",
    "                n_class=dataset.n_class, n_hidden=256)\n",
    "print(model)\n",
    "optimizer = torch.optim.Adam(model.parameters(), lr=0.001)\n",
    "criterion = nn.CrossEntropyLoss()\n",
    "for epoch in range(50):\n",
    "    for feature, target in dataloader:\n",
    "        optimizer.zero_grad()\n",
    "        logits = model(feature)\n",
    "        loss = criterion(logits, target.squeeze())\n",
    "        loss.backward()\n",
    "        optimizer.step()\n",
    "    print('epoch:', epoch + 1, ', loss:', loss.item())"
   ]
  },
  {
   "cell_type": "code",
   "execution_count": 4,
   "id": "83855c87",
   "metadata": {
    "pycharm": {
     "name": "#%%\n"
    }
   },
   "outputs": [
    {
     "name": "stdout",
     "output_type": "stream",
     "text": [
      "喜欢 田园 风情 清爽 柔美 图 <pad> <pad> <pad> <pad> ---> label: 家居\n",
      "山西 完成 罕见 超级 转会 卫冕冠军 宏远 三 集体 加盟 ---> label: 体育\n",
      "斯达康 通信 技术 公司 出售 旗下 资产 <pad> <pad> <pad> ---> label: 科技\n",
      "沪 基指 半日 上涨 两市 近九成 封基 飘红 <pad> <pad> ---> label: 财经\n",
      "常昊评 韩联 崔哲瀚 胜 李昌镐 崔毒 见 灭 之势 谱 ---> label: 体育\n",
      "马苏 亮相 碧海 雄心 启动 仪式 现场 变 身 追星族 ---> label: 娱乐\n",
      "超 两成 个股 跌破 增发 价 盐湖 钾肥 四 公司 ---> label: 股票\n",
      "一毛 没花 巨人 仙途衡 时代 手工 装备 <pad> <pad> <pad> ---> label: 游戏\n",
      "美国 月 费城 联储 制造业 指数 <pad> <pad> <pad> <pad> ---> label: 股票\n",
      "中国 休闲 食品 拟下 周四 参加 港交所 聆讯 <pad> <pad> ---> label: 股票\n",
      "张韶涵 打拼 十年 决战 唱响 之巅 图 <pad> <pad> <pad> ---> label: 娱乐\n",
      "厂商 敌个 布朗 巴顿 世界冠军 诞生 <pad> <pad> <pad> <pad> ---> label: 体育\n",
      "通用 食言 不卖 欧宝 德国 生气 <pad> <pad> <pad> <pad> ---> label: 股票\n",
      "退市 前狂 爆 性价比 尼康 套 机仅 <pad> <pad> <pad> ---> label: 科技\n",
      "联游 网络 濒临 退市 唐骏 强硬 裁员 指 杀鸡取卵 <pad> ---> label: 科技\n",
      "靓丽 流线 造型 昂达 仅售元 <pad> <pad> <pad> <pad> <pad> ---> label: 科技\n"
     ]
    }
   ],
   "source": [
    "df = pd.read_csv('../../datasets/THUCNews/train.csv')\n",
    "predict = model(feature).max(1)[1].tolist()\n",
    "for i in range(len(feature.tolist())):\n",
    "    print(' '.join([dataset.idx2token[idx] for idx in feature.tolist()[i]]),\n",
    "          '---> label:',\n",
    "          dict(zip(df['label'], df['class']))[predict[i]])"
   ]
  },
  {
   "cell_type": "code",
   "execution_count": null,
   "id": "91572ea6",
   "metadata": {
    "pycharm": {
     "name": "#%%\n"
    }
   },
   "outputs": [],
   "source": []
  }
 ],
 "metadata": {
  "kernelspec": {
   "display_name": "Python 3 (ipykernel)",
   "language": "python",
   "name": "python3"
  },
  "language_info": {
   "codemirror_mode": {
    "name": "ipython",
    "version": 3
   },
   "file_extension": ".py",
   "mimetype": "text/x-python",
   "name": "python",
   "nbconvert_exporter": "python",
   "pygments_lexer": "ipython3",
   "version": "3.9.12"
  }
 },
 "nbformat": 4,
 "nbformat_minor": 5
}