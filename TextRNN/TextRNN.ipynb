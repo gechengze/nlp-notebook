{
 "cells": [
  {
   "cell_type": "code",
   "execution_count": 1,
   "id": "4d0f585b",
   "metadata": {
    "pycharm": {
     "name": "#%%\n"
    }
   },
   "outputs": [],
   "source": [
    "import os\n",
    "os.environ['KMP_DUPLICATE_LIB_OK'] = 'True'\n",
    "\n",
    "import torch\n",
    "import torchtext\n",
    "import torch.nn as nn\n",
    "from torch.utils.data import Dataset\n",
    "from torch.utils.data import DataLoader\n",
    "from torch.nn.utils.rnn import pad_sequence\n",
    "\n",
    "import pandas as pd\n",
    "import re\n",
    "from collections import Counter\n",
    "from tqdm.notebook import tqdm\n",
    "\n",
    "device = torch.device('cuda' if torch.cuda.is_available() else 'cpu')  # 能用gpu则用gpu"
   ]
  },
  {
   "cell_type": "markdown",
   "id": "bef204f9",
   "metadata": {},
   "source": [
    "# 1.准备数据"
   ]
  },
  {
   "cell_type": "code",
   "execution_count": 2,
   "id": "287b008a",
   "metadata": {},
   "outputs": [],
   "source": [
    "class MyDataset(Dataset):\n",
    "    def __init__(self, file_path, tokenizer, stopwords, debug=True):\n",
    "        df = pd.read_csv(file_path)\n",
    "        df = df.dropna().reset_index(drop=True)\n",
    "        if debug:\n",
    "            df = df.sample(2000).reset_index(drop=True)\n",
    "        counter = Counter()\n",
    "        sentences = []\n",
    "        for title in tqdm(df['title']):\n",
    "            # 去除标点符号\n",
    "            title = re.sub(r'[^\\u4e00-\\u9fa5]', '', title)\n",
    "            tokens = [token for token in tokenizer(title.strip()) if token not in stopwords]\n",
    "            counter.update(tokens)\n",
    "            sentences.append(tokens)\n",
    "        self.vocab = torchtext.vocab.vocab(counter, specials=['<unk>', '<pad>'])\n",
    "        self.vocab.set_default_index(self.vocab['<unk>'])\n",
    "\n",
    "        self.inputs = [self.vocab.lookup_indices(tokens) for tokens in sentences]\n",
    "        self.labels = [[label] for label in df['label'].values.tolist()]\n",
    "        self.n_class = len(df['label'].unique())\n",
    "\n",
    "    def __len__(self):\n",
    "        return len(self.labels)\n",
    "\n",
    "    def __getitem__(self, idx):\n",
    "        return torch.LongTensor(self.inputs[idx]), torch.LongTensor(self.labels[idx])"
   ]
  },
  {
   "cell_type": "code",
   "execution_count": 3,
   "id": "8b8cc891",
   "metadata": {},
   "outputs": [
    {
     "data": {
      "application/vnd.jupyter.widget-view+json": {
       "model_id": "e3c2d55b24a042beb6e56f6e6b296b99",
       "version_major": 2,
       "version_minor": 0
      },
      "text/plain": [
       "  0%|          | 0/2000 [00:00<?, ?it/s]"
      ]
     },
     "metadata": {},
     "output_type": "display_data"
    }
   ],
   "source": [
    "file_path = '../data/THUCNews/train.csv'\n",
    "tokenizer = torchtext.data.utils.get_tokenizer('spacy', language='zh_core_web_sm')\n",
    "stopwords = [line.strip() for line in open('../stopwords/cn_stopwords.txt', 'r', encoding='utf-8').readlines()]\n",
    "dataset = MyDataset(file_path, tokenizer, stopwords, debug=True)"
   ]
  },
  {
   "cell_type": "code",
   "execution_count": 4,
   "id": "e778af96",
   "metadata": {},
   "outputs": [],
   "source": [
    "def collate_fn(batch_data):\n",
    "    return pad_sequence([x for x, y in batch_data], padding_value=1), torch.tensor([y for x, y in batch_data]).unsqueeze(1)\n",
    "\n",
    "dataloader = DataLoader(dataset, batch_size=8, shuffle=True, collate_fn=collate_fn)"
   ]
  },
  {
   "cell_type": "markdown",
   "id": "3e4e4844",
   "metadata": {},
   "source": [
    "# 2.构建模型"
   ]
  },
  {
   "cell_type": "code",
   "execution_count": 5,
   "id": "2024b8d2",
   "metadata": {},
   "outputs": [],
   "source": [
    "class TextRNN(nn.Module):\n",
    "    def __init__(self, vocab_size, embed_size, n_class, n_hidden):\n",
    "        super().__init__()\n",
    "        # 嵌入层\n",
    "        self.embedding = nn.Embedding(vocab_size, embed_size)\n",
    "        # rnn层，深度为1\n",
    "        self.rnn = nn.RNN(embed_size, n_hidden, 1, batch_first=True)\n",
    "        # 激活函数\n",
    "        self.relu = nn.ReLU()\n",
    "        self.dropout = nn.Dropout(0.1)\n",
    "        # 输出头\n",
    "        self.fc = nn.Linear(n_hidden, n_class)\n",
    "\n",
    "    def forward(self, x):  # x: [batch_size * 句子长度]\n",
    "        x = x.permute(1, 0)\n",
    "        x = self.embedding(x)  # [batch_size * 句子长度 * embed_size]\n",
    "        out, _ = self.rnn(x)  # [batch_size * 句子长度 * n_hidden]\n",
    "        out = self.relu(out)\n",
    "        out = self.dropout(out)\n",
    "        logits = self.fc(out[:,-1,:])  # 全连接输出头，[batch_size * n_class]\n",
    "        return logits"
   ]
  },
  {
   "cell_type": "code",
   "execution_count": 6,
   "id": "e7f633e9",
   "metadata": {},
   "outputs": [
    {
     "name": "stdout",
     "output_type": "stream",
     "text": [
      "TextRNN(\n",
      "  (embedding): Embedding(8296, 256)\n",
      "  (rnn): RNN(256, 256, batch_first=True)\n",
      "  (relu): ReLU()\n",
      "  (dropout): Dropout(p=0.1, inplace=False)\n",
      "  (fc): Linear(in_features=256, out_features=14, bias=True)\n",
      ")\n"
     ]
    }
   ],
   "source": [
    "model = TextRNN(vocab_size=len(dataset.vocab), embed_size=256,\n",
    "                n_class=dataset.n_class, n_hidden=256)\n",
    "print(model)"
   ]
  },
  {
   "cell_type": "markdown",
   "id": "43074c37",
   "metadata": {},
   "source": [
    "# 3.训练模型"
   ]
  },
  {
   "cell_type": "code",
   "execution_count": 7,
   "id": "101dc45d",
   "metadata": {
    "pycharm": {
     "name": "#%%\n"
    },
    "scrolled": true
   },
   "outputs": [
    {
     "name": "stdout",
     "output_type": "stream",
     "text": [
      "epoch: 1 , loss: 2.174243688583374\n",
      "epoch: 2 , loss: 2.2110953330993652\n",
      "epoch: 3 , loss: 2.2244646549224854\n",
      "epoch: 4 , loss: 1.8100379705429077\n",
      "epoch: 5 , loss: 2.5221920013427734\n",
      "epoch: 6 , loss: 0.8147572875022888\n",
      "epoch: 7 , loss: 1.1269183158874512\n",
      "epoch: 8 , loss: 1.3657796382904053\n",
      "epoch: 9 , loss: 0.7826325297355652\n",
      "epoch: 10 , loss: 0.9504817724227905\n",
      "epoch: 11 , loss: 1.0735821723937988\n",
      "epoch: 12 , loss: 1.4629770517349243\n",
      "epoch: 13 , loss: 0.9995056390762329\n",
      "epoch: 14 , loss: 0.08523799479007721\n",
      "epoch: 15 , loss: 0.23698575794696808\n",
      "epoch: 16 , loss: 1.2046316862106323\n",
      "epoch: 17 , loss: 0.17610621452331543\n",
      "epoch: 18 , loss: 0.31034454703330994\n",
      "epoch: 19 , loss: 0.03145840764045715\n",
      "epoch: 20 , loss: 0.1438242644071579\n",
      "epoch: 21 , loss: 0.1259716898202896\n",
      "epoch: 22 , loss: 0.09876754879951477\n",
      "epoch: 23 , loss: 0.026621876284480095\n",
      "epoch: 24 , loss: 0.05967681109905243\n",
      "epoch: 25 , loss: 0.05308494344353676\n",
      "epoch: 26 , loss: 0.09321297705173492\n",
      "epoch: 27 , loss: 0.004398717079311609\n",
      "epoch: 28 , loss: 0.00993090309202671\n",
      "epoch: 29 , loss: 0.008070341311395168\n",
      "epoch: 30 , loss: 0.17478038370609283\n",
      "epoch: 31 , loss: 0.020754681900143623\n",
      "epoch: 32 , loss: 0.009589712135493755\n",
      "epoch: 33 , loss: 0.013639318756759167\n",
      "epoch: 34 , loss: 0.17640018463134766\n",
      "epoch: 35 , loss: 0.0022986282128840685\n",
      "epoch: 36 , loss: 0.010112580843269825\n",
      "epoch: 37 , loss: 0.03451250493526459\n",
      "epoch: 38 , loss: 0.0045554181560873985\n",
      "epoch: 39 , loss: 0.00199888925999403\n",
      "epoch: 40 , loss: 0.014644780196249485\n",
      "epoch: 41 , loss: 0.0011521117994561791\n",
      "epoch: 42 , loss: 0.01921498216688633\n",
      "epoch: 43 , loss: 0.03013583831489086\n",
      "epoch: 44 , loss: 0.007506807800382376\n",
      "epoch: 45 , loss: 0.0005439766682684422\n",
      "epoch: 46 , loss: 0.001098170643672347\n",
      "epoch: 47 , loss: 0.0002671592228580266\n",
      "epoch: 48 , loss: 0.0021489381324499846\n",
      "epoch: 49 , loss: 0.0003874282701872289\n",
      "epoch: 50 , loss: 0.1903732419013977\n"
     ]
    }
   ],
   "source": [
    "optimizer = torch.optim.Adam(model.parameters(), lr=0.001)\n",
    "criterion = nn.CrossEntropyLoss()\n",
    "model.train()\n",
    "for epoch in range(50):\n",
    "    for feature, target in dataloader:\n",
    "        optimizer.zero_grad()\n",
    "        logits = model(feature)\n",
    "        loss = criterion(logits, target.squeeze())\n",
    "        loss.backward()\n",
    "        optimizer.step()\n",
    "    print('epoch:', epoch + 1, ', loss:', loss.item())"
   ]
  },
  {
   "cell_type": "markdown",
   "id": "b22b264c",
   "metadata": {},
   "source": [
    "# 4.预测"
   ]
  },
  {
   "cell_type": "code",
   "execution_count": 8,
   "id": "83855c87",
   "metadata": {
    "pycharm": {
     "name": "#%%\n"
    }
   },
   "outputs": [],
   "source": [
    "model.eval()\n",
    "df_train = pd.read_csv('../data/THUCNews/train.csv')\n",
    "df_test = pd.read_csv('../data/THUCNews/test.csv')"
   ]
  },
  {
   "cell_type": "code",
   "execution_count": 10,
   "id": "91572ea6",
   "metadata": {
    "pycharm": {
     "name": "#%%\n"
    }
   },
   "outputs": [
    {
     "name": "stdout",
     "output_type": "stream",
     "text": [
      "女 司机 穿 睡衣 载客 跑 生意 遭 抢劫 ||| actual: 社会 , predict: 体育\n",
      "美国 遣返 名 间谍案 俄罗斯人 ||| actual: 时政 , predict: 股票\n",
      "港股 认股 证成 交额 亿 元 占 大市 ||| actual: 股票 , predict: 股票\n",
      "沪 铜 连续 跌 停多 头 两 日 浮亏 超亿 ||| actual: 财经 , predict: 社会\n",
      "明星 惨遭 金融 摧残 李嘉欣 巨亏 亿 图 ||| actual: 股票 , predict: 体育\n",
      "全筑 集团 万科 全 装修 合作 驶入 快车道 ||| actual: 家居 , predict: 财经\n",
      "下午 茶 喝 出 优美 瘦曲线 组图 ||| actual: 时尚 , predict: 社会\n",
      "波 震荡 上涨 牛市 正在 延续 ||| actual: 股票 , predict: 科技\n",
      "李嘉欣 婚讯 故弄玄虚亿 元 身家 沉没 股 海图 ||| actual: 娱乐 , predict: 股票\n",
      "勒布朗 炫丽 三 双 获 赛季 高 评价 昔日 废柴 竟 并列 皇帝 ||| actual: 体育 , predict: 体育\n"
     ]
    }
   ],
   "source": [
    "for i, row in df_test.sample(10).iterrows():\n",
    "    title = row['title']\n",
    "    actual = row['class']\n",
    "    title = re.sub(r'[^\\u4e00-\\u9fa5]', '', title)\n",
    "    tokens = [token for token in tokenizer(title.strip()) if token not in stopwords]\n",
    "    inputs = dataset.vocab.lookup_indices(tokens)\n",
    "    inputs = torch.LongTensor(inputs).unsqueeze(1).to(device)\n",
    "    predict = model(inputs)\n",
    "    predict_class = dict(zip(df_train['label'], df_train['class']))[predict.max(1)[1].item()]    \n",
    "    print(' '.join(tokens), '||| actual:', actual, ', predict:', predict_class)"
   ]
  },
  {
   "cell_type": "code",
   "execution_count": null,
   "id": "f7e577e8",
   "metadata": {},
   "outputs": [],
   "source": []
  }
 ],
 "metadata": {
  "kernelspec": {
   "display_name": "Python 3 (ipykernel)",
   "language": "python",
   "name": "python3"
  },
  "language_info": {
   "codemirror_mode": {
    "name": "ipython",
    "version": 3
   },
   "file_extension": ".py",
   "mimetype": "text/x-python",
   "name": "python",
   "nbconvert_exporter": "python",
   "pygments_lexer": "ipython3",
   "version": "3.9.12"
  }
 },
 "nbformat": 4,
 "nbformat_minor": 5
}
