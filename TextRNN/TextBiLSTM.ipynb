{
 "cells": [
  {
   "cell_type": "code",
   "execution_count": 1,
   "id": "4d0f585b",
   "metadata": {
    "pycharm": {
     "name": "#%%\n"
    }
   },
   "outputs": [],
   "source": [
    "import torch\n",
    "import torch.nn as nn\n",
    "from torch.utils.data import Dataset\n",
    "from torch.utils.data import DataLoader\n",
    "\n",
    "import pandas as pd\n",
    "import jieba\n",
    "import re"
   ]
  },
  {
   "cell_type": "code",
   "execution_count": 13,
   "id": "b4c66135",
   "metadata": {
    "pycharm": {
     "name": "#%%\n"
    }
   },
   "outputs": [],
   "source": [
    "class MyDataset(Dataset):\n",
    "    def __init__(self, max_len, debug=True):\n",
    "        super().__init__()\n",
    "        df = pd.read_csv('../../datasets/THUCNews/train.csv')\n",
    "        df = df.dropna()\n",
    "        if debug:\n",
    "            df = df.sample(2000).reset_index(drop=True)\n",
    "        else:\n",
    "            df = df.sample(50000).reset_index(drop=True)\n",
    "        # 读取常用停用词\n",
    "        stopwords = [line.strip() for line in open('../../stopwords/cn_stopwords.txt', 'r', encoding='utf-8').readlines()]\n",
    "        sentences = []\n",
    "        for title in df['title']:\n",
    "            # 去除标点符号\n",
    "            title = re.sub(r'[^\\u4e00-\\u9fa5]', '', title)\n",
    "            # jieba分词\n",
    "            sentence_seged = jieba.cut(title.strip())\n",
    "            outstr = ''\n",
    "            for word in sentence_seged:\n",
    "                if word != '\\t' and word not in stopwords:\n",
    "                    outstr += word\n",
    "                    outstr += ' '\n",
    "            if outstr != '':\n",
    "                sentences.append(outstr)\n",
    "        # 获取所有词(token), <pad>用来填充不满足max_len的句子\n",
    "        token_list = ['<pad>'] + list(set(' '.join(sentences).split()))\n",
    "        # token和index互转字典\n",
    "        self.token2idx = {token: i for i, token in enumerate(token_list)}\n",
    "        self.idx2token = {i: token for i, token in enumerate(token_list)}\n",
    "        self.vocab_size = len(self.token2idx)\n",
    "\n",
    "        self.inputs = []\n",
    "        for sentence in sentences:\n",
    "            tokens = sentence.split()\n",
    "            input_ = [self.token2idx[token] for token in tokens]\n",
    "            if len(input_) < max_len:\n",
    "                self.inputs.append(input_ + [self.token2idx['<pad>']] * (max_len - len(input_)))\n",
    "            else:\n",
    "                self.inputs.append(input_[: max_len])\n",
    "\n",
    "        self.labels = [[label] for label in df['label'].values.tolist()]\n",
    "        self.n_class = len(df['label'].unique())\n",
    "\n",
    "    def __len__(self):\n",
    "        return len(self.labels)\n",
    "\n",
    "    def __getitem__(self, idx):\n",
    "        return torch.LongTensor(self.inputs[idx]), torch.LongTensor(self.labels[idx])\n",
    "\n",
    "\n",
    "class TextBiLSTM(nn.Module):\n",
    "    def __init__(self, vocab_size, embed_size, n_class, n_hidden):\n",
    "        super().__init__()\n",
    "        # 嵌入层\n",
    "        self.embedding = nn.Embedding(vocab_size, embed_size)\n",
    "        # rnn层，深度为1\n",
    "        self.lstm = nn.LSTM(embed_size, n_hidden, 1, batch_first=True, bidirectional=True)\n",
    "        # 激活函数\n",
    "        self.relu = nn.ReLU()\n",
    "        self.dropout = nn.Dropout(0.1)\n",
    "        # 输出头\n",
    "        self.fc = nn.Linear(n_hidden * 2, n_class)\n",
    "\n",
    "    def forward(self, x):  # x: [batch_size * 句子长度]\n",
    "        x = self.embedding(x)  # [batch_size * 句子长度 * embed_size]\n",
    "        out, (_, _) = self.lstm(x)  # [batch_size * 句子长度 * n_hidden]\n",
    "        out = self.relu(out)\n",
    "        out = self.dropout(out)\n",
    "        logits = self.fc(out[:,-1,:])  # 全连接输出头，[batch_size * n_class]\n",
    "        return logits"
   ]
  },
  {
   "cell_type": "code",
   "execution_count": 16,
   "id": "101dc45d",
   "metadata": {
    "pycharm": {
     "name": "#%%\n"
    },
    "scrolled": true
   },
   "outputs": [
    {
     "name": "stdout",
     "output_type": "stream",
     "text": [
      "TextBiLSTM(\n",
      "  (embedding): Embedding(8313, 128)\n",
      "  (lstm): LSTM(128, 256, batch_first=True, bidirectional=True)\n",
      "  (relu): ReLU()\n",
      "  (dropout): Dropout(p=0.1, inplace=False)\n",
      "  (fc): Linear(in_features=512, out_features=14, bias=True)\n",
      ")\n",
      "epoch: 1 , loss: 2.2370526790618896\n",
      "epoch: 2 , loss: 1.2687817811965942\n",
      "epoch: 3 , loss: 1.7982620000839233\n",
      "epoch: 4 , loss: 1.1352111101150513\n",
      "epoch: 5 , loss: 1.0432990789413452\n",
      "epoch: 6 , loss: 0.31441110372543335\n",
      "epoch: 7 , loss: 0.33986926078796387\n",
      "epoch: 8 , loss: 0.047737207263708115\n",
      "epoch: 9 , loss: 0.026677202433347702\n",
      "epoch: 10 , loss: 0.03607143834233284\n",
      "epoch: 11 , loss: 0.5002908706665039\n",
      "epoch: 12 , loss: 0.0061968183144927025\n",
      "epoch: 13 , loss: 0.00960513111203909\n",
      "epoch: 14 , loss: 0.003971426747739315\n",
      "epoch: 15 , loss: 0.002365739783272147\n",
      "epoch: 16 , loss: 0.0022870022803545\n",
      "epoch: 17 , loss: 0.003123865695670247\n",
      "epoch: 18 , loss: 0.0016807448118925095\n",
      "epoch: 19 , loss: 0.002969244495034218\n",
      "epoch: 20 , loss: 0.0016908154357224703\n",
      "epoch: 21 , loss: 0.002155675319954753\n",
      "epoch: 22 , loss: 0.0018371313344687223\n",
      "epoch: 23 , loss: 0.0013231056509539485\n",
      "epoch: 24 , loss: 0.001197969657368958\n",
      "epoch: 25 , loss: 0.0007580603123642504\n",
      "epoch: 26 , loss: 0.0004645831650123\n",
      "epoch: 27 , loss: 0.0008404966210946441\n",
      "epoch: 28 , loss: 0.0006336813094094396\n",
      "epoch: 29 , loss: 0.00032958603696897626\n",
      "epoch: 30 , loss: 0.0005124692106619477\n",
      "epoch: 31 , loss: 0.0006862361915409565\n",
      "epoch: 32 , loss: 0.00035854335874319077\n",
      "epoch: 33 , loss: 0.0003880937583744526\n",
      "epoch: 34 , loss: 0.00030936667462810874\n",
      "epoch: 35 , loss: 0.0001575759961269796\n",
      "epoch: 36 , loss: 0.00014035844651516527\n",
      "epoch: 37 , loss: 0.00028291461057960987\n",
      "epoch: 38 , loss: 0.00025683865533210337\n",
      "epoch: 39 , loss: 0.00018587398517411202\n",
      "epoch: 40 , loss: 0.0001495034812251106\n",
      "epoch: 41 , loss: 0.0003861331206280738\n",
      "epoch: 42 , loss: 0.000218142187804915\n",
      "epoch: 43 , loss: 7.48214079067111e-05\n",
      "epoch: 44 , loss: 0.00018362315313424915\n",
      "epoch: 45 , loss: 0.00012192156282253563\n",
      "epoch: 46 , loss: 0.00013780311564914882\n",
      "epoch: 47 , loss: 0.00014332299178931862\n",
      "epoch: 48 , loss: 8.7404390797019e-05\n",
      "epoch: 49 , loss: 0.0001350653328699991\n",
      "epoch: 50 , loss: 0.0001390167308272794\n"
     ]
    }
   ],
   "source": [
    "dataset = MyDataset(max_len=10)  # 构造长度为10的句子输入，超过10的句子切掉，不足10的补<pad>\n",
    "dataloader = DataLoader(dataset, batch_size=16, shuffle=True)\n",
    "model = TextBiLSTM(vocab_size=dataset.vocab_size, embed_size=128,\n",
    "                   n_class=dataset.n_class, n_hidden=256)\n",
    "print(model)\n",
    "optimizer = torch.optim.Adam(model.parameters(), lr=0.001)\n",
    "criterion = nn.CrossEntropyLoss()\n",
    "for epoch in range(50):\n",
    "    for feature, target in dataloader:\n",
    "        optimizer.zero_grad()\n",
    "        logits = model(feature)\n",
    "        loss = criterion(logits, target.squeeze())\n",
    "        loss.backward()\n",
    "        optimizer.step()\n",
    "    print('epoch:', epoch + 1, ', loss:', loss.item())"
   ]
  },
  {
   "cell_type": "code",
   "execution_count": 17,
   "id": "83855c87",
   "metadata": {
    "pycharm": {
     "name": "#%%\n"
    }
   },
   "outputs": [
    {
     "name": "stdout",
     "output_type": "stream",
     "text": [
      "教育部 副 部长 章新胜 赞成 文理 分科 图 <pad> <pad> ---> label: 教育\n",
      "辽足 公布 挂牌 名单 王新欣 上榜 身价 万 成 标王 ---> label: 体育\n",
      "中国联通 发行 亿 短期 融资券 <pad> <pad> <pad> <pad> <pad> ---> label: 科技\n",
      "所自 划线 高校 年 理学 考研 分数线 统计 <pad> <pad> ---> label: 教育\n",
      "高手 分享 雅思 口语 与众不同 <pad> <pad> <pad> <pad> <pad> ---> label: 教育\n",
      "易建联 迪奥 贝尔 山猫 升级 提单 场分 意义 <pad> <pad> ---> label: 体育\n",
      "官恩娜 手机 失而复得 保住 男友 密照 短信 图 <pad> <pad> ---> label: 娱乐\n",
      "福建 福州市 普高 第二轮 投档 降分 录取 <pad> <pad> <pad> ---> label: 教育\n",
      "受累 高铁 股 半程 公募 冠军 申 赎 正常 <pad> ---> label: 财经\n",
      "倍 光学 变焦镜头 松下 最新 价元 <pad> <pad> <pad> <pad> ---> label: 科技\n",
      "揭秘 未婚 女孩 服 避孕药 真的 美容 组图 <pad> <pad> ---> label: 时尚\n",
      "亚太 股市 升势 暂缓 五大 利好 推股 领涨 <pad> <pad> ---> label: 股票\n",
      "午评 沪 指 震荡 涨欲攻 板块 全线 飘红 <pad> <pad> ---> label: 股票\n",
      "海鸥 双色球 期 红蓝 看点 三码定 蓝球 <pad> <pad> <pad> ---> label: 彩票\n",
      "新闻调查 近三成 住户 采用 地热 方式 采暖 <pad> <pad> <pad> ---> label: 家居\n",
      "吉尔吉斯 议会 下周 表决 关闭 美军基地 提案 <pad> <pad> <pad> ---> label: 时政\n"
     ]
    }
   ],
   "source": [
    "df = pd.read_csv('../../datasets/THUCNews/train.csv')\n",
    "predict = model(feature).max(1)[1].tolist()\n",
    "for i in range(len(feature.tolist())):\n",
    "    print(' '.join([dataset.idx2token[idx] for idx in feature.tolist()[i]]),\n",
    "          '---> label:',\n",
    "          dict(zip(df['label'], df['class']))[predict[i]])"
   ]
  },
  {
   "cell_type": "code",
   "execution_count": null,
   "id": "cf10abc6",
   "metadata": {
    "pycharm": {
     "name": "#%%\n"
    }
   },
   "outputs": [],
   "source": []
  }
 ],
 "metadata": {
  "kernelspec": {
   "display_name": "Python 3 (ipykernel)",
   "language": "python",
   "name": "python3"
  },
  "language_info": {
   "codemirror_mode": {
    "name": "ipython",
    "version": 3
   },
   "file_extension": ".py",
   "mimetype": "text/x-python",
   "name": "python",
   "nbconvert_exporter": "python",
   "pygments_lexer": "ipython3",
   "version": "3.9.12"
  }
 },
 "nbformat": 4,
 "nbformat_minor": 5
}