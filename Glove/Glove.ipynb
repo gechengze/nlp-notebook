{
 "cells": [
  {
   "cell_type": "code",
   "execution_count": 135,
   "id": "2395ad7f",
   "metadata": {},
   "outputs": [],
   "source": [
    "import os\n",
    "os.environ['KMP_DUPLICATE_LIB_OK'] = 'True'\n",
    "\n",
    "import torch\n",
    "import torchtext\n",
    "import jieba\n",
    "import re\n",
    "import pandas as pd\n",
    "from tqdm.notebook import tqdm"
   ]
  },
  {
   "cell_type": "markdown",
   "id": "82d27da2",
   "metadata": {},
   "source": [
    "# 1.训练Glove中文词向量"
   ]
  },
  {
   "cell_type": "markdown",
   "id": "92f0d95e",
   "metadata": {},
   "source": [
    "### 1.1将文本分词并去除停用词后按行写入文件"
   ]
  },
  {
   "cell_type": "code",
   "execution_count": 143,
   "id": "8fdad253",
   "metadata": {},
   "outputs": [
    {
     "data": {
      "application/vnd.jupyter.widget-view+json": {
       "model_id": "8ba9b24cba1e49e3a9d766a1ca87488a",
       "version_major": 2,
       "version_minor": 0
      },
      "text/plain": [
       "  0%|          | 0/100000 [00:00<?, ?it/s]"
      ]
     },
     "metadata": {},
     "output_type": "display_data"
    }
   ],
   "source": [
    "df = pd.read_csv('../data/THUCNews/train.csv').dropna().sample(100000)\n",
    "stopwords = [line.strip() for line in open('../stopwords/cn_stopwords.txt', 'r', encoding='utf-8').readlines()]\n",
    "\n",
    "f = open('./stanford-Glove/THUCNews.txt', 'w')\n",
    "for title in tqdm(df['title']):   \n",
    "    # 去除标点符号\n",
    "    title = re.sub(r'[^\\u4e00-\\u9fa5]', '', title)\n",
    "    tokens = [token for token in jieba.cut(title.strip()) if token not in stopwords]\n",
    "    f.write(' '.join(tokens) + '\\n')\n",
    "f.close()"
   ]
  },
  {
   "cell_type": "markdown",
   "id": "a2cc4f7d",
   "metadata": {},
   "source": [
    "### 1.2使用standford/Glove工具训练"
   ]
  },
  {
   "cell_type": "code",
   "execution_count": 137,
   "id": "3441c201",
   "metadata": {},
   "outputs": [],
   "source": [
    "\n",
    "# cd stanford-Glove\n",
    "# make\n",
    "# sh demo.sh"
   ]
  },
  {
   "cell_type": "markdown",
   "id": "f01ff9e5",
   "metadata": {},
   "source": [
    "# 2.加载Glove词向量"
   ]
  },
  {
   "cell_type": "code",
   "execution_count": 138,
   "id": "ea7ef3b7",
   "metadata": {},
   "outputs": [],
   "source": [
    "# 加载Glove预训练的词向量\n",
    "embeddings = torchtext.vocab.Vectors(name ='chinese-glove-vectors.txt')"
   ]
  },
  {
   "cell_type": "code",
   "execution_count": 139,
   "id": "2b908eb0",
   "metadata": {},
   "outputs": [
    {
     "name": "stdout",
     "output_type": "stream",
     "text": [
      "0.5108680129051208\n",
      "0.42951643466949463\n",
      "0.3974078893661499\n",
      "0.26060956716537476\n",
      "0.6339325308799744\n",
      "0.22046658396720886\n"
     ]
    }
   ],
   "source": [
    "# 简单计算几个词之间的余弦相似度\n",
    "def cal_cos(token1, token2):\n",
    "    cos = torch.nn.CosineSimilarity(dim=0)\n",
    "    return cos(embeddings.get_vecs_by_tokens(token1), embeddings.get_vecs_by_tokens(token2)).item()\n",
    "\n",
    "print(cal_cos('中国', '美国'))\n",
    "print(cal_cos('中国', '韩国'))\n",
    "print(cal_cos('中国', '第一'))\n",
    "print(cal_cos('图', '组图'))\n",
    "print(cal_cos('巴萨', '皇马'))\n",
    "print(cal_cos('巴萨', '中国'))"
   ]
  },
  {
   "cell_type": "code",
   "execution_count": 142,
   "id": "27ac8e39",
   "metadata": {},
   "outputs": [
    {
     "name": "stdout",
     "output_type": "stream",
     "text": [
      "Parameter containing:\n",
      "tensor([[ 7.9292e-01,  4.0965e-01,  3.9356e-01,  ...,  6.7521e-01,\n",
      "          4.5740e-01, -1.5034e-01],\n",
      "        [-1.2385e-01,  5.2830e-01, -1.1919e+00,  ...,  3.7324e-01,\n",
      "          1.4801e+00,  8.9940e-03],\n",
      "        [-1.7443e-01,  7.7462e-01,  8.4921e-01,  ...,  2.7134e-01,\n",
      "          3.6000e-04,  3.0040e-01],\n",
      "        ...,\n",
      "        [ 2.7707e-01,  1.8921e-01,  1.3570e-01,  ..., -7.4619e-02,\n",
      "          2.4220e-01,  8.8506e-02],\n",
      "        [ 1.0361e-01,  8.5422e-02, -5.5904e-02,  ...,  4.0705e-01,\n",
      "         -1.1426e-01, -1.8612e-01],\n",
      "        [-1.2353e-02,  8.4600e-04, -7.1280e-03,  ..., -6.1163e-02,\n",
      "         -6.0530e-03,  2.0306e-02]])\n",
      "False\n"
     ]
    }
   ],
   "source": [
    "# 将预训练vectors加载到Embdding网络中\n",
    "# freeze为True，则冻结embed层的参数\n",
    "embed = torch.nn.Embedding.from_pretrained(embeddings.vectors, freeze=True)  \n",
    "print(embed.weight)\n",
    "print(embed.weight.requires_grad)"
   ]
  },
  {
   "cell_type": "code",
   "execution_count": null,
   "id": "d2de023f",
   "metadata": {},
   "outputs": [],
   "source": []
  }
 ],
 "metadata": {
  "kernelspec": {
   "display_name": "Python 3 (ipykernel)",
   "language": "python",
   "name": "python3"
  },
  "language_info": {
   "codemirror_mode": {
    "name": "ipython",
    "version": 3
   },
   "file_extension": ".py",
   "mimetype": "text/x-python",
   "name": "python",
   "nbconvert_exporter": "python",
   "pygments_lexer": "ipython3",
   "version": "3.9.12"
  }
 },
 "nbformat": 4,
 "nbformat_minor": 5
}
