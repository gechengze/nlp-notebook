{
 "cells": [
  {
   "cell_type": "code",
   "execution_count": 1,
   "id": "0568ceb8",
   "metadata": {},
   "outputs": [],
   "source": [
    "import torch\n",
    "import torchtext\n",
    "from torch import nn\n",
    "from torch.optim import Adam\n",
    "from torch.utils.data import Dataset\n",
    "from torch.utils.data import DataLoader\n",
    "from transformers import BertTokenizer\n",
    "from transformers import BertModel\n",
    "\n",
    "import pandas as pd\n",
    "import numpy as np\n",
    "from tqdm.notebook import tqdm\n",
    "\n",
    "device = torch.device('cuda') if torch.cuda.is_available() else torch.device('cpu')"
   ]
  },
  {
   "cell_type": "markdown",
   "id": "4679a2e1",
   "metadata": {},
   "source": [
    "# 数据处理"
   ]
  },
  {
   "cell_type": "code",
   "execution_count": 2,
   "id": "3242757e",
   "metadata": {},
   "outputs": [],
   "source": [
    "class MyDataset(Dataset):\n",
    "    def __init__(self, dataset_path, tokenizer):\n",
    "        df = pd.read_csv(dataset_path).dropna().sample(100_000).reset_index(drop=True)\n",
    "        self.labels = df['label']\n",
    "        self.n_classes = len(df['label'].unique())\n",
    "        self.texts = [tokenizer(title, padding='max_length', max_length=32,\n",
    "                                return_tensors='pt', truncation=True)\n",
    "                      for title in tqdm(df['title'])]\n",
    "        \n",
    "    def __len__(self):\n",
    "        return len(self.labels)\n",
    "        \n",
    "    def __getitem__(self, idx):\n",
    "        return self.texts[idx], np.array(self.labels[idx])"
   ]
  },
  {
   "cell_type": "code",
   "execution_count": 3,
   "id": "aaa98dd9",
   "metadata": {},
   "outputs": [
    {
     "data": {
      "application/vnd.jupyter.widget-view+json": {
       "model_id": "8507b5e61c4b442d85f8e2013bbc402d",
       "version_major": 2,
       "version_minor": 0
      },
      "text/plain": [
       "  0%|          | 0/100000 [00:00<?, ?it/s]"
      ]
     },
     "metadata": {},
     "output_type": "display_data"
    },
    {
     "data": {
      "application/vnd.jupyter.widget-view+json": {
       "model_id": "f961ab741f984ed297905ecb8f480217",
       "version_major": 2,
       "version_minor": 0
      },
      "text/plain": [
       "  0%|          | 0/100000 [00:00<?, ?it/s]"
      ]
     },
     "metadata": {},
     "output_type": "display_data"
    }
   ],
   "source": [
    "# 预训练模型 bert-base-chinese\n",
    "model_path = '../../models/bert-base-chinese/'\n",
    "# bert tokenizer\n",
    "tokenizer = BertTokenizer.from_pretrained(model_path)\n",
    "\n",
    "# 构造train dataset和valid dataset\n",
    "train_dataset = MyDataset('../data/THUCNews/train.csv', tokenizer)\n",
    "\n",
    "valid_dataset = MyDataset('../data/THUCNews/valid.csv', tokenizer)"
   ]
  },
  {
   "cell_type": "markdown",
   "id": "d80dc3e9",
   "metadata": {},
   "source": [
    "# 构造模型"
   ]
  },
  {
   "cell_type": "code",
   "execution_count": 4,
   "id": "bd16c7d3",
   "metadata": {},
   "outputs": [
    {
     "name": "stderr",
     "output_type": "stream",
     "text": [
      "Some weights of the model checkpoint at ../../models/bert-base-chinese/ were not used when initializing BertModel: ['cls.seq_relationship.weight', 'cls.predictions.transform.dense.bias', 'cls.predictions.transform.dense.weight', 'cls.predictions.transform.LayerNorm.weight', 'cls.seq_relationship.bias', 'cls.predictions.decoder.weight', 'cls.predictions.transform.LayerNorm.bias', 'cls.predictions.bias']\n",
      "- This IS expected if you are initializing BertModel from the checkpoint of a model trained on another task or with another architecture (e.g. initializing a BertForSequenceClassification model from a BertForPreTraining model).\n",
      "- This IS NOT expected if you are initializing BertModel from the checkpoint of a model that you expect to be exactly identical (initializing a BertForSequenceClassification model from a BertForSequenceClassification model).\n"
     ]
    }
   ],
   "source": [
    "class BertClassifier(nn.Module):\n",
    "    def __init__(self, n_classes, dropout=0.5):\n",
    "        super().__init__()\n",
    "        self.bert = BertModel.from_pretrained(model_path)\n",
    "        self.dropout = nn.Dropout(dropout)\n",
    "        self.linear = nn.Linear(768, n_classes)\n",
    "        self.relu = nn.ReLU()\n",
    "        \n",
    "    def forward(self, input_ids, atention_mask):\n",
    "        _, pooled_output = self.bert(input_ids, atention_mask, return_dict=False)\n",
    "        output = self.dropout(pooled_output)\n",
    "        output = self.linear(output)\n",
    "        output = self.relu(output)\n",
    "        return output\n",
    "    \n",
    "model = BertClassifier(n_classes=train_dataset.n_classes)\n",
    "model = model.to(device)"
   ]
  },
  {
   "cell_type": "markdown",
   "id": "68050d51",
   "metadata": {},
   "source": [
    "# 训练模型"
   ]
  },
  {
   "cell_type": "code",
   "execution_count": 5,
   "id": "a4157947",
   "metadata": {
    "scrolled": true
   },
   "outputs": [
    {
     "name": "stdout",
     "output_type": "stream",
     "text": [
      "Epochs:1|Train Loss: 0.0068|Train Accuracy: 0.5276|Val Loss: 0.0039|Val Accuracy: 0.7844\n",
      "Epochs:2|Train Loss: 0.0028|Train Accuracy: 0.8456|Val Loss: 0.0022|Val Accuracy: 0.8778\n",
      "Epochs:3|Train Loss: 0.0018|Train Accuracy: 0.8954|Val Loss: 0.0017|Val Accuracy: 0.8994\n",
      "Epochs:4|Train Loss: 0.0014|Train Accuracy: 0.9121|Val Loss: 0.0014|Val Accuracy: 0.9109\n",
      "Epochs:5|Train Loss: 0.0012|Train Accuracy: 0.9238|Val Loss: 0.0013|Val Accuracy: 0.9167\n",
      "Epochs:6|Train Loss: 0.0011|Train Accuracy: 0.9318|Val Loss: 0.0012|Val Accuracy: 0.9208\n",
      "Epochs:7|Train Loss: 0.0010|Train Accuracy: 0.9372|Val Loss: 0.0011|Val Accuracy: 0.9231\n",
      "Epochs:8|Train Loss: 0.0009|Train Accuracy: 0.9421|Val Loss: 0.0011|Val Accuracy: 0.9244\n",
      "Epochs:9|Train Loss: 0.0008|Train Accuracy: 0.9464|Val Loss: 0.0010|Val Accuracy: 0.9261\n",
      "Epochs:10|Train Loss: 0.0007|Train Accuracy: 0.9516|Val Loss: 0.0010|Val Accuracy: 0.9269\n",
      "Epochs:11|Train Loss: 0.0007|Train Accuracy: 0.9550|Val Loss: 0.0010|Val Accuracy: 0.9280\n",
      "Epochs:12|Train Loss: 0.0006|Train Accuracy: 0.9590|Val Loss: 0.0010|Val Accuracy: 0.9285\n",
      "Epochs:13|Train Loss: 0.0006|Train Accuracy: 0.9630|Val Loss: 0.0010|Val Accuracy: 0.9297\n",
      "Epochs:14|Train Loss: 0.0005|Train Accuracy: 0.9659|Val Loss: 0.0010|Val Accuracy: 0.9295\n",
      "Epochs:15|Train Loss: 0.0005|Train Accuracy: 0.9696|Val Loss: 0.0010|Val Accuracy: 0.9300\n",
      "Epochs:16|Train Loss: 0.0005|Train Accuracy: 0.9732|Val Loss: 0.0010|Val Accuracy: 0.9299\n",
      "Epochs:17|Train Loss: 0.0004|Train Accuracy: 0.9758|Val Loss: 0.0010|Val Accuracy: 0.9297\n",
      "Epochs:18|Train Loss: 0.0004|Train Accuracy: 0.9785|Val Loss: 0.0010|Val Accuracy: 0.9289\n",
      "Epochs:19|Train Loss: 0.0003|Train Accuracy: 0.9816|Val Loss: 0.0010|Val Accuracy: 0.9291\n",
      "Epochs:20|Train Loss: 0.0003|Train Accuracy: 0.9838|Val Loss: 0.0011|Val Accuracy: 0.9286\n"
     ]
    }
   ],
   "source": [
    "train_dataloader = DataLoader(train_dataset, batch_size=256, shuffle=True)\n",
    "valid_dataloader = DataLoader(valid_dataset, batch_size=256, shuffle=False)\n",
    "\n",
    "criterion = nn.CrossEntropyLoss()\n",
    "optimizer = Adam(model.parameters(), lr=1e-6)\n",
    "\n",
    "for epoch in range(20):\n",
    "    total_loss_train = 0\n",
    "    total_acc_train = 0\n",
    "    for train_input, train_label in train_dataloader:\n",
    "        input_ids = train_input['input_ids'].squeeze(1).to(device)\n",
    "        attention_mask = train_input['attention_mask'].squeeze(1).to(device)\n",
    "        train_label = train_label.to(device)\n",
    "        output = model(input_ids, attention_mask)\n",
    "        loss = criterion(output, train_label)\n",
    "        acc = (output.argmax(dim=1) == train_label).sum().item()\n",
    "\n",
    "        model.zero_grad()\n",
    "        loss.backward()\n",
    "        optimizer.step()\n",
    "\n",
    "        total_loss_train += loss.item()\n",
    "        total_acc_train += acc\n",
    "    \n",
    "    total_loss_valid = 0\n",
    "    total_acc_valid = 0\n",
    "    with torch.no_grad():\n",
    "        for valid_input, valid_label in valid_dataloader:\n",
    "            input_ids = valid_input['input_ids'].squeeze(1).to(device)\n",
    "            attention_mask = valid_input['attention_mask'].squeeze(1).to(device)\n",
    "            valid_label = valid_label.to(device)\n",
    "            output = model(input_ids, attention_mask)\n",
    "            loss = criterion(output, valid_label)\n",
    "            acc = (output.argmax(dim=1) == valid_label).sum().item()\n",
    "            \n",
    "            total_loss_valid += loss.item()\n",
    "            total_acc_valid += acc\n",
    "        \n",
    "    print(f'Epochs:{epoch + 1}|Train Loss:{total_loss_train / len(train_dataset): .4f}|Train Accuracy:{total_acc_train / len(train_dataset): .4f}|Val Loss:{total_loss_valid / len(valid_dataset): .4f}|Val Accuracy:{total_acc_valid / len(valid_dataset): .4f}')"
   ]
  },
  {
   "cell_type": "code",
   "execution_count": null,
   "id": "2254bc2d",
   "metadata": {},
   "outputs": [],
   "source": []
  }
 ],
 "metadata": {
  "kernelspec": {
   "display_name": "Python 3 (ipykernel)",
   "language": "python",
   "name": "python3"
  },
  "language_info": {
   "codemirror_mode": {
    "name": "ipython",
    "version": 3
   },
   "file_extension": ".py",
   "mimetype": "text/x-python",
   "name": "python",
   "nbconvert_exporter": "python",
   "pygments_lexer": "ipython3",
   "version": "3.9.7"
  }
 },
 "nbformat": 4,
 "nbformat_minor": 5
}
