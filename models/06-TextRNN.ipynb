{
 "cells": [
  {
   "cell_type": "code",
   "execution_count": 1,
   "id": "4d0f585b",
   "metadata": {
    "pycharm": {
     "name": "#%%\n"
    }
   },
   "outputs": [],
   "source": [
    "import torch\n",
    "import torchtext\n",
    "import torch.nn as nn\n",
    "from torch.utils.data import Dataset\n",
    "from torch.utils.data import DataLoader\n",
    "from torch.nn.utils.rnn import pad_sequence\n",
    "\n",
    "import pandas as pd\n",
    "import re\n",
    "from collections import Counter\n",
    "from tqdm.notebook import tqdm\n",
    "\n",
    "device = torch.device('cuda' if torch.cuda.is_available() else 'cpu')  # 能用gpu则用gpu"
   ]
  },
  {
   "cell_type": "markdown",
   "id": "bef204f9",
   "metadata": {},
   "source": [
    "# 1.准备数据"
   ]
  },
  {
   "cell_type": "code",
   "execution_count": 2,
   "id": "287b008a",
   "metadata": {},
   "outputs": [],
   "source": [
    "class MyDataset(Dataset):\n",
    "    def __init__(self, file_path, tokenizer, stopwords, sample=None):\n",
    "        df = pd.read_csv(file_path)\n",
    "        df = df.dropna().reset_index(drop=True)\n",
    "        if sample:\n",
    "            df = df.sample(sample).reset_index(drop=True)\n",
    "            \n",
    "        counter = Counter()\n",
    "        sentences = []\n",
    "        for title in tqdm(df['title']):\n",
    "            # 去除标点符号\n",
    "            title = re.sub(r'[^\\u4e00-\\u9fa5]', '', title)\n",
    "            tokens = [token for token in tokenizer(title.strip()) if token not in stopwords]\n",
    "            counter.update(tokens)\n",
    "            sentences.append(tokens)\n",
    "            \n",
    "        self.vocab = torchtext.vocab.vocab(counter, specials=['<unk>', '<pad>'])\n",
    "        self.vocab.set_default_index(self.vocab['<unk>'])\n",
    "\n",
    "        self.inputs = [self.vocab.lookup_indices(tokens) for tokens in sentences]\n",
    "        self.labels = [[label] for label in df['label'].values.tolist()]\n",
    "        self.n_class = len(df['label'].unique())\n",
    "\n",
    "    def __len__(self):\n",
    "        return len(self.labels)\n",
    "\n",
    "    def __getitem__(self, idx):\n",
    "        return torch.LongTensor(self.inputs[idx]), torch.LongTensor(self.labels[idx])"
   ]
  },
  {
   "cell_type": "code",
   "execution_count": 4,
   "id": "8b8cc891",
   "metadata": {},
   "outputs": [
    {
     "data": {
      "application/vnd.jupyter.widget-view+json": {
       "model_id": "634bfa30e1c34388860d26d00ed6ad79",
       "version_major": 2,
       "version_minor": 0
      },
      "text/plain": [
       "  0%|          | 0/10000 [00:00<?, ?it/s]"
      ]
     },
     "metadata": {},
     "output_type": "display_data"
    }
   ],
   "source": [
    "file_path = '../../datasets/THUCNews/train.csv'\n",
    "tokenizer = torchtext.data.utils.get_tokenizer('spacy', language='zh_core_web_sm')\n",
    "stopwords = [line.strip() for line in open('../stopwords/cn_stopwords.txt', 'r', encoding='utf-8').readlines()]\n",
    "dataset = MyDataset(file_path, tokenizer, stopwords, sample=10000)"
   ]
  },
  {
   "cell_type": "code",
   "execution_count": 5,
   "id": "e778af96",
   "metadata": {},
   "outputs": [],
   "source": [
    "def collate_fn(batch_data):\n",
    "    return pad_sequence([x for x, y in batch_data], padding_value=1), torch.tensor([y for x, y in batch_data]).unsqueeze(1)\n",
    "\n",
    "dataloader = DataLoader(dataset, batch_size=1024, shuffle=True, collate_fn=collate_fn)"
   ]
  },
  {
   "cell_type": "markdown",
   "id": "3e4e4844",
   "metadata": {},
   "source": [
    "# 2.构建模型"
   ]
  },
  {
   "cell_type": "code",
   "execution_count": 15,
   "id": "2024b8d2",
   "metadata": {},
   "outputs": [],
   "source": [
    "class TextRNN(nn.Module):\n",
    "    def __init__(self, vocab_size, embed_size, n_class, n_hidden):\n",
    "        super().__init__()\n",
    "        # 嵌入层\n",
    "        self.embedding = nn.Embedding(vocab_size, embed_size)\n",
    "        # rnn层，深度为1\n",
    "#         self.rnn = nn.RNN(embed_size, n_hidden, 1, batch_first=True)\n",
    "#         self.rnn = nn.LSTM(embed_size, n_hidden, 1, batch_first=True)  # LSTM\n",
    "        self.rnn = nn.LSTM(embed_size, n_hidden, 2, batch_first=True)  # 双向LSTM\n",
    "#         self.rnn = nn.GRU(embed_size, n_hidden, 1, batch_first=True)  # GRU\n",
    "#         self.rnn = nn.GRU(embed_size, n_hidden, 2, batch_first=True)  # 双向GRU\n",
    "        \n",
    "        # 激活函数\n",
    "        self.relu = nn.ReLU()\n",
    "        self.dropout = nn.Dropout(0.1)\n",
    "        # 输出头\n",
    "        self.fc = nn.Linear(n_hidden, n_class)\n",
    "\n",
    "    def forward(self, x):  # x: [batch_size * 句子长度]\n",
    "        x = x.permute(1, 0)\n",
    "        x = self.embedding(x)  # [batch_size * 句子长度 * embed_size]\n",
    "        out, _ = self.rnn(x)  # [batch_size * 句子长度 * n_hidden]\n",
    "        out = self.relu(out)\n",
    "        out = self.dropout(out)\n",
    "        logits = self.fc(out[:, -1, :])  # 全连接输出头，[batch_size * n_class]\n",
    "        return logits"
   ]
  },
  {
   "cell_type": "code",
   "execution_count": 16,
   "id": "e7f633e9",
   "metadata": {},
   "outputs": [
    {
     "data": {
      "text/plain": [
       "TextRNN(\n",
       "  (embedding): Embedding(26106, 256)\n",
       "  (rnn): LSTM(256, 256, num_layers=2, batch_first=True)\n",
       "  (relu): ReLU()\n",
       "  (dropout): Dropout(p=0.1, inplace=False)\n",
       "  (fc): Linear(in_features=256, out_features=14, bias=True)\n",
       ")"
      ]
     },
     "execution_count": 16,
     "metadata": {},
     "output_type": "execute_result"
    }
   ],
   "source": [
    "model = TextRNN(vocab_size=len(dataset.vocab), embed_size=256,\n",
    "                n_class=dataset.n_class, n_hidden=256).to(device)\n",
    "model"
   ]
  },
  {
   "cell_type": "markdown",
   "id": "43074c37",
   "metadata": {},
   "source": [
    "# 3.训练模型"
   ]
  },
  {
   "cell_type": "code",
   "execution_count": 17,
   "id": "101dc45d",
   "metadata": {
    "pycharm": {
     "name": "#%%\n"
    },
    "scrolled": true
   },
   "outputs": [
    {
     "name": "stdout",
     "output_type": "stream",
     "text": [
      "epoch: 1 , loss: 2.292954\n",
      "epoch: 2 , loss: 2.231810\n",
      "epoch: 3 , loss: 2.153455\n",
      "epoch: 4 , loss: 2.069539\n",
      "epoch: 5 , loss: 1.944275\n",
      "epoch: 6 , loss: 1.893471\n",
      "epoch: 7 , loss: 1.715781\n",
      "epoch: 8 , loss: 1.512021\n",
      "epoch: 9 , loss: 1.442197\n",
      "epoch: 10 , loss: 1.228781\n",
      "epoch: 11 , loss: 1.154802\n",
      "epoch: 12 , loss: 1.150409\n",
      "epoch: 13 , loss: 1.082944\n",
      "epoch: 14 , loss: 1.122523\n",
      "epoch: 15 , loss: 1.064640\n",
      "epoch: 16 , loss: 0.954334\n",
      "epoch: 17 , loss: 0.879725\n",
      "epoch: 18 , loss: 0.808169\n",
      "epoch: 19 , loss: 0.713263\n",
      "epoch: 20 , loss: 0.682258\n",
      "epoch: 21 , loss: 0.627411\n",
      "epoch: 22 , loss: 0.473250\n",
      "epoch: 23 , loss: 0.434862\n",
      "epoch: 24 , loss: 0.331124\n",
      "epoch: 25 , loss: 0.306136\n",
      "epoch: 26 , loss: 0.284353\n",
      "epoch: 27 , loss: 0.279979\n",
      "epoch: 28 , loss: 0.184840\n",
      "epoch: 29 , loss: 0.146139\n",
      "epoch: 30 , loss: 0.191492\n",
      "epoch: 31 , loss: 0.070637\n",
      "epoch: 32 , loss: 0.087986\n",
      "epoch: 33 , loss: 0.082556\n",
      "epoch: 34 , loss: 0.045362\n",
      "epoch: 35 , loss: 0.096893\n",
      "epoch: 36 , loss: 0.106768\n",
      "epoch: 37 , loss: 0.108829\n",
      "epoch: 38 , loss: 0.062615\n",
      "epoch: 39 , loss: 0.065388\n",
      "epoch: 40 , loss: 0.065574\n",
      "epoch: 41 , loss: 0.047188\n",
      "epoch: 42 , loss: 0.049290\n",
      "epoch: 43 , loss: 0.060338\n",
      "epoch: 44 , loss: 0.033514\n",
      "epoch: 45 , loss: 0.035461\n",
      "epoch: 46 , loss: 0.056219\n",
      "epoch: 47 , loss: 0.028623\n",
      "epoch: 48 , loss: 0.058611\n",
      "epoch: 49 , loss: 0.055064\n",
      "epoch: 50 , loss: 0.059678\n",
      "epoch: 51 , loss: 0.030424\n",
      "epoch: 52 , loss: 0.033942\n",
      "epoch: 53 , loss: 0.029557\n",
      "epoch: 54 , loss: 0.037713\n",
      "epoch: 55 , loss: 0.017421\n",
      "epoch: 56 , loss: 0.011369\n",
      "epoch: 57 , loss: 0.015602\n",
      "epoch: 58 , loss: 0.016048\n",
      "epoch: 59 , loss: 0.021288\n",
      "epoch: 60 , loss: 0.029146\n",
      "epoch: 61 , loss: 0.011355\n",
      "epoch: 62 , loss: 0.016949\n",
      "epoch: 63 , loss: 0.005350\n",
      "epoch: 64 , loss: 0.034205\n",
      "epoch: 65 , loss: 0.031117\n",
      "epoch: 66 , loss: 0.059598\n",
      "epoch: 67 , loss: 0.038656\n",
      "epoch: 68 , loss: 0.093861\n",
      "epoch: 69 , loss: 0.054523\n",
      "epoch: 70 , loss: 0.059683\n",
      "epoch: 71 , loss: 0.037126\n",
      "epoch: 72 , loss: 0.036345\n",
      "epoch: 73 , loss: 0.051904\n",
      "epoch: 74 , loss: 0.031815\n",
      "epoch: 75 , loss: 0.020296\n",
      "epoch: 76 , loss: 0.006874\n",
      "epoch: 77 , loss: 0.037854\n",
      "epoch: 78 , loss: 0.019378\n",
      "epoch: 79 , loss: 0.021767\n",
      "epoch: 80 , loss: 0.003955\n",
      "epoch: 81 , loss: 0.003128\n",
      "epoch: 82 , loss: 0.004139\n",
      "epoch: 83 , loss: 0.003063\n",
      "epoch: 84 , loss: 0.004119\n",
      "epoch: 85 , loss: 0.013469\n",
      "epoch: 86 , loss: 0.020498\n",
      "epoch: 87 , loss: 0.018620\n",
      "epoch: 88 , loss: 0.006727\n",
      "epoch: 89 , loss: 0.003688\n",
      "epoch: 90 , loss: 0.006058\n",
      "epoch: 91 , loss: 0.002185\n",
      "epoch: 92 , loss: 0.003147\n",
      "epoch: 93 , loss: 0.002166\n",
      "epoch: 94 , loss: 0.008500\n",
      "epoch: 95 , loss: 0.002009\n",
      "epoch: 96 , loss: 0.002144\n",
      "epoch: 97 , loss: 0.002060\n",
      "epoch: 98 , loss: 0.004297\n",
      "epoch: 99 , loss: 0.001907\n",
      "epoch: 100 , loss: 0.001964\n",
      "epoch: 101 , loss: 0.001757\n",
      "epoch: 102 , loss: 0.006813\n",
      "epoch: 103 , loss: 0.009719\n",
      "epoch: 104 , loss: 0.001765\n",
      "epoch: 105 , loss: 0.004494\n",
      "epoch: 106 , loss: 0.011484\n",
      "epoch: 107 , loss: 0.001757\n",
      "epoch: 108 , loss: 0.008157\n",
      "epoch: 109 , loss: 0.007356\n",
      "epoch: 110 , loss: 0.001498\n",
      "epoch: 111 , loss: 0.003507\n",
      "epoch: 112 , loss: 0.001394\n",
      "epoch: 113 , loss: 0.018453\n",
      "epoch: 114 , loss: 0.001308\n",
      "epoch: 115 , loss: 0.005672\n",
      "epoch: 116 , loss: 0.001676\n",
      "epoch: 117 , loss: 0.001290\n",
      "epoch: 118 , loss: 0.003218\n",
      "epoch: 119 , loss: 0.001590\n",
      "epoch: 120 , loss: 0.009949\n",
      "epoch: 121 , loss: 0.001215\n",
      "epoch: 122 , loss: 0.001471\n",
      "epoch: 123 , loss: 0.001172\n",
      "epoch: 124 , loss: 0.001475\n",
      "epoch: 125 , loss: 0.001135\n",
      "epoch: 126 , loss: 0.001227\n",
      "epoch: 127 , loss: 0.001205\n",
      "epoch: 128 , loss: 0.001590\n",
      "epoch: 129 , loss: 0.000975\n",
      "epoch: 130 , loss: 0.000951\n",
      "epoch: 131 , loss: 0.009114\n",
      "epoch: 132 , loss: 0.000877\n",
      "epoch: 133 , loss: 0.001016\n",
      "epoch: 134 , loss: 0.000876\n",
      "epoch: 135 , loss: 0.002088\n",
      "epoch: 136 , loss: 0.000943\n",
      "epoch: 137 , loss: 0.009431\n",
      "epoch: 138 , loss: 0.007776\n",
      "epoch: 139 , loss: 0.000760\n",
      "epoch: 140 , loss: 0.001865\n",
      "epoch: 141 , loss: 0.009167\n",
      "epoch: 142 , loss: 0.001002\n",
      "epoch: 143 , loss: 0.007853\n",
      "epoch: 144 , loss: 0.010316\n",
      "epoch: 145 , loss: 0.000921\n",
      "epoch: 146 , loss: 0.017329\n",
      "epoch: 147 , loss: 0.001414\n",
      "epoch: 148 , loss: 0.000957\n",
      "epoch: 149 , loss: 0.000691\n",
      "epoch: 150 , loss: 0.001648\n",
      "epoch: 151 , loss: 0.006309\n",
      "epoch: 152 , loss: 0.000670\n",
      "epoch: 153 , loss: 0.006532\n",
      "epoch: 154 , loss: 0.000626\n",
      "epoch: 155 , loss: 0.004772\n",
      "epoch: 156 , loss: 0.000636\n",
      "epoch: 157 , loss: 0.013170\n",
      "epoch: 158 , loss: 0.007692\n",
      "epoch: 159 , loss: 0.000959\n",
      "epoch: 160 , loss: 0.001151\n",
      "epoch: 161 , loss: 0.008855\n",
      "epoch: 162 , loss: 0.009287\n",
      "epoch: 163 , loss: 0.001123\n",
      "epoch: 164 , loss: 0.001469\n",
      "epoch: 165 , loss: 0.000894\n",
      "epoch: 166 , loss: 0.001426\n",
      "epoch: 167 , loss: 0.000649\n",
      "epoch: 168 , loss: 0.000802\n",
      "epoch: 169 , loss: 0.000562\n",
      "epoch: 170 , loss: 0.000817\n",
      "epoch: 171 , loss: 0.001014\n",
      "epoch: 172 , loss: 0.000993\n",
      "epoch: 173 , loss: 0.001602\n",
      "epoch: 174 , loss: 0.009058\n",
      "epoch: 175 , loss: 0.022363\n",
      "epoch: 176 , loss: 0.041893\n",
      "epoch: 177 , loss: 0.054515\n",
      "epoch: 178 , loss: 0.119126\n",
      "epoch: 179 , loss: 0.097402\n",
      "epoch: 180 , loss: 0.079002\n",
      "epoch: 181 , loss: 0.045154\n",
      "epoch: 182 , loss: 0.041421\n",
      "epoch: 183 , loss: 0.043708\n",
      "epoch: 184 , loss: 0.036568\n",
      "epoch: 185 , loss: 0.023955\n",
      "epoch: 186 , loss: 0.014373\n",
      "epoch: 187 , loss: 0.004229\n",
      "epoch: 188 , loss: 0.017252\n",
      "epoch: 189 , loss: 0.010987\n",
      "epoch: 190 , loss: 0.020075\n",
      "epoch: 191 , loss: 0.002554\n",
      "epoch: 192 , loss: 0.001554\n",
      "epoch: 193 , loss: 0.001411\n",
      "epoch: 194 , loss: 0.001310\n",
      "epoch: 195 , loss: 0.000954\n",
      "epoch: 196 , loss: 0.001519\n",
      "epoch: 197 , loss: 0.003034\n",
      "epoch: 198 , loss: 0.000871\n",
      "epoch: 199 , loss: 0.001201\n",
      "epoch: 200 , loss: 0.000948\n"
     ]
    }
   ],
   "source": [
    "optimizer = torch.optim.Adam(model.parameters(), lr=0.001)\n",
    "criterion = nn.CrossEntropyLoss().to(device)\n",
    "model.train()\n",
    "for epoch in range(200):\n",
    "    for feature, target in dataloader:\n",
    "        feature = feature.to(device)\n",
    "        target = target.to(device)\n",
    "        optimizer.zero_grad()\n",
    "        logits = model(feature)\n",
    "        loss = criterion(logits, target.squeeze())\n",
    "        loss.backward()\n",
    "        optimizer.step()\n",
    "    print('epoch:', epoch + 1, ', loss:', format(loss.item(), '.6f'))"
   ]
  },
  {
   "cell_type": "markdown",
   "id": "b22b264c",
   "metadata": {},
   "source": [
    "# 4.预测"
   ]
  },
  {
   "cell_type": "code",
   "execution_count": 18,
   "id": "83855c87",
   "metadata": {
    "pycharm": {
     "name": "#%%\n"
    }
   },
   "outputs": [],
   "source": [
    "model.eval()\n",
    "df_train = pd.read_csv('../../datasets/THUCNews/train.csv')\n",
    "df_test = pd.read_csv('../../datasets/THUCNews/test.csv')"
   ]
  },
  {
   "cell_type": "code",
   "execution_count": 20,
   "id": "91572ea6",
   "metadata": {
    "pycharm": {
     "name": "#%%\n"
    }
   },
   "outputs": [
    {
     "name": "stdout",
     "output_type": "stream",
     "text": [
      "前裁判因未领会领导暗示提前退役庆幸离开圈子 ||| actual: 体育 , predict: 体育\n",
      "市场份额降至升至图 ||| actual: 科技 , predict: 股票\n",
      "费根停摆危害显现临时工失业休城商业受创 ||| actual: 体育 , predict: 娱乐\n",
      "精简裁员传诺基亚已经取消 ||| actual: 科技 , predict: 股票\n",
      "美国参议院批准奥巴马政府首批成员名单 ||| actual: 时政 , predict: 股票\n",
      "外放效果一流五款专业音乐手机全选择 ||| actual: 科技 , predict: 教育\n",
      "英超荷兰杀手梅开二度利物浦近战胜逼曼联 ||| actual: 体育 , predict: 体育\n",
      "家用电器关注洗衣机消费升级 ||| actual: 股票 , predict: 科技\n",
      "售价合理功能出众元品牌手机推荐 ||| actual: 科技 , predict: 科技\n",
      "球衣销量排行科比湖双登顶火箭上榜 ||| actual: 体育 , predict: 娱乐\n"
     ]
    }
   ],
   "source": [
    "for i, row in df_test.sample(10).iterrows():\n",
    "    title = row['title']\n",
    "    actual = row['class']\n",
    "    title = re.sub(r'[^\\u4e00-\\u9fa5]', '', title)\n",
    "    tokens = [token for token in tokenizer(title.strip()) if token not in stopwords]\n",
    "    inputs = dataset.vocab.lookup_indices(tokens)\n",
    "    inputs = torch.LongTensor(inputs).unsqueeze(1).to(device)\n",
    "    predict = model(inputs)\n",
    "    predict_class = dict(zip(df_train['label'], df_train['class']))[predict.max(1)[1].item()]    \n",
    "    print(''.join(tokens), '||| actual:', actual, ', predict:', predict_class)"
   ]
  },
  {
   "cell_type": "code",
   "execution_count": null,
   "id": "f7e577e8",
   "metadata": {},
   "outputs": [],
   "source": []
  }
 ],
 "metadata": {
  "kernelspec": {
   "display_name": "Python 3 (ipykernel)",
   "language": "python",
   "name": "python3"
  },
  "language_info": {
   "codemirror_mode": {
    "name": "ipython",
    "version": 3
   },
   "file_extension": ".py",
   "mimetype": "text/x-python",
   "name": "python",
   "nbconvert_exporter": "python",
   "pygments_lexer": "ipython3",
   "version": "3.9.13"
  }
 },
 "nbformat": 4,
 "nbformat_minor": 5
}
