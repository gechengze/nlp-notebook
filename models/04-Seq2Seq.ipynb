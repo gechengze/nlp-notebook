{
 "cells": [
  {
   "cell_type": "code",
   "execution_count": 1,
   "id": "b0672b23",
   "metadata": {},
   "outputs": [],
   "source": [
    "import pandas as pd\n",
    "from nltk.tokenize import word_tokenize\n",
    "from collections import Counter\n",
    "from tqdm import tqdm\n",
    "from sklearn.model_selection import train_test_split\n",
    "\n",
    "import torchtext\n",
    "import torch\n",
    "from torch import nn\n",
    "from torch.nn.utils.rnn import pad_sequence\n",
    "from torch.utils.data import DataLoader, Dataset\n",
    "\n",
    "device = torch.device('cuda' if torch.cuda.is_available else 'cpu')"
   ]
  },
  {
   "cell_type": "code",
   "execution_count": 2,
   "id": "fe57bd6a",
   "metadata": {},
   "outputs": [],
   "source": [
    "def build_vocab(df):\n",
    "    counter = Counter()\n",
    "    for en in df['en']:\n",
    "        counter.update(word_tokenize(en))\n",
    "    en_vocab = torchtext.vocab.vocab(counter, specials=['<unk>', '<pad>', '<bos>', '<eos>'])\n",
    "    \n",
    "    counter = Counter()\n",
    "    for zh in df['zh']:\n",
    "        counter.update(list(zh))\n",
    "    zh_vocab = torchtext.vocab.vocab(counter, specials=['<unk>', '<pad>', '<bos>', '<eos>'])\n",
    "    \n",
    "    return {'en': en_vocab, 'zh': zh_vocab}"
   ]
  },
  {
   "cell_type": "code",
   "execution_count": 3,
   "id": "fb34d918",
   "metadata": {},
   "outputs": [],
   "source": [
    "df = pd.read_csv('../../datasets/cmn.txt', sep='\\t', header=None, names=['en', 'zh'])\n",
    "vocab = build_vocab(df)"
   ]
  },
  {
   "cell_type": "code",
   "execution_count": 4,
   "id": "14863913",
   "metadata": {},
   "outputs": [],
   "source": [
    "class Zh2En(Dataset):\n",
    "    def __init__(self, df, vocab):\n",
    "        super().__init__()\n",
    "        self.vocab = vocab\n",
    "        self.source = []\n",
    "        self.target = []\n",
    "        for zh in df['zh']:\n",
    "            self.source.append(list(zh))\n",
    "        for en in df['en']:\n",
    "            self.target.append(word_tokenize(en))\n",
    "            \n",
    "    def __len__(self):\n",
    "        return len(self.target)\n",
    "    \n",
    "    def __getitem__(self, idx):\n",
    "        zh = [self.vocab['zh']['<bos>']] + self.vocab['zh'].lookup_indices(self.source[idx]) + [self.vocab['zh']['<eos>']]\n",
    "        en = [self.vocab['en']['<bos>']] + self.vocab['en'].lookup_indices(self.target[idx]) + [self.vocab['en']['<eos>']]\n",
    "        return torch.LongTensor(zh), torch.LongTensor(en)\n",
    "                "
   ]
  },
  {
   "cell_type": "code",
   "execution_count": 5,
   "id": "4f8dc247",
   "metadata": {},
   "outputs": [],
   "source": [
    "df_train, df_valid = train_test_split(df, test_size=0.3)\n",
    "train_dataset = Zh2En(df_train, vocab)\n",
    "valid_dataset = Zh2En(df_valid, vocab)"
   ]
  },
  {
   "cell_type": "code",
   "execution_count": 6,
   "id": "ef563478",
   "metadata": {},
   "outputs": [],
   "source": [
    "def collate_fn(batch):\n",
    "    zh_batch, en_batch = [], []\n",
    "    for zh, en in batch:\n",
    "        zh_batch.append(zh)\n",
    "        en_batch.append(en)\n",
    "    zh_batch = pad_sequence(zh_batch, padding_value=1, batch_first=True)\n",
    "    en_batch = pad_sequence(en_batch, padding_value=1, batch_first=True)\n",
    "    return zh_batch, en_batch"
   ]
  },
  {
   "cell_type": "code",
   "execution_count": 7,
   "id": "3b64417a",
   "metadata": {},
   "outputs": [],
   "source": [
    "train_dataloader = DataLoader(train_dataset, batch_size=128,\n",
    "                              shuffle=True, drop_last=True, collate_fn=collate_fn)\n",
    "valid_dataloader = DataLoader(valid_dataset, batch_size=128,\n",
    "                              shuffle=False, drop_last=True, collate_fn=collate_fn)"
   ]
  },
  {
   "cell_type": "code",
   "execution_count": 8,
   "id": "f8655385",
   "metadata": {},
   "outputs": [],
   "source": [
    "class Encoder(nn.Module):\n",
    "    def __init__(self, vocab_size, embedding_size, hidden_size):\n",
    "        super().__init__()\n",
    "        self.embedding = nn.Embedding(vocab_size, embedding_size)\n",
    "        self.lstm = nn.LSTM(embedding_size, hidden_size, batch_first=True)\n",
    "        self.dropout = nn.Dropout()\n",
    "        \n",
    "    def forward(self, x):\n",
    "        embedded = self.embedding(x)\n",
    "        output, (h, c) = self.lstm(embedded)\n",
    "        output = self.dropout(output)\n",
    "        \n",
    "        return output, (h, c)\n",
    "    \n",
    "class Decoder(nn.Module):\n",
    "    def __init__(self, vocab_size, embedding_size, hidden_size):\n",
    "        super().__init__()\n",
    "        self.vocab_size = vocab_size\n",
    "        self.embedding = nn.Embedding(vocab_size, embedding_size)\n",
    "        self.lstm = nn.LSTM(embedding_size, hidden_size, batch_first=True)\n",
    "        self.dropout = nn.Dropout()\n",
    "        self.fc = nn.Linear(hidden_size, vocab_size)\n",
    "        \n",
    "    def forward(self, x, h, c):\n",
    "        embedded = self.embedding(x)\n",
    "        output, (h, c) = self.lstm(embedded, (h, c))\n",
    "        output = self.dropout(output)\n",
    "        return self.fc(output), (h, c)\n",
    "    \n",
    "class Seq2Seq(nn.Module):\n",
    "    def __init__(self, encoder, decoder):\n",
    "        super().__init__()\n",
    "        self.encoder = encoder\n",
    "        self.decoder = decoder\n",
    "        \n",
    "    def forward(self, source, target):\n",
    "        enc_out, (h, c) = self.encoder(source)\n",
    "        batch_size = target.shape[0]\n",
    "        num_step = target.shape[1]\n",
    "        output = torch.zeros(batch_size, num_step, self.decoder.vocab_size, device=device)\n",
    "        y_t = target[:, 0]\n",
    "        \n",
    "        for t in range(1, num_step):\n",
    "            y_t.unsqueeze_(1)\n",
    "            y_t, (h, c) = self.decoder(y_t, h, c)\n",
    "            y_t.squeeze_(1)\n",
    "            output[:, t, :] = y_t\n",
    "            y_t = y_t.argmax(1)\n",
    "            \n",
    "        return output"
   ]
  },
  {
   "cell_type": "code",
   "execution_count": 9,
   "id": "75548068",
   "metadata": {},
   "outputs": [
    {
     "name": "stdout",
     "output_type": "stream",
     "text": [
      "Seq2Seq(\n",
      "  (encoder): Encoder(\n",
      "    (embedding): Embedding(3441, 128)\n",
      "    (lstm): LSTM(128, 128, batch_first=True)\n",
      "    (dropout): Dropout(p=0.5, inplace=False)\n",
      "  )\n",
      "  (decoder): Decoder(\n",
      "    (embedding): Embedding(6976, 128)\n",
      "    (lstm): LSTM(128, 128, batch_first=True)\n",
      "    (dropout): Dropout(p=0.5, inplace=False)\n",
      "    (fc): Linear(in_features=128, out_features=6976, bias=True)\n",
      "  )\n",
      ")\n"
     ]
    }
   ],
   "source": [
    "encoder = Encoder(vocab_size=len(vocab['zh']), embedding_size=128, hidden_size=128)\n",
    "decoder = Decoder(vocab_size=len(vocab['en']), embedding_size=128, hidden_size=128)\n",
    "model = Seq2Seq(encoder, decoder).to(device)\n",
    "print(model)\n",
    "\n",
    "criterion = nn.CrossEntropyLoss(ignore_index=1)\n",
    "optimizer = torch.optim.Adam(model.parameters(), lr=1e-3)"
   ]
  },
  {
   "cell_type": "code",
   "execution_count": 10,
   "id": "28d69425",
   "metadata": {
    "scrolled": true
   },
   "outputs": [
    {
     "name": "stderr",
     "output_type": "stream",
     "text": [
      "Failed to detect the name of this notebook, you can set it manually with the WANDB_NOTEBOOK_NAME environment variable to enable code saving.\n",
      "\u001b[34m\u001b[1mwandb\u001b[0m: Currently logged in as: \u001b[33mgechengze\u001b[0m. Use \u001b[1m`wandb login --relogin`\u001b[0m to force relogin\n"
     ]
    },
    {
     "data": {
      "text/html": [
       "Tracking run with wandb version 0.13.11"
      ],
      "text/plain": [
       "<IPython.core.display.HTML object>"
      ]
     },
     "metadata": {},
     "output_type": "display_data"
    },
    {
     "data": {
      "text/html": [
       "Run data is saved locally in <code>/home/gechengze/project/nlp-notebook/models/wandb/run-20230310_144554-ii1l2h1d</code>"
      ],
      "text/plain": [
       "<IPython.core.display.HTML object>"
      ]
     },
     "metadata": {},
     "output_type": "display_data"
    },
    {
     "data": {
      "text/html": [
       "Syncing run <strong><a href='https://wandb.ai/gechengze/seq2seq/runs/ii1l2h1d' target=\"_blank\">apricot-field-5</a></strong> to <a href='https://wandb.ai/gechengze/seq2seq' target=\"_blank\">Weights & Biases</a> (<a href='https://wandb.me/run' target=\"_blank\">docs</a>)<br/>"
      ],
      "text/plain": [
       "<IPython.core.display.HTML object>"
      ]
     },
     "metadata": {},
     "output_type": "display_data"
    },
    {
     "data": {
      "text/html": [
       " View project at <a href='https://wandb.ai/gechengze/seq2seq' target=\"_blank\">https://wandb.ai/gechengze/seq2seq</a>"
      ],
      "text/plain": [
       "<IPython.core.display.HTML object>"
      ]
     },
     "metadata": {},
     "output_type": "display_data"
    },
    {
     "data": {
      "text/html": [
       " View run at <a href='https://wandb.ai/gechengze/seq2seq/runs/ii1l2h1d' target=\"_blank\">https://wandb.ai/gechengze/seq2seq/runs/ii1l2h1d</a>"
      ],
      "text/plain": [
       "<IPython.core.display.HTML object>"
      ]
     },
     "metadata": {},
     "output_type": "display_data"
    },
    {
     "name": "stderr",
     "output_type": "stream",
     "text": [
      "100%|██████████| 50/50 [01:42<00:00,  2.04s/it]\n"
     ]
    }
   ],
   "source": [
    "import wandb\n",
    "wandb.init(project='seq2seq')\n",
    "\n",
    "\n",
    "for epoch in tqdm(range(50)):\n",
    "    model.train()\n",
    "    total_train_loss = 0\n",
    "    for x, y in train_dataloader:\n",
    "        x = x.to(device)\n",
    "        y = y.to(device)\n",
    "        output = model(x, y)\n",
    "        loss = criterion(output[:, 1:, :].reshape(-1, output.shape[-1]), y[:, 1:].reshape(-1))\n",
    "        total_train_loss += loss.item()\n",
    "        \n",
    "        optimizer.zero_grad()\n",
    "        loss.backward()\n",
    "        optimizer.step()\n",
    "    epoch_train_loss = total_train_loss / len(train_dataloader.dataset)\n",
    "        \n",
    "    model.eval()\n",
    "    total_valid_loss = 0\n",
    "    for x, y in valid_dataloader:\n",
    "        x = x.to(device)\n",
    "        y = y.to(device)\n",
    "        output = model(x, y)\n",
    "        loss = criterion(output[:, 1:, :].reshape(-1, output.shape[-1]), y[:, 1:].reshape(-1))\n",
    "        total_valid_loss += loss.item()\n",
    "    epoch_valid_loss = total_valid_loss / len(valid_dataloader.dataset)\n",
    "    \n",
    "    wandb.log({'train loss': epoch_train_loss, 'valid loss': epoch_valid_loss})"
   ]
  },
  {
   "cell_type": "code",
   "execution_count": null,
   "id": "9b5ee540",
   "metadata": {},
   "outputs": [],
   "source": []
  }
 ],
 "metadata": {
  "kernelspec": {
   "display_name": "Python 3 (ipykernel)",
   "language": "python",
   "name": "python3"
  },
  "language_info": {
   "codemirror_mode": {
    "name": "ipython",
    "version": 3
   },
   "file_extension": ".py",
   "mimetype": "text/x-python",
   "name": "python",
   "nbconvert_exporter": "python",
   "pygments_lexer": "ipython3",
   "version": "3.9.13"
  }
 },
 "nbformat": 4,
 "nbformat_minor": 5
}
