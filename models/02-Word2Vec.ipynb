{
 "cells": [
  {
   "cell_type": "code",
   "execution_count": null,
   "id": "333942d1",
   "metadata": {},
   "outputs": [],
   "source": [
    "import pandas as pd\n",
    "import re\n",
    "import wandb\n",
    "import jieba\n",
    "from collections import Counter\n",
    "from tqdm import tqdm\n",
    "from sklearn.model_selection import train_test_split\n",
    "\n",
    "import torch\n",
    "from torch import nn\n",
    "import torchtext\n",
    "from torch.utils.data import Dataset, DataLoader\n",
    "\n",
    "device = torch.device('cuda' if torch.cuda.is_available else 'cpu')"
   ]
  },
  {
   "cell_type": "code",
   "execution_count": null,
   "id": "059c500e",
   "metadata": {},
   "outputs": [],
   "source": [
    "def build_vocab(df, stopwords):\n",
    "    counter = Counter()\n",
    "    print('building vocab...')\n",
    "    for title in tqdm(df['title']):\n",
    "        title = re.sub(r'[^\\u4e00-\\u9fff]', '', title)\n",
    "        tokens = [token for token in jieba.cut(title.strip()) if token not in stopwords]\n",
    "        counter.update(tokens)\n",
    "    vocab = torchtext.vocab.vocab(counter, specials=['<unk>'])\n",
    "    return vocab"
   ]
  },
  {
   "cell_type": "code",
   "execution_count": null,
   "id": "8289bd26",
   "metadata": {},
   "outputs": [],
   "source": [
    "df = pd.read_csv('../../datasets/THUCNews/title.csv')\n",
    "\n",
    "with open('../stopwords/cn_stopwords.txt') as f:\n",
    "    stopwords = [line.strip() for line in f.readlines()]\n",
    "\n",
    "vocab = build_vocab(df, stopwords)"
   ]
  },
  {
   "cell_type": "code",
   "execution_count": null,
   "id": "d67f2ef9",
   "metadata": {},
   "outputs": [],
   "source": [
    "class MyDataset(Dataset):\n",
    "    def __init__(self, df, vocab, stopwords):\n",
    "        super().__init__()\n",
    "        print('building dataset...')\n",
    "        self.inputs = []\n",
    "        self.labels = []\n",
    "        for title in tqdm(df['title']):\n",
    "            title = re.sub(r'[^\\u4e00-\\u9fff]', '', title)\n",
    "            tokens = [token for token in jieba.cut(title.strip()) if token not in stopwords]\n",
    "            for i in range(1, len(tokens) - 1):\n",
    "                self.inputs.append([vocab[tokens[i]]])\n",
    "                self.labels.append([vocab[tokens[i - 1]]])\n",
    "                self.inputs.append([vocab[tokens[i]]])\n",
    "                self.inputs.append([vocab[tokens[i + 1]]])\n",
    "    \n",
    "    def __len__(self):\n",
    "        return len(self.labels)\n",
    "    \n",
    "    def __getitem__(self, idx):\n",
    "        return torch.LongTensor(self.inputs[idx]), torch.LongTensor(self.labels[idx])"
   ]
  },
  {
   "cell_type": "code",
   "execution_count": null,
   "id": "71a1c808",
   "metadata": {},
   "outputs": [],
   "source": [
    "df_train, df_valid = train_test_split(df, test_size=0.3)"
   ]
  },
  {
   "cell_type": "code",
   "execution_count": null,
   "id": "bcf6739b",
   "metadata": {},
   "outputs": [],
   "source": [
    "train_dataset = MyDataset(df_train, vocab, stopwords)\n",
    "valid_dataset = MyDataset(df_valid, vocab, stopwords)"
   ]
  },
  {
   "cell_type": "code",
   "execution_count": null,
   "id": "01ae5c00",
   "metadata": {},
   "outputs": [],
   "source": [
    "train_dataloader = DataLoader(train_dataset, batch_size=1024, shuffle=True, drop_last=True)\n",
    "valid_dataloader = DataLoader(valid_dataset, batch_size=1024, shuffle=False, drop_last=True)"
   ]
  },
  {
   "cell_type": "code",
   "execution_count": null,
   "id": "c600e339",
   "metadata": {},
   "outputs": [],
   "source": [
    "x, y = next(iter(train_dataloader))"
   ]
  },
  {
   "cell_type": "code",
   "execution_count": null,
   "id": "8aad392c",
   "metadata": {},
   "outputs": [],
   "source": [
    "x.shape, y.shape"
   ]
  },
  {
   "cell_type": "code",
   "execution_count": null,
   "id": "8bec323f",
   "metadata": {},
   "outputs": [],
   "source": [
    "class Word2Vec(nn.Module):\n",
    "    def __init__(self, vocab_size, hidden_size):\n",
    "        super().__init__()\n",
    "        self.embedding = nn.Embedding(vocab_size, hidden_size)\n",
    "        self.relu = nn.ReLU()\n",
    "        self.fc = nn.Linear(hidden_size, vocab_size)\n",
    "        \n",
    "    def forward(self, x):\n",
    "        embedded = self.embedding(x)\n",
    "        output = self.fc(self.relu(embedded))\n",
    "        return output\n",
    "        "
   ]
  },
  {
   "cell_type": "code",
   "execution_count": null,
   "id": "988ee8c2",
   "metadata": {},
   "outputs": [],
   "source": [
    "model = Word2Vec(vocab_size=len(vocab), hidden_size=128)\n",
    "model = model.to(device)\n",
    "criterion = nn.CrossEntropyLoss()\n",
    "optimizer = torch.optim.Adam(model.parameters(), lr=1e-3)"
   ]
  },
  {
   "cell_type": "code",
   "execution_count": null,
   "id": "8c3b5e9b",
   "metadata": {},
   "outputs": [],
   "source": [
    "wandb.init(project='Word2Vec')\n",
    "\n",
    "for epoch in range(50):\n",
    "    model.train()\n",
    "    total_train_loss = 0\n",
    "    num_x = 0\n",
    "    for x, y in tqdm(train_dataloader):\n",
    "        x = x.to(device)\n",
    "        y = y.to(device)\n",
    "        num_x += x.shape[0]\n",
    "        output = model(x)\n",
    "        loss = criterion(output.squeeze_(), y.squeeze_())\n",
    "        total_train_loss += loss.item()\n",
    "\n",
    "        optimizer.zero_grad()\n",
    "        loss.backward()\n",
    "        optimizer.step()\n",
    "    train_loss = total_train_loss / num_x\n",
    "    \n",
    "    model.eval()\n",
    "    total_valid_loss = 0\n",
    "    num_x = 0\n",
    "    for x, y in tqdm(valid_dataloader):\n",
    "        x = x.to(device)\n",
    "        y = y.to(device)\n",
    "        num_x += x.shape[0]\n",
    "        output = model(x)\n",
    "        loss = criterion(output.squeeze_(), y.squeeze_())\n",
    "        total_valid_loss += loss.item()\n",
    "    valid_loss = total_valid_loss / num_x\n",
    "    \n",
    "    wandb.log({'train loss': train_loss, 'valid loss': valid_loss })"
   ]
  },
  {
   "cell_type": "code",
   "execution_count": null,
   "id": "35117043",
   "metadata": {},
   "outputs": [],
   "source": []
  }
 ],
 "metadata": {
  "kernelspec": {
   "display_name": "Python 3 (ipykernel)",
   "language": "python",
   "name": "python3"
  },
  "language_info": {
   "codemirror_mode": {
    "name": "ipython",
    "version": 3
   },
   "file_extension": ".py",
   "mimetype": "text/x-python",
   "name": "python",
   "nbconvert_exporter": "python",
   "pygments_lexer": "ipython3",
   "version": "3.9.13"
  }
 },
 "nbformat": 4,
 "nbformat_minor": 5
}
