{
 "cells": [
  {
   "cell_type": "code",
   "execution_count": 3,
   "id": "3da45dec",
   "metadata": {
    "pycharm": {
     "name": "#%%\n"
    }
   },
   "outputs": [],
   "source": [
    "import torch\n",
    "import torchtext\n",
    "import torch.nn as nn\n",
    "import torch.optim as optim\n",
    "from torch.utils.data import Dataset\n",
    "from torch.utils.data import DataLoader\n",
    "\n",
    "import jieba\n",
    "import re\n",
    "import pandas as pd\n",
    "from tqdm.notebook import tqdm\n",
    "from collections import Counter"
   ]
  },
  {
   "cell_type": "markdown",
   "id": "19250b3e",
   "metadata": {},
   "source": [
    "# 1.准备数据 "
   ]
  },
  {
   "cell_type": "code",
   "execution_count": 18,
   "id": "d47df5b8",
   "metadata": {
    "pycharm": {
     "name": "#%%\n"
    }
   },
   "outputs": [],
   "source": [
    "# 构造数据集\n",
    "class MyDataset(Dataset):\n",
    "    def __init__(self, file_path, stopwords, sample=None):\n",
    "        df = pd.read_csv(file_path).dropna().reset_index(drop=True)\n",
    "        \n",
    "        if sample:\n",
    "            df = df.sample(sample).reset_index(drop=True)\n",
    "            \n",
    "        counter = Counter()\n",
    "        sentences = []\n",
    "        \n",
    "        for title in tqdm(df['title']):   \n",
    "            title = re.sub(r'[^\\u4e00-\\u9fa5]', '', title)  # 去除标点符号\n",
    "            tokens = [token for token in jieba.cut(title.strip()) if token not in stopwords]\n",
    "            counter.update(tokens)\n",
    "            sentences.append(tokens)\n",
    "        self.vocab = torchtext.vocab.vocab(counter, specials=['<unk>', '<pad>'])\n",
    "        \n",
    "        # 构造输入和输出，输入是每三个词，输出是这三个词的下一个词，也就是简单的n-gram语言模型（n=3）\n",
    "        self.inputs = []\n",
    "        self.labels = []\n",
    "        for sen in sentences:\n",
    "            for i in range(len(sen) - 3):\n",
    "                self.inputs.append(self.vocab.lookup_indices(sen[i: i + 3]))\n",
    "                self.labels.append([self.vocab[sen[i + 3]]])\n",
    "\n",
    "    def __len__(self):\n",
    "        return len(self.labels)\n",
    "\n",
    "    def __getitem__(self, idx):\n",
    "        # 返回一个x和一个y\n",
    "        return torch.LongTensor(self.inputs[idx]), torch.LongTensor(self.labels[idx])"
   ]
  },
  {
   "cell_type": "code",
   "execution_count": 19,
   "id": "56b70003",
   "metadata": {},
   "outputs": [
    {
     "data": {
      "application/vnd.jupyter.widget-view+json": {
       "model_id": "e763b801452f4119953a8c12f473376e",
       "version_major": 2,
       "version_minor": 0
      },
      "text/plain": [
       "  0%|          | 0/10000 [00:00<?, ?it/s]"
      ]
     },
     "metadata": {},
     "output_type": "display_data"
    }
   ],
   "source": [
    "file_path = '../../datasets/THUCNews/train.csv'\n",
    "stopwords = [line.strip() for line in open('../stopwords/cn_stopwords.txt', 'r', encoding='utf-8').readlines()]\n",
    "\n",
    "dataset = MyDataset(file_path, stopwords, sample=10000)\n",
    "dataloader = DataLoader(dataset=dataset, batch_size=128, shuffle=True)"
   ]
  },
  {
   "cell_type": "markdown",
   "id": "523b21d9",
   "metadata": {},
   "source": [
    "# 2.构建模型"
   ]
  },
  {
   "cell_type": "code",
   "execution_count": 20,
   "id": "08065633",
   "metadata": {
    "pycharm": {
     "name": "#%%\n"
    }
   },
   "outputs": [],
   "source": [
    "class NNLM(nn.Module):\n",
    "    def __init__(self, vocab_size, embed_size, hidden_size, n_step):\n",
    "        super().__init__()\n",
    "        self.embed_size = embed_size\n",
    "        self.n_step = n_step\n",
    "        # vocab size投影到到embed size的空间中\n",
    "        self.embedding = nn.Embedding(vocab_size, embed_size)\n",
    "        # 构造一个隐藏层，输入大小为 步长 * embed size，输入大小为hidden_size\n",
    "        # 将hidden_size投影回vocab size大小\n",
    "        self.fc = nn.Sequential(\n",
    "            nn.Linear(n_step * embed_size, hidden_size),\n",
    "            nn.Tanh(),\n",
    "            nn.Linear(hidden_size, vocab_size)\n",
    "        )\n",
    "\n",
    "    def forward(self, x):\n",
    "        x = self.embedding(x)\n",
    "        x = x.reshape(-1, self.n_step * self.embed_size)\n",
    "        y = self.fc(x)\n",
    "        return y"
   ]
  },
  {
   "cell_type": "code",
   "execution_count": 23,
   "id": "4bd74330",
   "metadata": {
    "pycharm": {
     "name": "#%%\n"
    }
   },
   "outputs": [
    {
     "name": "stdout",
     "output_type": "stream",
     "text": [
      "NNLM(\n",
      "  (embedding): Embedding(23447, 256)\n",
      "  (fc): Sequential(\n",
      "    (0): Linear(in_features=768, out_features=256, bias=True)\n",
      "    (1): Tanh()\n",
      "    (2): Linear(in_features=256, out_features=23447, bias=True)\n",
      "  )\n",
      ")\n"
     ]
    }
   ],
   "source": [
    "# 初始化模型\n",
    "model = NNLM(vocab_size=len(dataset.vocab), embed_size=256, hidden_size=256, n_step=3)\n",
    "criterion = nn.CrossEntropyLoss()\n",
    "optimizer = optim.Adam(model.parameters(), lr=1e-3)\n",
    "\n",
    "# 查看模型\n",
    "print(model)"
   ]
  },
  {
   "cell_type": "markdown",
   "id": "01238105",
   "metadata": {},
   "source": [
    "# 3.训练模型"
   ]
  },
  {
   "cell_type": "code",
   "execution_count": 25,
   "id": "90246afc",
   "metadata": {
    "pycharm": {
     "name": "#%%\n"
    },
    "scrolled": true
   },
   "outputs": [
    {
     "data": {
      "application/vnd.jupyter.widget-view+json": {
       "model_id": "8a496e9dc0a14f9abe4620dd93c51c31",
       "version_major": 2,
       "version_minor": 0
      },
      "text/plain": [
       "  0%|          | 0/350 [00:00<?, ?it/s]"
      ]
     },
     "metadata": {},
     "output_type": "display_data"
    },
    {
     "name": "stdout",
     "output_type": "stream",
     "text": [
      "epoch: 1 loss = 8.726168\n"
     ]
    },
    {
     "data": {
      "application/vnd.jupyter.widget-view+json": {
       "model_id": "9161591cab2e4e7b902102c0e6831589",
       "version_major": 2,
       "version_minor": 0
      },
      "text/plain": [
       "  0%|          | 0/350 [00:00<?, ?it/s]"
      ]
     },
     "metadata": {},
     "output_type": "display_data"
    },
    {
     "name": "stdout",
     "output_type": "stream",
     "text": [
      "epoch: 2 loss = 6.425567\n"
     ]
    },
    {
     "data": {
      "application/vnd.jupyter.widget-view+json": {
       "model_id": "74529ca588a243689758b3cdad2f5d87",
       "version_major": 2,
       "version_minor": 0
      },
      "text/plain": [
       "  0%|          | 0/350 [00:00<?, ?it/s]"
      ]
     },
     "metadata": {},
     "output_type": "display_data"
    },
    {
     "name": "stdout",
     "output_type": "stream",
     "text": [
      "epoch: 3 loss = 4.155524\n"
     ]
    },
    {
     "data": {
      "application/vnd.jupyter.widget-view+json": {
       "model_id": "b2d81d28882943319f572ee7692de48b",
       "version_major": 2,
       "version_minor": 0
      },
      "text/plain": [
       "  0%|          | 0/350 [00:00<?, ?it/s]"
      ]
     },
     "metadata": {},
     "output_type": "display_data"
    },
    {
     "name": "stdout",
     "output_type": "stream",
     "text": [
      "epoch: 4 loss = 2.272000\n"
     ]
    },
    {
     "data": {
      "application/vnd.jupyter.widget-view+json": {
       "model_id": "3d2fd54e4aa24c4e9bbf740494125e83",
       "version_major": 2,
       "version_minor": 0
      },
      "text/plain": [
       "  0%|          | 0/350 [00:00<?, ?it/s]"
      ]
     },
     "metadata": {},
     "output_type": "display_data"
    },
    {
     "name": "stdout",
     "output_type": "stream",
     "text": [
      "epoch: 5 loss = 0.927720\n"
     ]
    },
    {
     "data": {
      "application/vnd.jupyter.widget-view+json": {
       "model_id": "1bfc8cfcd7424cdc8e105daecbd0dd32",
       "version_major": 2,
       "version_minor": 0
      },
      "text/plain": [
       "  0%|          | 0/350 [00:00<?, ?it/s]"
      ]
     },
     "metadata": {},
     "output_type": "display_data"
    },
    {
     "name": "stdout",
     "output_type": "stream",
     "text": [
      "epoch: 6 loss = 0.679108\n"
     ]
    },
    {
     "data": {
      "application/vnd.jupyter.widget-view+json": {
       "model_id": "e7555884f3e7430588fd6653ebad5606",
       "version_major": 2,
       "version_minor": 0
      },
      "text/plain": [
       "  0%|          | 0/350 [00:00<?, ?it/s]"
      ]
     },
     "metadata": {},
     "output_type": "display_data"
    },
    {
     "name": "stdout",
     "output_type": "stream",
     "text": [
      "epoch: 7 loss = 0.391473\n"
     ]
    },
    {
     "data": {
      "application/vnd.jupyter.widget-view+json": {
       "model_id": "eeb92b15adbe483a9613646edbd87171",
       "version_major": 2,
       "version_minor": 0
      },
      "text/plain": [
       "  0%|          | 0/350 [00:00<?, ?it/s]"
      ]
     },
     "metadata": {},
     "output_type": "display_data"
    },
    {
     "name": "stdout",
     "output_type": "stream",
     "text": [
      "epoch: 8 loss = 0.125423\n"
     ]
    },
    {
     "data": {
      "application/vnd.jupyter.widget-view+json": {
       "model_id": "68edacdb4b9d4e72bdacfaef9f1dc13f",
       "version_major": 2,
       "version_minor": 0
      },
      "text/plain": [
       "  0%|          | 0/350 [00:00<?, ?it/s]"
      ]
     },
     "metadata": {},
     "output_type": "display_data"
    },
    {
     "name": "stdout",
     "output_type": "stream",
     "text": [
      "epoch: 9 loss = 0.083280\n"
     ]
    },
    {
     "data": {
      "application/vnd.jupyter.widget-view+json": {
       "model_id": "c721884baae44f6fb09093fdf99ddcfc",
       "version_major": 2,
       "version_minor": 0
      },
      "text/plain": [
       "  0%|          | 0/350 [00:00<?, ?it/s]"
      ]
     },
     "metadata": {},
     "output_type": "display_data"
    },
    {
     "name": "stdout",
     "output_type": "stream",
     "text": [
      "epoch: 10 loss = 0.046886\n"
     ]
    },
    {
     "data": {
      "application/vnd.jupyter.widget-view+json": {
       "model_id": "f9170277332a4fb3ab38a4ff83c068fe",
       "version_major": 2,
       "version_minor": 0
      },
      "text/plain": [
       "  0%|          | 0/350 [00:00<?, ?it/s]"
      ]
     },
     "metadata": {},
     "output_type": "display_data"
    },
    {
     "name": "stdout",
     "output_type": "stream",
     "text": [
      "epoch: 11 loss = 0.097157\n"
     ]
    },
    {
     "data": {
      "application/vnd.jupyter.widget-view+json": {
       "model_id": "2628a69a4de7483b9d9a8a675bbf8b49",
       "version_major": 2,
       "version_minor": 0
      },
      "text/plain": [
       "  0%|          | 0/350 [00:00<?, ?it/s]"
      ]
     },
     "metadata": {},
     "output_type": "display_data"
    },
    {
     "name": "stdout",
     "output_type": "stream",
     "text": [
      "epoch: 12 loss = 0.157771\n"
     ]
    },
    {
     "data": {
      "application/vnd.jupyter.widget-view+json": {
       "model_id": "5148e799ec204eefaaed9e86b85ed4da",
       "version_major": 2,
       "version_minor": 0
      },
      "text/plain": [
       "  0%|          | 0/350 [00:00<?, ?it/s]"
      ]
     },
     "metadata": {},
     "output_type": "display_data"
    },
    {
     "name": "stdout",
     "output_type": "stream",
     "text": [
      "epoch: 13 loss = 0.021354\n"
     ]
    },
    {
     "data": {
      "application/vnd.jupyter.widget-view+json": {
       "model_id": "98e6e079a25140a9ab487cbea079d0a8",
       "version_major": 2,
       "version_minor": 0
      },
      "text/plain": [
       "  0%|          | 0/350 [00:00<?, ?it/s]"
      ]
     },
     "metadata": {},
     "output_type": "display_data"
    },
    {
     "name": "stdout",
     "output_type": "stream",
     "text": [
      "epoch: 14 loss = 0.074169\n"
     ]
    },
    {
     "data": {
      "application/vnd.jupyter.widget-view+json": {
       "model_id": "be4a623f94204e088960557b2244c132",
       "version_major": 2,
       "version_minor": 0
      },
      "text/plain": [
       "  0%|          | 0/350 [00:00<?, ?it/s]"
      ]
     },
     "metadata": {},
     "output_type": "display_data"
    },
    {
     "name": "stdout",
     "output_type": "stream",
     "text": [
      "epoch: 15 loss = 0.072097\n"
     ]
    },
    {
     "data": {
      "application/vnd.jupyter.widget-view+json": {
       "model_id": "f35a900d27674517ad7375a7c6a88230",
       "version_major": 2,
       "version_minor": 0
      },
      "text/plain": [
       "  0%|          | 0/350 [00:00<?, ?it/s]"
      ]
     },
     "metadata": {},
     "output_type": "display_data"
    },
    {
     "name": "stdout",
     "output_type": "stream",
     "text": [
      "epoch: 16 loss = 0.014989\n"
     ]
    },
    {
     "data": {
      "application/vnd.jupyter.widget-view+json": {
       "model_id": "0b09c6ef8490478bba4fd2fae5b14f03",
       "version_major": 2,
       "version_minor": 0
      },
      "text/plain": [
       "  0%|          | 0/350 [00:00<?, ?it/s]"
      ]
     },
     "metadata": {},
     "output_type": "display_data"
    },
    {
     "name": "stdout",
     "output_type": "stream",
     "text": [
      "epoch: 17 loss = 0.017214\n"
     ]
    },
    {
     "data": {
      "application/vnd.jupyter.widget-view+json": {
       "model_id": "ba255876a92b4d958cfbfceea6b01849",
       "version_major": 2,
       "version_minor": 0
      },
      "text/plain": [
       "  0%|          | 0/350 [00:00<?, ?it/s]"
      ]
     },
     "metadata": {},
     "output_type": "display_data"
    },
    {
     "name": "stdout",
     "output_type": "stream",
     "text": [
      "epoch: 18 loss = 0.008359\n"
     ]
    },
    {
     "data": {
      "application/vnd.jupyter.widget-view+json": {
       "model_id": "0bd11ae009944281b8bf2582ead670da",
       "version_major": 2,
       "version_minor": 0
      },
      "text/plain": [
       "  0%|          | 0/350 [00:00<?, ?it/s]"
      ]
     },
     "metadata": {},
     "output_type": "display_data"
    },
    {
     "name": "stdout",
     "output_type": "stream",
     "text": [
      "epoch: 19 loss = 0.059392\n"
     ]
    },
    {
     "data": {
      "application/vnd.jupyter.widget-view+json": {
       "model_id": "a88edfc330bd4583be0c4d89f395913b",
       "version_major": 2,
       "version_minor": 0
      },
      "text/plain": [
       "  0%|          | 0/350 [00:00<?, ?it/s]"
      ]
     },
     "metadata": {},
     "output_type": "display_data"
    },
    {
     "name": "stdout",
     "output_type": "stream",
     "text": [
      "epoch: 20 loss = 0.006141\n"
     ]
    }
   ],
   "source": [
    "# 训练20个epoch\n",
    "for epoch in range(20):\n",
    "    for train_input, train_label in tqdm(dataloader):\n",
    "        output = model(train_input)\n",
    "        loss = criterion(output, train_label.squeeze_())\n",
    "        optimizer.zero_grad()\n",
    "        loss.backward()\n",
    "        optimizer.step()\n",
    "    print('epoch:', epoch + 1, 'loss =', '{:.6f}'.format(loss))"
   ]
  },
  {
   "cell_type": "markdown",
   "id": "fdb8e9da",
   "metadata": {},
   "source": [
    "# 4.预测"
   ]
  },
  {
   "cell_type": "code",
   "execution_count": 26,
   "id": "b550cb4c",
   "metadata": {
    "pycharm": {
     "name": "#%%\n"
    }
   },
   "outputs": [
    {
     "name": "stdout",
     "output_type": "stream",
     "text": [
      "钲 设计 婚纱 -> 签\n",
      "美国 男子 冒充 -> 警察\n",
      "势 公益 进行 -> 到底\n",
      "油价 后市 仍存 -> 下跌\n",
      "子弟学校 千名 学生 -> 断电\n",
      "王祖贤 恋情 多次 -> 放\n",
      "股指 冲高 招行 -> 领涨\n",
      "爆笑 不止 矢口否认 -> 传闻\n",
      "员工 电脑公司 索赔 -> 亿美元\n",
      "裁判 末位 淘汰制 -> 赛后\n",
      "大行予 国泰 目标价 -> 至元\n",
      "湖北 男子 找回 -> 失踪\n",
      "中东 政策 演讲 -> 回应\n",
      "著名 教练 孙 -> 广林\n",
      "坦顿 詹姆斯 带来 -> 经验\n",
      "名城 执法 遭 -> 小贩\n",
      "万名 志愿者 监督 -> 网络\n",
      "全 互联网 手机 -> 摩托罗拉\n",
      "签 年长 约 -> 违约金\n",
      "一季度 成本 压力 -> 继续\n",
      "大学 年 艺术类 -> 专业\n",
      "料全 年度 业绩 -> 录\n",
      "低功耗 系列 惠普 -> 售元\n",
      "日常 简单 七件 -> 事\n",
      "忠 潜入 家中 -> 刺死\n",
      "北京 陕西 穗 -> 京津\n",
      "独显 屏 联想 -> 本降\n",
      "高职 征求 志愿 -> 资格\n",
      "朝鲜 拟 发射 -> 约\n",
      "武汉 挑战赛 享受 -> 比赛\n",
      "纷飞 文艺 女 -> 青年\n",
      "曼城 米兰 大将 -> 出价\n",
      "中招 入围 分数线 -> 划定\n",
      "双卡 双待 纽曼 -> 直板\n",
      "公牛 开拓者 擒灰熊 -> 轻取\n",
      "装载 蔗糖 货船 -> 沉没\n",
      "报名 截止日 回复 -> 提出\n",
      "朝鲜 输给 大雨 -> 输给\n",
      "给予 瑞金 矿业 -> 买入\n",
      "诺基亚 中国 通信业 -> 进行\n",
      "游戏场 完全 交战 -> 记录\n",
      "认定 贪污受贿 万 -> 家属\n",
      "专用 龙头 新品 -> 上市\n",
      "宋佳获 最具 个性 -> 魅力\n",
      "垃圾邮件 数量 再次 -> 回升\n",
      "胜桑普 告捷 热那亚 -> 客场\n",
      "年 地球 热销 -> 款\n",
      "深基指 失守 创新 -> 低\n",
      "借贷 万亿 金管局 -> 警示\n",
      "猪梦 三国 娱乐 -> 杯\n",
      "亚锦赛 中国 日本 -> 朱芳雨\n",
      "三种 单身 风格 -> 组图\n",
      "市场 熔盛 重工 -> 选择\n",
      "艾弗森 挑错 保镖 -> 惹\n",
      "市 方案 提振 -> 全球\n",
      "学术 型 研究生 -> 减招\n",
      "传奇 神秘 楼王 -> 引发\n",
      "加冕 世界 女子 -> 短道\n",
      "地产 蓄势 反攻 -> 量\n",
      "莲花路 站 中午 -> 突发\n",
      "午 盘道 指月 -> 首破\n",
      "巴勒莫 官方 宣布 -> 夺下\n",
      "率队 创亚 预赛 -> 最差\n",
      "不死用 王一梅 封死 -> 韩\n",
      "宣传 薛凯琪 三 -> 可怕\n"
     ]
    }
   ],
   "source": [
    "# 使用训练好的模型进行预测\n",
    "# 模型输出之后取argmax，再用idx2token转回单词，查看效果，预测结果有上下文关系\n",
    "predict = model(train_input).data.max(1, keepdim=True)[1].squeeze_().tolist()\n",
    "input_list = train_input.tolist()\n",
    "for i in range(len(input_list)):\n",
    "    print(dataset.vocab.get_itos()[input_list[i][0]] + ' ' +  \n",
    "          dataset.vocab.get_itos()[input_list[i][1]] + ' ' + \n",
    "          dataset.vocab.get_itos()[input_list[i][2]] + ' -> ' + \n",
    "          dataset.vocab.get_itos()[predict[i]])"
   ]
  },
  {
   "cell_type": "code",
   "execution_count": null,
   "id": "c11d73fe",
   "metadata": {
    "pycharm": {
     "name": "#%%\n"
    }
   },
   "outputs": [],
   "source": []
  }
 ],
 "metadata": {
  "kernelspec": {
   "display_name": "Python 3 (ipykernel)",
   "language": "python",
   "name": "python3"
  },
  "language_info": {
   "codemirror_mode": {
    "name": "ipython",
    "version": 3
   },
   "file_extension": ".py",
   "mimetype": "text/x-python",
   "name": "python",
   "nbconvert_exporter": "python",
   "pygments_lexer": "ipython3",
   "version": "3.9.12"
  }
 },
 "nbformat": 4,
 "nbformat_minor": 5
}
