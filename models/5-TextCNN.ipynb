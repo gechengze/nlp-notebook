{
 "cells": [
  {
   "cell_type": "code",
   "execution_count": 1,
   "id": "9b2b39d4",
   "metadata": {},
   "outputs": [],
   "source": [
    "import os\n",
    "os.environ['KMP_DUPLICATE_LIB_OK'] = 'True'\n",
    "\n",
    "import torch\n",
    "import torchtext\n",
    "import torch.nn as nn\n",
    "from torch.utils.data import Dataset\n",
    "from torch.utils.data import DataLoader\n",
    "from torch.nn.utils.rnn import pad_sequence\n",
    "\n",
    "import pandas as pd\n",
    "import re\n",
    "from collections import Counter\n",
    "from tqdm.notebook import tqdm\n",
    "\n",
    "device = torch.device('cuda' if torch.cuda.is_available() else 'cpu')  # 能用gpu则用gpu"
   ]
  },
  {
   "cell_type": "markdown",
   "id": "445cad71",
   "metadata": {},
   "source": [
    "# 1.准备数据"
   ]
  },
  {
   "cell_type": "code",
   "execution_count": 2,
   "id": "31b60ec2",
   "metadata": {},
   "outputs": [],
   "source": [
    "class MyDataset(Dataset):\n",
    "    def __init__(self, file_path, tokenizer, stopwords, debug=True):\n",
    "        df = pd.read_csv(file_path)\n",
    "        df = df.dropna().reset_index(drop=True)\n",
    "        if debug:\n",
    "            df = df.sample(2000).reset_index(drop=True)\n",
    "        counter = Counter()\n",
    "        sentences = []\n",
    "        for title in tqdm(df['title']):\n",
    "            # 去除标点符号\n",
    "            title = re.sub(r'[^\\u4e00-\\u9fa5]', '', title)\n",
    "            tokens = [token for token in tokenizer(title.strip()) if token not in stopwords]\n",
    "            counter.update(tokens)\n",
    "            sentences.append(tokens)\n",
    "        self.vocab = torchtext.vocab.vocab(counter, specials=['<unk>', '<pad>'])\n",
    "        self.vocab.set_default_index(self.vocab['<unk>'])\n",
    "\n",
    "        self.inputs = [self.vocab.lookup_indices(tokens) for tokens in sentences]\n",
    "        self.labels = [[label] for label in df['label'].values.tolist()]\n",
    "        self.n_class = len(df['label'].unique())\n",
    "\n",
    "    def __len__(self):\n",
    "        return len(self.labels)\n",
    "\n",
    "    def __getitem__(self, idx):\n",
    "        return torch.LongTensor(self.inputs[idx]), torch.LongTensor(self.labels[idx])"
   ]
  },
  {
   "cell_type": "code",
   "execution_count": 3,
   "id": "534d11c1",
   "metadata": {
    "scrolled": true
   },
   "outputs": [
    {
     "data": {
      "application/vnd.jupyter.widget-view+json": {
       "model_id": "f3d41aa39fa64b738968ce7fd3b77650",
       "version_major": 2,
       "version_minor": 0
      },
      "text/plain": [
       "  0%|          | 0/501644 [00:00<?, ?it/s]"
      ]
     },
     "metadata": {},
     "output_type": "display_data"
    }
   ],
   "source": [
    "file_path = '../data/THUCNews/train.csv'\n",
    "tokenizer = torchtext.data.utils.get_tokenizer('spacy', language='zh_core_web_sm')\n",
    "stopwords = [line.strip() for line in open('../stopwords/cn_stopwords.txt', 'r', encoding='utf-8').readlines()]\n",
    "dataset = MyDataset(file_path, tokenizer, stopwords, debug=False)"
   ]
  },
  {
   "cell_type": "code",
   "execution_count": 4,
   "id": "5cb8aade",
   "metadata": {},
   "outputs": [],
   "source": [
    "def collate_fn(batch_data):\n",
    "    return pad_sequence([x for x, y in batch_data], padding_value=1), torch.tensor([y for x, y in batch_data]).unsqueeze(1)\n",
    "\n",
    "dataloader = DataLoader(dataset, batch_size=1024, shuffle=True, collate_fn=collate_fn)"
   ]
  },
  {
   "cell_type": "markdown",
   "id": "d34e1d59",
   "metadata": {},
   "source": [
    "# 2.构建模型"
   ]
  },
  {
   "cell_type": "code",
   "execution_count": 5,
   "id": "89951945",
   "metadata": {},
   "outputs": [
    {
     "name": "stdout",
     "output_type": "stream",
     "text": [
      "TextCNN(\n",
      "  (embedding): Embedding(332814, 256)\n",
      "  (conv): Conv2d(1, 16, kernel_size=(3, 256), stride=(1, 1))\n",
      "  (dropout): Dropout(p=0.2, inplace=False)\n",
      "  (fc): Linear(in_features=16, out_features=14, bias=True)\n",
      ")\n"
     ]
    }
   ],
   "source": [
    "class TextCNN(nn.Module):\n",
    "    def __init__(self, vocab_size, embed_size, n_class):\n",
    "        super().__init__()\n",
    "        # 嵌入层\n",
    "        self.embedding = nn.Embedding(vocab_size, embed_size)\n",
    "        # 输入通道为1，卷成16通道输出，卷积核大小为(3*embed_size)，3类似于n-gram，可以换\n",
    "        self.conv = nn.Conv2d(1, 16, (3, embed_size))\n",
    "        self.dropout = nn.Dropout(0.2)\n",
    "        # 输出头\n",
    "        self.fc = nn.Linear(16, n_class)\n",
    "\n",
    "    def forward(self, x):  # x: [batch_size * 句子长度]\n",
    "        x = x.permute(1, 0)\n",
    "        x = self.embedding(x)  # [batch_size * 句子长度 * embed_size]\n",
    "        x = x.unsqueeze(1)  # [batch_size * 1 * 句子长度 * embed_size]，加一个维度，用于卷积层的输入\n",
    "        x = self.conv(x)  # [batch_size * 16(卷积层输出通道数) * 8(卷积后的宽) * 1(卷积后的高)]\n",
    "        x = x.squeeze(3)  # [batch_size * 16(卷积层输出通道数) * 8(卷积后的宽)] 压缩大小为1的维度\n",
    "        x = torch.relu(x)  # 激活函数，尺寸不变\n",
    "        x = torch.max_pool1d(x, x.size(2))  # 在每个通道做最大池化，[batch_size * 16(卷积层输出通道数) * 1]\n",
    "        x = x.squeeze(2)  # 压缩维度2，[batch_size * 16(卷积层输出通道数)]\n",
    "        x = self.dropout(x)  # dropout，尺寸不变\n",
    "        logits = self.fc(x)  # 全连接输出头，[batch_size * n_class]\n",
    "        return logits\n",
    "\n",
    "\n",
    "model = TextCNN(vocab_size=len(dataset.vocab), embed_size=256, n_class=dataset.n_class).to(device)\n",
    "print(model)"
   ]
  },
  {
   "cell_type": "markdown",
   "id": "59172418",
   "metadata": {},
   "source": [
    "# 3.训练模型"
   ]
  },
  {
   "cell_type": "code",
   "execution_count": 6,
   "id": "17b19d88",
   "metadata": {
    "scrolled": true
   },
   "outputs": [
    {
     "name": "stdout",
     "output_type": "stream",
     "text": [
      "epoch: 1 , loss: 1.2081621885299683\n",
      "epoch: 2 , loss: 0.8597992658615112\n",
      "epoch: 3 , loss: 0.6249662041664124\n",
      "epoch: 4 , loss: 0.566360354423523\n",
      "epoch: 5 , loss: 0.5031101107597351\n",
      "epoch: 6 , loss: 0.48120951652526855\n",
      "epoch: 7 , loss: 0.45753684639930725\n",
      "epoch: 8 , loss: 0.38434842228889465\n",
      "epoch: 9 , loss: 0.3268248438835144\n",
      "epoch: 10 , loss: 0.2881065309047699\n",
      "epoch: 11 , loss: 0.307202011346817\n",
      "epoch: 12 , loss: 0.26004788279533386\n",
      "epoch: 13 , loss: 0.25084903836250305\n",
      "epoch: 14 , loss: 0.2770867943763733\n",
      "epoch: 15 , loss: 0.22041885554790497\n",
      "epoch: 16 , loss: 0.19741909205913544\n",
      "epoch: 17 , loss: 0.2005310356616974\n",
      "epoch: 18 , loss: 0.18645475804805756\n",
      "epoch: 19 , loss: 0.2028864324092865\n",
      "epoch: 20 , loss: 0.19458307325839996\n"
     ]
    }
   ],
   "source": [
    "optimizer = torch.optim.Adam(model.parameters(), lr=0.001)\n",
    "criterion = nn.CrossEntropyLoss()\n",
    "model.train()\n",
    "for epoch in range(20):\n",
    "    for feature, target in dataloader:\n",
    "        feature = feature.to(device)\n",
    "        target = target.to(device)\n",
    "        optimizer.zero_grad()\n",
    "        logits = model(feature)\n",
    "        loss = criterion(logits, target.squeeze())\n",
    "        loss.backward()\n",
    "        optimizer.step()\n",
    "    print('epoch:', epoch + 1, ', loss:', loss.item())"
   ]
  },
  {
   "cell_type": "markdown",
   "id": "92e47a9d",
   "metadata": {},
   "source": [
    "# 4.预测"
   ]
  },
  {
   "cell_type": "code",
   "execution_count": 9,
   "id": "886b6d91",
   "metadata": {},
   "outputs": [],
   "source": [
    "model.eval()\n",
    "df_train = pd.read_csv('../data/THUCNews/train.csv')\n",
    "df_test = pd.read_csv('../data/THUCNews/test.csv')"
   ]
  },
  {
   "cell_type": "code",
   "execution_count": 10,
   "id": "506ae33b",
   "metadata": {},
   "outputs": [
    {
     "name": "stdout",
     "output_type": "stream",
     "text": [
      "灰熊 闪电 宣布 新 主帅 昔日 冠军队 球员 接手 教鞭 ||| actual: 体育 , predict: 体育\n",
      "香港 增加 未能 如期 交收 证券 罚款 ||| actual: 股票 , predict: 股票\n",
      "鲁能 转会 挂牌 政策 独树 中 超 铁板凳 用武之地 ||| actual: 体育 , predict: 体育\n",
      "老人 出院 儿子 关在 家门 外 小时 图 ||| actual: 社会 , predict: 社会\n",
      "收储 结束 产能 重启 空头 压制 沪 铝 ||| actual: 财经 , predict: 股票\n",
      "韩国 电讯 苹果 洽谈 引进 ||| actual: 科技 , predict: 科技\n",
      "年 甘肃省 在职 人员 硕士 联考 岁考 生来 赶考 ||| actual: 教育 , predict: 教育\n",
      "瑞宝 壁纸 价格 统一 服务 统一 保障 统一 树 行业 标杆 ||| actual: 家居 , predict: 家居\n",
      "规划 餐厅 区域 展示机 图 ||| actual: 家居 , predict: 家居\n",
      "餐厅 鲜花 美食 精致 情调 图 ||| actual: 家居 , predict: 家居\n"
     ]
    }
   ],
   "source": [
    "for i, row in df_test.sample(10).iterrows():\n",
    "    title = row['title']\n",
    "    actual = row['class']\n",
    "    title = re.sub(r'[^\\u4e00-\\u9fa5]', '', title)\n",
    "    tokens = [token for token in tokenizer(title.strip()) if token not in stopwords]\n",
    "    inputs = dataset.vocab.lookup_indices(tokens)\n",
    "    inputs = torch.LongTensor(inputs).unsqueeze(1).to(device)\n",
    "    predict = model(inputs)\n",
    "    predict_class = dict(zip(df_train['label'], df_train['class']))[predict.max(1)[1].item()]    \n",
    "    print(' '.join(tokens), '||| actual:', actual, ', predict:', predict_class)"
   ]
  },
  {
   "cell_type": "code",
   "execution_count": null,
   "id": "25031b63",
   "metadata": {},
   "outputs": [],
   "source": []
  }
 ],
 "metadata": {
  "kernelspec": {
   "display_name": "Python 3 (ipykernel)",
   "language": "python",
   "name": "python3"
  },
  "language_info": {
   "codemirror_mode": {
    "name": "ipython",
    "version": 3
   },
   "file_extension": ".py",
   "mimetype": "text/x-python",
   "name": "python",
   "nbconvert_exporter": "python",
   "pygments_lexer": "ipython3",
   "version": "3.9.12"
  }
 },
 "nbformat": 4,
 "nbformat_minor": 5
}
