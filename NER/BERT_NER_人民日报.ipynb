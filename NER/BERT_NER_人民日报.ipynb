{
 "cells": [
  {
   "cell_type": "code",
   "execution_count": null,
   "id": "5db7f6b7",
   "metadata": {},
   "outputs": [],
   "source": [
    "import os\n",
    "import numpy as np\n",
    "from tqdm.notebook import tqdm\n",
    "from tqdm.contrib import tzip\n",
    "\n",
    "import torch\n",
    "from torch.utils.data import Dataset\n",
    "from torch.utils.data import DataLoader\n",
    "from torch.nn.utils.rnn import pad_sequence\n",
    "\n",
    "from transformers import BertTokenizer\n",
    "from transformers import AutoModelForMaskedLM"
   ]
  },
  {
   "cell_type": "code",
   "execution_count": null,
   "id": "e2d09f6b",
   "metadata": {},
   "outputs": [],
   "source": [
    "class PD2014NER(Dataset):\n",
    "    def __init__(self, source_path, target_path, bio2idx, tokenizer, max_len=512):\n",
    "        super(Dataset, self).__init__()\n",
    "        \n",
    "        sources = open(source_path, 'r').readlines()  # 原始句子\n",
    "        targets = open(target_path, 'r').readlines()  # BIO类别\n",
    "\n",
    "        self.sentences = []\n",
    "        self.labels = []\n",
    "        \n",
    "        for sentence, sentence_bio in tzip(sources, targets):\n",
    "            if not sentence.strip() or len(sentence) > max_len - 2:\n",
    "                continue\n",
    "            self.sentences.append(tokenizer.encode(sentence.strip().split(' ')))\n",
    "            self.labels.append([bio2idx[bio] for bio in sentence_bio.strip().split(' ')])\n",
    "            \n",
    "    def __getitem__(self, idx):\n",
    "        return (torch.LongTensor(self.sentences[idx]), torch.LongTensor(self.labels[idx]))\n",
    "    \n",
    "    def __len__(self):\n",
    "        return len(self.labels)"
   ]
  },
  {
   "cell_type": "code",
   "execution_count": null,
   "id": "43c10dd3",
   "metadata": {
    "scrolled": true
   },
   "outputs": [],
   "source": [
    "source_path = '../../datasets/NER/pd2014/source_BIO_2014_cropus.txt'\n",
    "target_path = '../../datasets/NER/pd2014/target_BIO_2014_cropus.txt'\n",
    "\n",
    "BIO = ['O', 'B_LOC', 'I_LOC', 'B_ORG', 'I_ORG', 'B_PER', 'I_PER', 'B_T', 'I_T']\n",
    "bio2idx = {v: k for k, v in enumerate(BIO)}\n",
    "idx2bio = {k: v for k, v in enumerate(BIO)}\n",
    "\n",
    "tokenizer = BertTokenizer.from_pretrained('../../models/bert-base-chinese/')\n",
    "\n",
    "dataset = PD2014NER(source_path, target_path, bio2idx, tokenizer)"
   ]
  },
  {
   "cell_type": "code",
   "execution_count": null,
   "id": "1f333546",
   "metadata": {},
   "outputs": [],
   "source": [
    "num_class = len(BIO)\n",
    "\n",
    "model = AutoModelForMaskedLM.from_pretrained('../../models/bert-base-chinese/')\n",
    "model.cls.predictions.decoder = torch.nn.Linear(768, num_class, bias=True)"
   ]
  },
  {
   "cell_type": "code",
   "execution_count": null,
   "id": "1acf687a",
   "metadata": {
    "scrolled": true
   },
   "outputs": [],
   "source": [
    "def collate_fn(data_batch):\n",
    "    x_batch, y_batch = [], []\n",
    "    for x, y in data_batch:\n",
    "        x_batch.append(x)\n",
    "        y_batch.append(y)\n",
    "    x_batch = pad_sequence(x_batch, padding_value=tokenizer.pad_token_id, batch_first=True)\n",
    "    y_batch = pad_sequence(y_batch, padding_value=0, batch_first=True)\n",
    "    return x_batch, y_batch\n",
    "\n",
    "dataloader = DataLoader(dataset, batch_size=16, shuffle=True, collate_fn=collate_fn)\n",
    "\n",
    "optimizer = torch.optim.Adam(params=model.parameters(), lr=1e-3)\n",
    "criterion = torch.nn.CrossEntropyLoss()\n",
    "\n",
    "for epoch in range(20):\n",
    "    total_loss_train = 0\n",
    "    for x, y in dataloader:\n",
    "        logits = model(x).logits\n",
    "        logits = logits[:, 1: y.shape[1] + 1, :]  # 首尾的[CLS]和[SEP]去掉\n",
    "        loss = criterion(logits.reshape(-1, num_class), y.reshape(-1))\n",
    "        \n",
    "        model.zero_grad()\n",
    "        loss.backward()\n",
    "        optimizer.step()\n",
    "        \n",
    "        print(loss.item())\n",
    "        total_loss_train += loss.item()\n",
    "        \n",
    "    print(f'Epochs:{epoch + 1}|Train Loss:{total_loss_train / len(dataset): .4f}')\n"
   ]
  },
  {
   "cell_type": "code",
   "execution_count": null,
   "id": "b20bd9b5",
   "metadata": {},
   "outputs": [],
   "source": []
  }
 ],
 "metadata": {
  "kernelspec": {
   "display_name": "Python 3 (ipykernel)",
   "language": "python",
   "name": "python3"
  },
  "language_info": {
   "codemirror_mode": {
    "name": "ipython",
    "version": 3
   },
   "file_extension": ".py",
   "mimetype": "text/x-python",
   "name": "python",
   "nbconvert_exporter": "python",
   "pygments_lexer": "ipython3",
   "version": "3.9.12"
  }
 },
 "nbformat": 4,
 "nbformat_minor": 5
}
